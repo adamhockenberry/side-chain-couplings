{
 "cells": [
  {
   "cell_type": "code",
   "execution_count": 1,
   "metadata": {
    "collapsed": false
   },
   "outputs": [],
   "source": [
    "%matplotlib inline"
   ]
  },
  {
   "cell_type": "code",
   "execution_count": 2,
   "metadata": {
    "collapsed": false
   },
   "outputs": [],
   "source": [
    "import pandas as pd\n",
    "import numpy as np\n",
    "from Bio import SeqIO\n",
    "\n",
    "from matplotlib import pyplot as plt\n",
    "from scipy import stats\n",
    "\n",
    "import glob\n",
    "\n",
    "import datetime\n",
    "year = datetime.date.today().year\n",
    "month = datetime.date.today().month\n",
    "import os\n",
    "figs_dir = '../Results/Figures/{}_{:02}'.format(year, month)\n",
    "if not os.path.exists(figs_dir):\n",
    "    os.makedirs(figs_dir)"
   ]
  },
  {
   "cell_type": "code",
   "execution_count": 3,
   "metadata": {
    "collapsed": true
   },
   "outputs": [],
   "source": [
    "import matplotlib\n",
    "matplotlib.rcParams['xtick.labelsize'] = 12\n",
    "matplotlib.rcParams['ytick.labelsize'] = 12\n",
    "matplotlib.rcParams['axes.labelsize'] = 12\n",
    "matplotlib.rcParams['axes.titlesize'] = 12\n",
    "\n",
    "matplotlib.rcParams['axes.grid'] = True\n",
    "matplotlib.rcParams['grid.color'] = '0.5'\n",
    "matplotlib.rcParams['grid.linewidth'] = '0.5'\n",
    "\n",
    "matplotlib.rcParams['axes.edgecolor'] = '0.25'\n",
    "matplotlib.rcParams['xtick.color'] = '0'\n",
    "matplotlib.rcParams['ytick.color'] = '0'\n",
    "\n",
    "matplotlib.rcParams['xtick.major.width'] = 2\n",
    "matplotlib.rcParams['ytick.major.width'] = 2\n",
    "matplotlib.rcParams['ytick.major.size'] = 5\n",
    "matplotlib.rcParams['xtick.major.size'] = 5\n",
    "matplotlib.rcParams['axes.spines.right'] = True\n",
    "matplotlib.rcParams['axes.spines.left'] = True\n",
    "matplotlib.rcParams['axes.spines.top'] = True\n",
    "matplotlib.rcParams['axes.spines.bottom'] = True\n",
    "\n",
    "\n",
    "matplotlib.rcParams['font.family'] = 'sans-serif'\n",
    "matplotlib.rcParams['font.sans-serif'] = 'Helvetica Neue'\n",
    "matplotlib.rcParams['font.weight']='ultralight'\n",
    "matplotlib.rcParams['axes.axisbelow'] = True"
   ]
  },
  {
   "cell_type": "code",
   "execution_count": 4,
   "metadata": {
    "collapsed": true
   },
   "outputs": [],
   "source": [
    "from supporting_functions import *"
   ]
  },
  {
   "cell_type": "markdown",
   "metadata": {},
   "source": [
    "# Read in basic information"
   ]
  },
  {
   "cell_type": "code",
   "execution_count": 5,
   "metadata": {
    "collapsed": false
   },
   "outputs": [],
   "source": [
    "prot_name = '3ip0'\n",
    "distance_cutoff = 8.0\n",
    "primary_chain_distance = 12\n",
    "\n",
    "contact_file_loc = '../Data/Contact_matrices/{}_SCcenter_contacts.csv'.format(prot_name)\n",
    "df_contacts = pd.read_csv(contact_file_loc, index_col=0)\n",
    "df_contacts, df_contacts_stack = process_contacts_df(df_contacts, primary_chain_distance)\n",
    "\n",
    "\n",
    "records = list(SeqIO.parse('../../Structural_analysis/ecoli_all_pdbs/wt_fastas/{}.fasta'.format(prot_name), 'fasta'))\n",
    "assert len(records)==1\n",
    "seq = str(records[0].seq)\n",
    "\n",
    "df_couplings = pd.read_csv('../Data/Simulated_couplings/3ip0_ALL_thresh=0.5_nMuts=3160_nSeqs=3000.couplings', sep=' ', header=None)\n",
    "df_couplings, df_couplings_pivot, df_couplings_stack = process_couplings_df(df_couplings, df_contacts, primary_chain_distance)\n",
    "merged_df = merge_contacts_couplings(df_contacts_stack, df_couplings_stack, seq)"
   ]
  },
  {
   "cell_type": "code",
   "execution_count": 6,
   "metadata": {
    "collapsed": false
   },
   "outputs": [
    {
     "data": {
      "text/html": [
       "<div>\n",
       "<style>\n",
       "    .dataframe thead tr:only-child th {\n",
       "        text-align: right;\n",
       "    }\n",
       "\n",
       "    .dataframe thead th {\n",
       "        text-align: left;\n",
       "    }\n",
       "\n",
       "    .dataframe tbody tr th {\n",
       "        vertical-align: top;\n",
       "    }\n",
       "</style>\n",
       "<table border=\"1\" class=\"dataframe\">\n",
       "  <thead>\n",
       "    <tr style=\"text-align: right;\">\n",
       "      <th></th>\n",
       "      <th>aa1_loc</th>\n",
       "      <th>aa2_loc</th>\n",
       "      <th>distance</th>\n",
       "      <th>primary_chain_distance</th>\n",
       "      <th>couplings</th>\n",
       "      <th>aa1_aa</th>\n",
       "      <th>aa2_aa</th>\n",
       "    </tr>\n",
       "  </thead>\n",
       "  <tbody>\n",
       "    <tr>\n",
       "      <th>10424</th>\n",
       "      <td>122</td>\n",
       "      <td>152</td>\n",
       "      <td>4.061325</td>\n",
       "      <td>30</td>\n",
       "      <td>1.756403</td>\n",
       "      <td>G</td>\n",
       "      <td>F</td>\n",
       "    </tr>\n",
       "    <tr>\n",
       "      <th>3962</th>\n",
       "      <td>31</td>\n",
       "      <td>60</td>\n",
       "      <td>5.109784</td>\n",
       "      <td>29</td>\n",
       "      <td>0.831960</td>\n",
       "      <td>S</td>\n",
       "      <td>L</td>\n",
       "    </tr>\n",
       "    <tr>\n",
       "      <th>191</th>\n",
       "      <td>2</td>\n",
       "      <td>59</td>\n",
       "      <td>5.614795</td>\n",
       "      <td>57</td>\n",
       "      <td>0.784406</td>\n",
       "      <td>V</td>\n",
       "      <td>A</td>\n",
       "    </tr>\n",
       "    <tr>\n",
       "      <th>8455</th>\n",
       "      <td>80</td>\n",
       "      <td>94</td>\n",
       "      <td>4.591123</td>\n",
       "      <td>14</td>\n",
       "      <td>0.759161</td>\n",
       "      <td>Q</td>\n",
       "      <td>L</td>\n",
       "    </tr>\n",
       "    <tr>\n",
       "      <th>10509</th>\n",
       "      <td>126</td>\n",
       "      <td>147</td>\n",
       "      <td>4.598157</td>\n",
       "      <td>21</td>\n",
       "      <td>0.736417</td>\n",
       "      <td>W</td>\n",
       "      <td>L</td>\n",
       "    </tr>\n",
       "  </tbody>\n",
       "</table>\n",
       "</div>"
      ],
      "text/plain": [
       "       aa1_loc  aa2_loc  distance  primary_chain_distance  couplings aa1_aa  \\\n",
       "10424      122      152  4.061325                      30   1.756403      G   \n",
       "3962        31       60  5.109784                      29   0.831960      S   \n",
       "191          2       59  5.614795                      57   0.784406      V   \n",
       "8455        80       94  4.591123                      14   0.759161      Q   \n",
       "10509      126      147  4.598157                      21   0.736417      W   \n",
       "\n",
       "      aa2_aa  \n",
       "10424      F  \n",
       "3962       L  \n",
       "191        A  \n",
       "8455       L  \n",
       "10509      L  "
      ]
     },
     "execution_count": 6,
     "metadata": {},
     "output_type": "execute_result"
    }
   ],
   "source": [
    "merged_df.head()"
   ]
  },
  {
   "cell_type": "markdown",
   "metadata": {
    "collapsed": false
   },
   "source": [
    "# Correlation between couplings and contacts"
   ]
  },
  {
   "cell_type": "code",
   "execution_count": 7,
   "metadata": {
    "collapsed": false
   },
   "outputs": [
    {
     "name": "stdout",
     "output_type": "stream",
     "text": [
      "SpearmanrResult(correlation=0.036411986092040306, pvalue=0.00016145875626785182)\n"
     ]
    },
    {
     "data": {
      "image/png": "[encoded data removed]",
      "text/plain": [
       "<matplotlib.figure.Figure at 0x1179fcb70>"
      ]
     },
     "metadata": {},
     "output_type": "display_data"
    }
   ],
   "source": [
    "plt.figure()\n",
    "plt.scatter(merged_df['distance'], (merged_df['couplings']))\n",
    "print(stats.spearmanr(merged_df['distance'], merged_df['couplings']))"
   ]
  },
  {
   "cell_type": "markdown",
   "metadata": {
    "collapsed": true
   },
   "source": [
    "# Varying parameters"
   ]
  },
  {
   "cell_type": "code",
   "execution_count": 10,
   "metadata": {
    "collapsed": false
   },
   "outputs": [
    {
     "name": "stdout",
     "output_type": "stream",
     "text": [
      "../Data/Simulated_couplings/3ip0_ALL_thresh=0.1_nMuts=3160_nSeqs=100.couplings\n",
      "../Data/Simulated_couplings/3ip0_ALL_thresh=0.1_nMuts=3160_nSeqs=200.couplings\n",
      "../Data/Simulated_couplings/3ip0_ALL_thresh=0.1_nMuts=3160_nSeqs=300.couplings\n",
      "../Data/Simulated_couplings/3ip0_ALL_thresh=0.1_nMuts=3160_nSeqs=400.couplings\n",
      "../Data/Simulated_couplings/3ip0_ALL_thresh=0.1_nMuts=3160_nSeqs=500.couplings\n",
      "../Data/Simulated_couplings/3ip0_ALL_thresh=0.1_nMuts=3160_nSeqs=1000.couplings\n",
      "../Data/Simulated_couplings/3ip0_ALL_thresh=0.1_nMuts=3160_nSeqs=1500.couplings\n",
      "../Data/Simulated_couplings/3ip0_ALL_thresh=0.1_nMuts=3160_nSeqs=2000.couplings\n",
      "../Data/Simulated_couplings/3ip0_ALL_thresh=0.1_nMuts=3160_nSeqs=2500.couplings\n",
      "../Data/Simulated_couplings/3ip0_ALL_thresh=0.1_nMuts=3160_nSeqs=3000.couplings\n",
      "../Data/Simulated_couplings/3ip0_ALL_thresh=0.3_nMuts=3160_nSeqs=100.couplings\n",
      "../Data/Simulated_couplings/3ip0_ALL_thresh=0.3_nMuts=3160_nSeqs=200.couplings\n",
      "../Data/Simulated_couplings/3ip0_ALL_thresh=0.3_nMuts=3160_nSeqs=300.couplings\n",
      "../Data/Simulated_couplings/3ip0_ALL_thresh=0.3_nMuts=3160_nSeqs=400.couplings\n",
      "../Data/Simulated_couplings/3ip0_ALL_thresh=0.3_nMuts=3160_nSeqs=500.couplings\n",
      "../Data/Simulated_couplings/3ip0_ALL_thresh=0.3_nMuts=3160_nSeqs=1000.couplings\n",
      "../Data/Simulated_couplings/3ip0_ALL_thresh=0.3_nMuts=3160_nSeqs=1500.couplings\n",
      "../Data/Simulated_couplings/3ip0_ALL_thresh=0.3_nMuts=3160_nSeqs=2000.couplings\n",
      "../Data/Simulated_couplings/3ip0_ALL_thresh=0.3_nMuts=3160_nSeqs=2500.couplings\n",
      "../Data/Simulated_couplings/3ip0_ALL_thresh=0.3_nMuts=3160_nSeqs=3000.couplings\n",
      "../Data/Simulated_couplings/3ip0_ALL_thresh=0.5_nMuts=3160_nSeqs=100.couplings\n",
      "../Data/Simulated_couplings/3ip0_ALL_thresh=0.5_nMuts=3160_nSeqs=200.couplings\n",
      "../Data/Simulated_couplings/3ip0_ALL_thresh=0.5_nMuts=3160_nSeqs=300.couplings\n",
      "../Data/Simulated_couplings/3ip0_ALL_thresh=0.5_nMuts=3160_nSeqs=400.couplings\n",
      "../Data/Simulated_couplings/3ip0_ALL_thresh=0.5_nMuts=3160_nSeqs=500.couplings\n",
      "../Data/Simulated_couplings/3ip0_ALL_thresh=0.5_nMuts=3160_nSeqs=1000.couplings\n",
      "../Data/Simulated_couplings/3ip0_ALL_thresh=0.5_nMuts=3160_nSeqs=1500.couplings\n",
      "../Data/Simulated_couplings/3ip0_ALL_thresh=0.5_nMuts=3160_nSeqs=2000.couplings\n",
      "../Data/Simulated_couplings/3ip0_ALL_thresh=0.5_nMuts=3160_nSeqs=2500.couplings\n",
      "../Data/Simulated_couplings/3ip0_ALL_thresh=0.5_nMuts=3160_nSeqs=3000.couplings\n",
      "../Data/Simulated_couplings/3ip0_ALL_thresh=0.7_nMuts=3160_nSeqs=100.couplings\n",
      "../Data/Simulated_couplings/3ip0_ALL_thresh=0.7_nMuts=3160_nSeqs=200.couplings\n",
      "../Data/Simulated_couplings/3ip0_ALL_thresh=0.7_nMuts=3160_nSeqs=300.couplings\n",
      "../Data/Simulated_couplings/3ip0_ALL_thresh=0.7_nMuts=3160_nSeqs=400.couplings\n",
      "../Data/Simulated_couplings/3ip0_ALL_thresh=0.7_nMuts=3160_nSeqs=500.couplings\n",
      "../Data/Simulated_couplings/3ip0_ALL_thresh=0.7_nMuts=3160_nSeqs=1000.couplings\n",
      "../Data/Simulated_couplings/3ip0_ALL_thresh=0.7_nMuts=3160_nSeqs=1500.couplings\n",
      "../Data/Simulated_couplings/3ip0_ALL_thresh=0.7_nMuts=3160_nSeqs=2000.couplings\n",
      "../Data/Simulated_couplings/3ip0_ALL_thresh=0.7_nMuts=3160_nSeqs=2500.couplings\n",
      "../Data/Simulated_couplings/3ip0_ALL_thresh=0.7_nMuts=3160_nSeqs=3000.couplings\n",
      "../Data/Simulated_couplings/3ip0_ALL_thresh=0.9_nMuts=3160_nSeqs=100.couplings\n",
      "../Data/Simulated_couplings/3ip0_ALL_thresh=0.9_nMuts=3160_nSeqs=200.couplings\n",
      "../Data/Simulated_couplings/3ip0_ALL_thresh=0.9_nMuts=3160_nSeqs=300.couplings\n",
      "../Data/Simulated_couplings/3ip0_ALL_thresh=0.9_nMuts=3160_nSeqs=400.couplings\n",
      "../Data/Simulated_couplings/3ip0_ALL_thresh=0.9_nMuts=3160_nSeqs=500.couplings\n",
      "../Data/Simulated_couplings/3ip0_ALL_thresh=0.9_nMuts=3160_nSeqs=1000.couplings\n",
      "../Data/Simulated_couplings/3ip0_ALL_thresh=0.9_nMuts=3160_nSeqs=1500.couplings\n",
      "../Data/Simulated_couplings/3ip0_ALL_thresh=0.9_nMuts=3160_nSeqs=2000.couplings\n",
      "../Data/Simulated_couplings/3ip0_ALL_thresh=0.9_nMuts=3160_nSeqs=2500.couplings\n",
      "../Data/Simulated_couplings/3ip0_ALL_thresh=0.9_nMuts=3160_nSeqs=3000.couplings\n",
      "../Data/Simulated_couplings/3ip0_ALL_thresh=0.1_nMuts=3160_nSeqs=100.couplings\n",
      "../Data/Simulated_couplings/3ip0_ALL_thresh=0.1_nMuts=3160_nSeqs=200.couplings\n",
      "../Data/Simulated_couplings/3ip0_ALL_thresh=0.1_nMuts=3160_nSeqs=300.couplings\n",
      "../Data/Simulated_couplings/3ip0_ALL_thresh=0.1_nMuts=3160_nSeqs=400.couplings\n",
      "../Data/Simulated_couplings/3ip0_ALL_thresh=0.1_nMuts=3160_nSeqs=500.couplings\n",
      "../Data/Simulated_couplings/3ip0_ALL_thresh=0.1_nMuts=3160_nSeqs=1000.couplings\n",
      "../Data/Simulated_couplings/3ip0_ALL_thresh=0.1_nMuts=3160_nSeqs=1500.couplings\n",
      "../Data/Simulated_couplings/3ip0_ALL_thresh=0.1_nMuts=3160_nSeqs=2000.couplings\n",
      "../Data/Simulated_couplings/3ip0_ALL_thresh=0.1_nMuts=3160_nSeqs=2500.couplings\n",
      "../Data/Simulated_couplings/3ip0_ALL_thresh=0.1_nMuts=3160_nSeqs=3000.couplings\n",
      "../Data/Simulated_couplings/3ip0_ALL_thresh=0.3_nMuts=3160_nSeqs=100.couplings\n",
      "../Data/Simulated_couplings/3ip0_ALL_thresh=0.3_nMuts=3160_nSeqs=200.couplings\n",
      "../Data/Simulated_couplings/3ip0_ALL_thresh=0.3_nMuts=3160_nSeqs=300.couplings\n",
      "../Data/Simulated_couplings/3ip0_ALL_thresh=0.3_nMuts=3160_nSeqs=400.couplings\n",
      "../Data/Simulated_couplings/3ip0_ALL_thresh=0.3_nMuts=3160_nSeqs=500.couplings\n",
      "../Data/Simulated_couplings/3ip0_ALL_thresh=0.3_nMuts=3160_nSeqs=1000.couplings\n",
      "../Data/Simulated_couplings/3ip0_ALL_thresh=0.3_nMuts=3160_nSeqs=1500.couplings\n",
      "../Data/Simulated_couplings/3ip0_ALL_thresh=0.3_nMuts=3160_nSeqs=2000.couplings\n",
      "../Data/Simulated_couplings/3ip0_ALL_thresh=0.3_nMuts=3160_nSeqs=2500.couplings\n",
      "../Data/Simulated_couplings/3ip0_ALL_thresh=0.3_nMuts=3160_nSeqs=3000.couplings\n",
      "../Data/Simulated_couplings/3ip0_ALL_thresh=0.5_nMuts=3160_nSeqs=100.couplings\n",
      "../Data/Simulated_couplings/3ip0_ALL_thresh=0.5_nMuts=3160_nSeqs=200.couplings\n",
      "../Data/Simulated_couplings/3ip0_ALL_thresh=0.5_nMuts=3160_nSeqs=300.couplings\n",
      "../Data/Simulated_couplings/3ip0_ALL_thresh=0.5_nMuts=3160_nSeqs=400.couplings\n",
      "../Data/Simulated_couplings/3ip0_ALL_thresh=0.5_nMuts=3160_nSeqs=500.couplings\n",
      "../Data/Simulated_couplings/3ip0_ALL_thresh=0.5_nMuts=3160_nSeqs=1000.couplings\n",
      "../Data/Simulated_couplings/3ip0_ALL_thresh=0.5_nMuts=3160_nSeqs=1500.couplings\n",
      "../Data/Simulated_couplings/3ip0_ALL_thresh=0.5_nMuts=3160_nSeqs=2000.couplings\n",
      "../Data/Simulated_couplings/3ip0_ALL_thresh=0.5_nMuts=3160_nSeqs=2500.couplings\n",
      "../Data/Simulated_couplings/3ip0_ALL_thresh=0.5_nMuts=3160_nSeqs=3000.couplings\n",
      "../Data/Simulated_couplings/3ip0_ALL_thresh=0.7_nMuts=3160_nSeqs=100.couplings\n",
      "../Data/Simulated_couplings/3ip0_ALL_thresh=0.7_nMuts=3160_nSeqs=200.couplings\n",
      "../Data/Simulated_couplings/3ip0_ALL_thresh=0.7_nMuts=3160_nSeqs=300.couplings\n",
      "../Data/Simulated_couplings/3ip0_ALL_thresh=0.7_nMuts=3160_nSeqs=400.couplings\n",
      "../Data/Simulated_couplings/3ip0_ALL_thresh=0.7_nMuts=3160_nSeqs=500.couplings\n",
      "../Data/Simulated_couplings/3ip0_ALL_thresh=0.7_nMuts=3160_nSeqs=1000.couplings\n",
      "../Data/Simulated_couplings/3ip0_ALL_thresh=0.7_nMuts=3160_nSeqs=1500.couplings\n",
      "../Data/Simulated_couplings/3ip0_ALL_thresh=0.7_nMuts=3160_nSeqs=2000.couplings\n",
      "../Data/Simulated_couplings/3ip0_ALL_thresh=0.7_nMuts=3160_nSeqs=2500.couplings\n",
      "../Data/Simulated_couplings/3ip0_ALL_thresh=0.7_nMuts=3160_nSeqs=3000.couplings\n",
      "../Data/Simulated_couplings/3ip0_ALL_thresh=0.9_nMuts=3160_nSeqs=100.couplings\n",
      "../Data/Simulated_couplings/3ip0_ALL_thresh=0.9_nMuts=3160_nSeqs=200.couplings\n",
      "../Data/Simulated_couplings/3ip0_ALL_thresh=0.9_nMuts=3160_nSeqs=300.couplings\n",
      "../Data/Simulated_couplings/3ip0_ALL_thresh=0.9_nMuts=3160_nSeqs=400.couplings\n",
      "../Data/Simulated_couplings/3ip0_ALL_thresh=0.9_nMuts=3160_nSeqs=500.couplings\n",
      "../Data/Simulated_couplings/3ip0_ALL_thresh=0.9_nMuts=3160_nSeqs=1000.couplings\n",
      "../Data/Simulated_couplings/3ip0_ALL_thresh=0.9_nMuts=3160_nSeqs=1500.couplings\n",
      "../Data/Simulated_couplings/3ip0_ALL_thresh=0.9_nMuts=3160_nSeqs=2000.couplings\n",
      "../Data/Simulated_couplings/3ip0_ALL_thresh=0.9_nMuts=3160_nSeqs=2500.couplings\n",
      "../Data/Simulated_couplings/3ip0_ALL_thresh=0.9_nMuts=3160_nSeqs=3000.couplings\n"
     ]
    }
   ],
   "source": [
    "contact_number_modifier = 0.5\n",
    "number_to_test = round(len(df_contacts.index)* contact_number_modifier) \n",
    "length_cutoff = 8\n",
    "thresholds = [str(i) for i in [0.1, 0.3, 0.5, 0.7, 0.9]]\n",
    "nMut = len(df_contacts.index)*20\n",
    "ppvs_dict = {}\n",
    "metrics = ['CA', 'SCcenter']\n",
    "for metric in metrics:\n",
    "    ppvs_lol = []\n",
    "    contact_file_loc = '../Data/Contact_matrices/{}_{}_contacts.csv'.format(prot_name, metric)\n",
    "    df_contacts = pd.read_csv(contact_file_loc, index_col=0)\n",
    "    df_contacts, df_contacts_stack = process_contacts_df(df_contacts, primary_chain_distance)\n",
    "    for threshold in thresholds:\n",
    "        cat_ppvs = []\n",
    "        for nSeq in list(range(100, 501, 100)) + list(range(1000, 3001, 500)):\n",
    "            file_loc = '../Data/Simulated_couplings/3ip0_ALL_thresh={}_nMuts={}_nSeqs={}.couplings'.format(threshold, nMut, nSeq)\n",
    "            print(file_loc)\n",
    "            df_couplings = pd.read_csv(file_loc, sep=' ', header=None)\n",
    "            df_couplings, df_couplings_pivot, df_couplings_stack = process_couplings_df(df_couplings, df_contacts, primary_chain_distance)\n",
    "            merged_df = merge_contacts_couplings(df_contacts_stack, df_couplings_stack, seq)\n",
    "            ppv, counts = ppv_from_df(merged_df, number_to_test, length_cutoff=length_cutoff)\n",
    "            cat_ppvs.append(ppv)\n",
    "        ppvs_lol.append(cat_ppvs)\n",
    "    ppvs_dict[metric] = ppvs_lol"
   ]
  },
  {
   "cell_type": "markdown",
   "metadata": {},
   "source": [
    "# Paper figure/s"
   ]
  },
  {
   "cell_type": "code",
   "execution_count": 12,
   "metadata": {
    "collapsed": false
   },
   "outputs": [
    {
     "data": {
      "image/png": "[encoded data removed]",
      "text/plain": [
       "<matplotlib.figure.Figure at 0x117f0f470>"
      ]
     },
     "metadata": {},
     "output_type": "display_data"
    }
   ],
   "source": [
    "fig, all_ax = plt.subplots(nrows=1, ncols=2, figsize=(8,2.5))\n",
    "x_vals = np.concatenate((np.arange(100, 501, 100), np.arange(1000, 3001, 500)))\n",
    "labels = thresholds\n",
    "\n",
    "ax = all_ax[0]\n",
    "for i,ppvs in enumerate(ppvs_dict[metrics[0]]):\n",
    "    ax.plot(x_vals, ppvs, marker='o', label=thresholds[i], markersize=5)\n",
    "ax.set_ylim(0,1)\n",
    "ax.set_ylabel(r'PPV''\\n'r'(C$\\alpha$)')\n",
    "ax.set_xlabel('Number of independent sequences')\n",
    "ax.set_ylim(0, 1.05);\n",
    "\n",
    "ax = all_ax[1]\n",
    "for i,ppvs in enumerate(ppvs_dict[metrics[1]]):\n",
    "    ax.plot(x_vals, ppvs, marker='o', label=thresholds[i], markersize=5)\n",
    "ax.set_ylim(0,1)\n",
    "ax.set_ylabel(r'PPV''\\n'r'(Side-chain center)')\n",
    "\n",
    "ax.set_xlabel('Number of independent sequences')\n",
    "ax.set_ylim(0, 1.05);\n",
    "legend = ax.legend(ncol=5, bbox_to_anchor=(-1, 1.02, 1., .102), loc=3, fontsize=12, title='Target stability (wild-type=1)')\n",
    "legend.get_title().set_fontsize('12') #legend 'Title' fontsize\n",
    "plt.tight_layout()\n",
    "\n",
    "\n",
    "plt.savefig('{}/example_all_sims_nseqs.pdf'.format(figs_dir), bbox_inches='tight')"
   ]
  },
  {
   "cell_type": "markdown",
   "metadata": {},
   "source": [
    "# Presentation Figure/s"
   ]
  },
  {
   "cell_type": "markdown",
   "metadata": {},
   "source": [
    "**Just show Sim of 0.5**"
   ]
  },
  {
   "cell_type": "code",
   "execution_count": null,
   "metadata": {
    "collapsed": false
   },
   "outputs": [],
   "source": [
    "fig, all_ax = plt.subplots(nrows=1, ncols=2, figsize=(8,2.5))\n",
    "x_vals = np.concatenate((np.arange(100, 501, 100), np.arange(1000, 3001, 500)))\n",
    "labels = thresholds\n",
    "\n",
    "ax = all_ax[0]\n",
    "for i,tprs in enumerate(tprs_dict[metrics[0]]):\n",
    "    if i == 2:\n",
    "        ax.plot(x_vals, tprs, c='g', marker='o', label=thresholds[i], markersize=5)\n",
    "ax.set_ylim(0,1)\n",
    "ax.set_ylabel(r'PPV''\\n'r'(C$\\alpha$)')\n",
    "ax.set_xlabel('Number of independent sequences')\n",
    "ax.set_ylim(0, 1.05);\n",
    "\n",
    "ax = all_ax[1]\n",
    "for i,tprs in enumerate(tprs_dict[metrics[1]]):\n",
    "    if i == 2:\n",
    "        ax.plot(x_vals, tprs, c='g', marker='o', label=thresholds[i], markersize=5)\n",
    "ax.set_ylim(0,1)\n",
    "ax.set_ylabel(r'PPV''\\n'r'(Side-chain center)')\n",
    "\n",
    "ax.set_xlabel('Number of independent sequences')\n",
    "ax.set_ylim(0, 1.05);\n",
    "legend = ax.legend(ncol=5, bbox_to_anchor=(-0.6, 1.02, 1., .102), loc=3, fontsize=12, title='Simulation threshold')\n",
    "legend.get_title().set_fontsize('12') #legend 'Title' fontsize\n",
    "plt.tight_layout()\n",
    "\n",
    "\n",
    "plt.savefig('{}/example_single_sim_nseqs.pdf'.format(figs_dir), bbox_inches='tight')"
   ]
  },
  {
   "cell_type": "code",
   "execution_count": null,
   "metadata": {
    "collapsed": false
   },
   "outputs": [],
   "source": [
    "fig, ax = plt.subplots(figsize=(4,2.5))\n",
    "x_vals = np.concatenate((np.arange(100, 501, 100), np.arange(1000, 3001, 500)))\n",
    "labels = thresholds\n",
    "\n",
    "for i,tprs in enumerate(tprs_dict[metrics[0]]):\n",
    "    if i == 2:\n",
    "        ax.plot(x_vals, tprs, c='g', marker='o', label=thresholds[i], markersize=5)\n",
    "ax.set_ylim(0,1)\n",
    "ax.set_ylabel(r'PPV''\\n'r'(C$\\alpha$)')\n",
    "ax.set_xlabel('Number of independent sequences')\n",
    "ax.set_ylim(0, 1.05);\n",
    "# legend = ax.legend(ncol=5, bbox_to_anchor=(-0.6, 1.02, 1., .102), loc=3, fontsize=12, title='Simulation threshold')\n",
    "legend = ax.legend(loc='center left', bbox_to_anchor=(1, 0.5), fontsize=12, title='Simulation threshold')\n",
    "legend.get_title().set_fontsize('12') #legend 'Title' fontsize\n",
    "plt.tight_layout()\n",
    "plt.savefig('{}/example_single_sim_nseqs_left.pdf'.format(figs_dir), bbox_inches='tight')\n",
    "\n",
    "\n",
    "fig, ax = plt.subplots(figsize=(4,2.5))\n",
    "x_vals = np.concatenate((np.arange(100, 501, 100), np.arange(1000, 3001, 500)))\n",
    "labels = thresholds\n",
    "for i,tprs in enumerate(tprs_dict[metrics[0]]):\n",
    "    ax.plot(x_vals, tprs, marker='o', label=thresholds[i], markersize=5)\n",
    "ax.set_ylim(0,1)\n",
    "ax.set_ylabel(r'PPV''\\n'r'(C$\\alpha$)')\n",
    "ax.set_xlabel('Number of independent sequences')\n",
    "ax.set_ylim(0, 1.05);\n",
    "# legend = ax.legend(ncol=5, bbox_to_anchor=(-0.6, 1.02, 1., .102), loc=3, fontsize=12, title='Simulation threshold')\n",
    "legend = ax.legend(loc='center left', bbox_to_anchor=(1, 0.5), fontsize=12, title='Simulation threshold')\n",
    "legend.get_title().set_fontsize('12') #legend 'Title' fontsize\n",
    "plt.tight_layout()\n",
    "plt.savefig('{}/example_all_sim_nseqs_left.pdf'.format(figs_dir), bbox_inches='tight')\n",
    "\n",
    "\n"
   ]
  },
  {
   "cell_type": "markdown",
   "metadata": {},
   "source": [
    "# Fixed sequence number, altered mutation number"
   ]
  },
  {
   "cell_type": "code",
   "execution_count": 14,
   "metadata": {
    "collapsed": false
   },
   "outputs": [
    {
     "name": "stdout",
     "output_type": "stream",
     "text": [
      "1\n",
      "../Data/Simulated_couplings/3ip0_ALL_thresh=0.1_nMuts=158_nSeqs=3000.couplings\n",
      "2\n",
      "../Data/Simulated_couplings/3ip0_ALL_thresh=0.1_nMuts=316_nSeqs=3000.couplings\n",
      "3\n",
      "../Data/Simulated_couplings/3ip0_ALL_thresh=0.1_nMuts=474_nSeqs=3000.couplings\n",
      "4\n",
      "../Data/Simulated_couplings/3ip0_ALL_thresh=0.1_nMuts=632_nSeqs=3000.couplings\n",
      "5\n",
      "../Data/Simulated_couplings/3ip0_ALL_thresh=0.1_nMuts=790_nSeqs=3000.couplings\n",
      "10\n",
      "../Data/Simulated_couplings/3ip0_ALL_thresh=0.1_nMuts=1580_nSeqs=3000.couplings\n",
      "15\n",
      "../Data/Simulated_couplings/3ip0_ALL_thresh=0.1_nMuts=2370_nSeqs=3000.couplings\n",
      "20\n",
      "../Data/Simulated_couplings/3ip0_ALL_thresh=0.1_nMuts=3160_nSeqs=3000.couplings\n",
      "1\n",
      "../Data/Simulated_couplings/3ip0_ALL_thresh=0.3_nMuts=158_nSeqs=3000.couplings\n",
      "2\n",
      "../Data/Simulated_couplings/3ip0_ALL_thresh=0.3_nMuts=316_nSeqs=3000.couplings\n",
      "3\n",
      "../Data/Simulated_couplings/3ip0_ALL_thresh=0.3_nMuts=474_nSeqs=3000.couplings\n",
      "4\n",
      "../Data/Simulated_couplings/3ip0_ALL_thresh=0.3_nMuts=632_nSeqs=3000.couplings\n",
      "5\n",
      "../Data/Simulated_couplings/3ip0_ALL_thresh=0.3_nMuts=790_nSeqs=3000.couplings\n",
      "10\n",
      "../Data/Simulated_couplings/3ip0_ALL_thresh=0.3_nMuts=1580_nSeqs=3000.couplings\n",
      "15\n",
      "../Data/Simulated_couplings/3ip0_ALL_thresh=0.3_nMuts=2370_nSeqs=3000.couplings\n",
      "20\n",
      "../Data/Simulated_couplings/3ip0_ALL_thresh=0.3_nMuts=3160_nSeqs=3000.couplings\n",
      "1\n",
      "../Data/Simulated_couplings/3ip0_ALL_thresh=0.5_nMuts=158_nSeqs=3000.couplings\n",
      "2\n",
      "../Data/Simulated_couplings/3ip0_ALL_thresh=0.5_nMuts=316_nSeqs=3000.couplings\n",
      "3\n",
      "../Data/Simulated_couplings/3ip0_ALL_thresh=0.5_nMuts=474_nSeqs=3000.couplings\n",
      "4\n",
      "../Data/Simulated_couplings/3ip0_ALL_thresh=0.5_nMuts=632_nSeqs=3000.couplings\n",
      "5\n",
      "../Data/Simulated_couplings/3ip0_ALL_thresh=0.5_nMuts=790_nSeqs=3000.couplings\n",
      "10\n",
      "../Data/Simulated_couplings/3ip0_ALL_thresh=0.5_nMuts=1580_nSeqs=3000.couplings\n",
      "15\n",
      "../Data/Simulated_couplings/3ip0_ALL_thresh=0.5_nMuts=2370_nSeqs=3000.couplings\n",
      "20\n",
      "../Data/Simulated_couplings/3ip0_ALL_thresh=0.5_nMuts=3160_nSeqs=3000.couplings\n",
      "1\n",
      "../Data/Simulated_couplings/3ip0_ALL_thresh=0.7_nMuts=158_nSeqs=3000.couplings\n",
      "2\n",
      "../Data/Simulated_couplings/3ip0_ALL_thresh=0.7_nMuts=316_nSeqs=3000.couplings\n",
      "3\n",
      "../Data/Simulated_couplings/3ip0_ALL_thresh=0.7_nMuts=474_nSeqs=3000.couplings\n",
      "4\n",
      "../Data/Simulated_couplings/3ip0_ALL_thresh=0.7_nMuts=632_nSeqs=3000.couplings\n",
      "5\n",
      "../Data/Simulated_couplings/3ip0_ALL_thresh=0.7_nMuts=790_nSeqs=3000.couplings\n",
      "10\n",
      "../Data/Simulated_couplings/3ip0_ALL_thresh=0.7_nMuts=1580_nSeqs=3000.couplings\n",
      "15\n",
      "../Data/Simulated_couplings/3ip0_ALL_thresh=0.7_nMuts=2370_nSeqs=3000.couplings\n",
      "20\n",
      "../Data/Simulated_couplings/3ip0_ALL_thresh=0.7_nMuts=3160_nSeqs=3000.couplings\n",
      "1\n",
      "../Data/Simulated_couplings/3ip0_ALL_thresh=0.9_nMuts=158_nSeqs=3000.couplings\n",
      "2\n",
      "../Data/Simulated_couplings/3ip0_ALL_thresh=0.9_nMuts=316_nSeqs=3000.couplings\n",
      "3\n",
      "../Data/Simulated_couplings/3ip0_ALL_thresh=0.9_nMuts=474_nSeqs=3000.couplings\n",
      "4\n",
      "../Data/Simulated_couplings/3ip0_ALL_thresh=0.9_nMuts=632_nSeqs=3000.couplings\n",
      "5\n",
      "../Data/Simulated_couplings/3ip0_ALL_thresh=0.9_nMuts=790_nSeqs=3000.couplings\n",
      "10\n",
      "../Data/Simulated_couplings/3ip0_ALL_thresh=0.9_nMuts=1580_nSeqs=3000.couplings\n",
      "15\n",
      "../Data/Simulated_couplings/3ip0_ALL_thresh=0.9_nMuts=2370_nSeqs=3000.couplings\n",
      "20\n",
      "../Data/Simulated_couplings/3ip0_ALL_thresh=0.9_nMuts=3160_nSeqs=3000.couplings\n",
      "1\n",
      "../Data/Simulated_couplings/3ip0_ALL_thresh=0.1_nMuts=158_nSeqs=3000.couplings\n",
      "2\n",
      "../Data/Simulated_couplings/3ip0_ALL_thresh=0.1_nMuts=316_nSeqs=3000.couplings\n",
      "3\n",
      "../Data/Simulated_couplings/3ip0_ALL_thresh=0.1_nMuts=474_nSeqs=3000.couplings\n",
      "4\n",
      "../Data/Simulated_couplings/3ip0_ALL_thresh=0.1_nMuts=632_nSeqs=3000.couplings\n",
      "5\n",
      "../Data/Simulated_couplings/3ip0_ALL_thresh=0.1_nMuts=790_nSeqs=3000.couplings\n",
      "10\n",
      "../Data/Simulated_couplings/3ip0_ALL_thresh=0.1_nMuts=1580_nSeqs=3000.couplings\n",
      "15\n",
      "../Data/Simulated_couplings/3ip0_ALL_thresh=0.1_nMuts=2370_nSeqs=3000.couplings\n",
      "20\n",
      "../Data/Simulated_couplings/3ip0_ALL_thresh=0.1_nMuts=3160_nSeqs=3000.couplings\n",
      "1\n",
      "../Data/Simulated_couplings/3ip0_ALL_thresh=0.3_nMuts=158_nSeqs=3000.couplings\n",
      "2\n",
      "../Data/Simulated_couplings/3ip0_ALL_thresh=0.3_nMuts=316_nSeqs=3000.couplings\n",
      "3\n",
      "../Data/Simulated_couplings/3ip0_ALL_thresh=0.3_nMuts=474_nSeqs=3000.couplings\n",
      "4\n",
      "../Data/Simulated_couplings/3ip0_ALL_thresh=0.3_nMuts=632_nSeqs=3000.couplings\n",
      "5\n",
      "../Data/Simulated_couplings/3ip0_ALL_thresh=0.3_nMuts=790_nSeqs=3000.couplings\n",
      "10\n",
      "../Data/Simulated_couplings/3ip0_ALL_thresh=0.3_nMuts=1580_nSeqs=3000.couplings\n",
      "15\n",
      "../Data/Simulated_couplings/3ip0_ALL_thresh=0.3_nMuts=2370_nSeqs=3000.couplings\n",
      "20\n",
      "../Data/Simulated_couplings/3ip0_ALL_thresh=0.3_nMuts=3160_nSeqs=3000.couplings\n",
      "1\n",
      "../Data/Simulated_couplings/3ip0_ALL_thresh=0.5_nMuts=158_nSeqs=3000.couplings\n",
      "2\n",
      "../Data/Simulated_couplings/3ip0_ALL_thresh=0.5_nMuts=316_nSeqs=3000.couplings\n",
      "3\n",
      "../Data/Simulated_couplings/3ip0_ALL_thresh=0.5_nMuts=474_nSeqs=3000.couplings\n",
      "4\n",
      "../Data/Simulated_couplings/3ip0_ALL_thresh=0.5_nMuts=632_nSeqs=3000.couplings\n",
      "5\n",
      "../Data/Simulated_couplings/3ip0_ALL_thresh=0.5_nMuts=790_nSeqs=3000.couplings\n",
      "10\n",
      "../Data/Simulated_couplings/3ip0_ALL_thresh=0.5_nMuts=1580_nSeqs=3000.couplings\n",
      "15\n",
      "../Data/Simulated_couplings/3ip0_ALL_thresh=0.5_nMuts=2370_nSeqs=3000.couplings\n",
      "20\n",
      "../Data/Simulated_couplings/3ip0_ALL_thresh=0.5_nMuts=3160_nSeqs=3000.couplings\n",
      "1\n",
      "../Data/Simulated_couplings/3ip0_ALL_thresh=0.7_nMuts=158_nSeqs=3000.couplings\n",
      "2\n",
      "../Data/Simulated_couplings/3ip0_ALL_thresh=0.7_nMuts=316_nSeqs=3000.couplings\n",
      "3\n",
      "../Data/Simulated_couplings/3ip0_ALL_thresh=0.7_nMuts=474_nSeqs=3000.couplings\n",
      "4\n",
      "../Data/Simulated_couplings/3ip0_ALL_thresh=0.7_nMuts=632_nSeqs=3000.couplings\n",
      "5\n",
      "../Data/Simulated_couplings/3ip0_ALL_thresh=0.7_nMuts=790_nSeqs=3000.couplings\n",
      "10\n",
      "../Data/Simulated_couplings/3ip0_ALL_thresh=0.7_nMuts=1580_nSeqs=3000.couplings\n",
      "15\n",
      "../Data/Simulated_couplings/3ip0_ALL_thresh=0.7_nMuts=2370_nSeqs=3000.couplings\n",
      "20\n",
      "../Data/Simulated_couplings/3ip0_ALL_thresh=0.7_nMuts=3160_nSeqs=3000.couplings\n",
      "1\n",
      "../Data/Simulated_couplings/3ip0_ALL_thresh=0.9_nMuts=158_nSeqs=3000.couplings\n",
      "2\n",
      "../Data/Simulated_couplings/3ip0_ALL_thresh=0.9_nMuts=316_nSeqs=3000.couplings\n",
      "3\n",
      "../Data/Simulated_couplings/3ip0_ALL_thresh=0.9_nMuts=474_nSeqs=3000.couplings\n",
      "4\n",
      "../Data/Simulated_couplings/3ip0_ALL_thresh=0.9_nMuts=632_nSeqs=3000.couplings\n",
      "5\n",
      "../Data/Simulated_couplings/3ip0_ALL_thresh=0.9_nMuts=790_nSeqs=3000.couplings\n",
      "10\n",
      "../Data/Simulated_couplings/3ip0_ALL_thresh=0.9_nMuts=1580_nSeqs=3000.couplings\n",
      "15\n",
      "../Data/Simulated_couplings/3ip0_ALL_thresh=0.9_nMuts=2370_nSeqs=3000.couplings\n",
      "20\n",
      "../Data/Simulated_couplings/3ip0_ALL_thresh=0.9_nMuts=3160_nSeqs=3000.couplings\n"
     ]
    }
   ],
   "source": [
    "contact_number_modifier = 0.5\n",
    "number_to_test = round(len(df_contacts.index)* contact_number_modifier) \n",
    "length_cutoff = 8\n",
    "thresholds = [str(i) for i in [0.1, 0.3, 0.5, 0.7, 0.9]]\n",
    "nSeq = 3000\n",
    "\n",
    "records = list(SeqIO.parse('../../Structural_analysis/ecoli_all_pdbs/wt_fastas/3ip0.fasta', 'fasta'))\n",
    "assert len(records)==1\n",
    "seq = str(records[0].seq)\n",
    "\n",
    "ppvs_dict = {}\n",
    "for metric in metrics:\n",
    "    ppvs_lol = []\n",
    "    contact_file_loc = '../Data/Contact_matrices/{}_{}_contacts.csv'.format(prot_name, metric)\n",
    "    df_contacts = pd.read_csv(contact_file_loc, index_col=0)\n",
    "    df_contacts, df_contacts_stack = process_contacts_df(df_contacts, primary_chain_distance)\n",
    "    for threshold in thresholds:\n",
    "        cat_ppvs = []\n",
    "        for nMut in list(range(1,6,1))+list(range(10,21,5)):\n",
    "            print(nMut)\n",
    "            file_loc = '../Data/Simulated_couplings/3ip0_ALL_thresh={}_nMuts={}_nSeqs={}.couplings'.format(threshold, nMut*len(df_contacts.index), nSeq)\n",
    "            print(file_loc)\n",
    "            df_couplings = pd.read_csv(file_loc, sep=' ', header=None)\n",
    "            df_couplings, df_couplings_pivot, df_couplings_stack = process_couplings_df(df_couplings, df_contacts, primary_chain_distance)\n",
    "            merged_df = merge_contacts_couplings(df_contacts_stack, df_couplings_stack, seq)\n",
    "            ppv, counts = ppv_from_df(merged_df, number_to_test, length_cutoff=length_cutoff)\n",
    "            cat_ppvs.append(ppv)\n",
    "        ppvs_lol.append(cat_ppvs)\n",
    "    ppvs_dict[metric] = ppvs_lol"
   ]
  },
  {
   "cell_type": "markdown",
   "metadata": {},
   "source": [
    "# Paper figure/s"
   ]
  },
  {
   "cell_type": "code",
   "execution_count": 16,
   "metadata": {
    "collapsed": false
   },
   "outputs": [
    {
     "data": {
      "image/png": "[encoded data removed]",
      "text/plain": [
       "<matplotlib.figure.Figure at 0x117f0f828>"
      ]
     },
     "metadata": {},
     "output_type": "display_data"
    }
   ],
   "source": [
    "fig, all_ax = plt.subplots(nrows=1, ncols=2, figsize=(8,2.5))\n",
    "x_vals = [i*len(df_contacts.index) for i in list(range(1,6,1))+list(range(10,21,5))]\n",
    "labels = thresholds\n",
    "\n",
    "ax = all_ax[0]\n",
    "for i,ppvs in enumerate(ppvs_dict[metrics[0]]):\n",
    "    ax.plot(x_vals, ppvs, marker='o', label=thresholds[i], markersize=5)\n",
    "ax.set_ylabel(r'PPV''\\n'r'(C$\\alpha$)')\n",
    "ax.set_xlabel('Number of mutations per sequence')\n",
    "ax.set_ylim(0, 1.05);\n",
    "\n",
    "ax = all_ax[1]\n",
    "for i,ppvs in enumerate(ppvs_dict[metrics[1]]):\n",
    "    ax.plot(x_vals, ppvs, marker='o', label=thresholds[i], markersize=5)\n",
    "ax.set_ylim(0,1)\n",
    "ax.set_ylabel(r'PPV''\\n'r'(Side-chain center)')\n",
    "\n",
    "ax.set_xlabel('Number of mutations per sequence')\n",
    "ax.set_ylim(0, 1.05);\n",
    "legend = ax.legend(ncol=5, bbox_to_anchor=(-1, 1.02, 1., .102), loc=3, fontsize=12, title='Target stability (wild-type=1)')\n",
    "legend.get_title().set_fontsize('12') #legend 'Title' fontsize\n",
    "plt.tight_layout()\n",
    "\n",
    "plt.savefig('{}/example_all_sims_nmuts.pdf'.format(figs_dir), bbox_inches='tight')"
   ]
  },
  {
   "cell_type": "markdown",
   "metadata": {
    "collapsed": false
   },
   "source": [
    "# Presentation figures"
   ]
  },
  {
   "cell_type": "code",
   "execution_count": null,
   "metadata": {
    "collapsed": false
   },
   "outputs": [],
   "source": [
    "fig, all_ax = plt.subplots(nrows=1, ncols=2, figsize=(8,2.5))\n",
    "x_vals = [i*len(df_contacts.index) for i in list(range(1,6,1))+list(range(10,21,5))]\n",
    "labels = thresholds\n",
    "\n",
    "ax = all_ax[0]\n",
    "for i,tprs in enumerate(tprs_dict[metrics[0]]):\n",
    "    if i not in [2]:\n",
    "        continue\n",
    "    ax.plot(x_vals, tprs, c='g', marker='o', label=thresholds[i], markersize=5)\n",
    "ax.set_ylabel(r'PPV''\\n'r'(C$\\alpha$)')\n",
    "ax.set_xlabel('Number of mutations per sequence')\n",
    "ax.set_ylim(0, 1.05);\n",
    "\n",
    "ax = all_ax[1]\n",
    "for i,tprs in enumerate(tprs_dict[metrics[1]]):\n",
    "    if i not in [2]:\n",
    "        continue\n",
    "    ax.plot(x_vals, tprs, c='g', marker='o', label=thresholds[i], markersize=5)\n",
    "ax.set_ylim(0,1)\n",
    "ax.set_ylabel(r'PPV''\\n'r'(Side-chain center)')\n",
    "\n",
    "ax.set_xlabel('Number of mutations per sequence')\n",
    "ax.set_ylim(0, 1.05);\n",
    "legend = ax.legend(ncol=5, bbox_to_anchor=(-0.55, 1.02, 1., .102), loc=3, fontsize=12, title='Simulation threshold')\n",
    "legend.get_title().set_fontsize('12') #legend 'Title' fontsize\n",
    "plt.tight_layout()\n",
    "\n",
    "plt.savefig('{}/example_single_sims_nmuts.pdf'.format(figs_dir), bbox_inches='tight')"
   ]
  },
  {
   "cell_type": "code",
   "execution_count": null,
   "metadata": {
    "collapsed": true
   },
   "outputs": [],
   "source": []
  },
  {
   "cell_type": "markdown",
   "metadata": {},
   "source": [
    "# Sequence identity with mutation distance"
   ]
  },
  {
   "cell_type": "code",
   "execution_count": null,
   "metadata": {
    "collapsed": false
   },
   "outputs": [],
   "source": [
    "df = pd.read_csv('../Results/hamming_distances.csv', index_col=0)\n",
    "df.head()"
   ]
  },
  {
   "cell_type": "code",
   "execution_count": null,
   "metadata": {
    "collapsed": false
   },
   "outputs": [],
   "source": [
    "file_pattern = '../Results/1B4T_A/fastas/1B4T_A_ALL_thresh=XXX_nMuts=YYY.fasta'\n",
    "dicty = {}\n",
    "nMuts = list(range(100, 501, 100)) + list(range(1000, 5001, 500))\n",
    "thresh_vals = [0.3, 0.5, 0.7]\n",
    "\n",
    "for thresh in thresh_vals:\n",
    "    dicty[thresh] = []\n",
    "    for nMut in nMuts:\n",
    "        hamming = df.loc[file_pattern.replace('XXX', str(thresh)).replace('YYY', str(nMut))]['i']\n",
    "        similarity = (len(df_contacts.index)-np.array(hamming))/len(df_contacts.index)\n",
    "        dicty[thresh].append(similarity)"
   ]
  },
  {
   "cell_type": "code",
   "execution_count": null,
   "metadata": {
    "collapsed": false
   },
   "outputs": [],
   "source": [
    "fig, ax = plt.subplots(figsize=(6,4))\n",
    "for thresh in thresh_vals:\n",
    "    ax.plot(nMuts, dicty[thresh], marker='s', label='{}'.format(thresh))\n",
    "ax.set_ylim(0,1)\n",
    "ax.tick_params(labelsize=16)\n",
    "ax.set_xlabel('Number of accepted mutations', fontsize=16)\n",
    "ax.set_ylabel('Similarity', fontsize=16)\n",
    "legend = ax.legend(title=\"Simulation threshold\", fontsize=14, ncol=3, loc='upper center')\n",
    "plt.setp(legend.get_title(),fontsize=16);\n",
    "\n",
    "plt.savefig('../Results/Figures/similarity.png', bbox_inches='tight')"
   ]
  },
  {
   "cell_type": "code",
   "execution_count": null,
   "metadata": {
    "collapsed": false
   },
   "outputs": [],
   "source": [
    "df_couplings.head()"
   ]
  },
  {
   "cell_type": "code",
   "execution_count": null,
   "metadata": {
    "collapsed": true
   },
   "outputs": [],
   "source": []
  },
  {
   "cell_type": "code",
   "execution_count": null,
   "metadata": {
    "collapsed": true
   },
   "outputs": [],
   "source": []
  },
  {
   "cell_type": "code",
   "execution_count": null,
   "metadata": {
    "collapsed": true
   },
   "outputs": [],
   "source": []
  },
  {
   "cell_type": "code",
   "execution_count": null,
   "metadata": {
    "collapsed": true
   },
   "outputs": [],
   "source": []
  },
  {
   "cell_type": "markdown",
   "metadata": {},
   "source": [
    "# Scratch"
   ]
  },
  {
   "cell_type": "markdown",
   "metadata": {
    "collapsed": true
   },
   "source": [
    "**Steady state amino acid levels**"
   ]
  },
  {
   "cell_type": "code",
   "execution_count": null,
   "metadata": {
    "collapsed": true
   },
   "outputs": [],
   "source": [
    "from Bio.Data import CodonTable\n",
    "def get_codon_dicts(n=11):\n",
    "    GivenCodonTable = CodonTable.unambiguous_dna_by_id[n]\n",
    "    nucleotides = ['A', 'T', 'C', 'G']\n",
    "    aa_to_codons = {}\n",
    "    for first in nucleotides:\n",
    "        for second in nucleotides:\n",
    "            for third in nucleotides:\n",
    "                Codon = first + second + third\n",
    "                if Codon not in CodonTable.unambiguous_dna_by_id[n].stop_codons:\n",
    "                    if GivenCodonTable.forward_table[Codon] in aa_to_codons.keys():\n",
    "                            aa_to_codons[GivenCodonTable.forward_table[Codon]].append(Codon)\n",
    "                    else:\n",
    "                        aa_to_codons[GivenCodonTable.forward_table[Codon]] = [Codon]\n",
    "                else:\n",
    "                    pass\n",
    "    codon_to_aa = {}\n",
    "    for aa, syns in aa_to_codons.items():\n",
    "        for syn in syns:\n",
    "            codon_to_aa[syn] = aa\n",
    "    return aa_to_codons, codon_to_aa\n",
    "aa_to_codons, codon_to_aa = get_codon_dicts()"
   ]
  },
  {
   "cell_type": "code",
   "execution_count": null,
   "metadata": {
    "collapsed": false
   },
   "outputs": [],
   "source": [
    "df = pd.read_csv('../Results/avg_aa_counts.csv', index_col=0)\n",
    "df.fillna(value=0, inplace=True)\n",
    "\n",
    "totals = df.loc['WT'].sum()\n",
    "df.loc['Idealized'] = np.nan\n",
    "for column in df.columns:\n",
    "    df.set_value('Idealized', column, len(aa_to_codons[column])/61*totals)\n",
    "df[\"new\"] = range(1,len(df)+1)\n",
    "df.set_value('Idealized','new',0)\n",
    "df.set_value('WT','new',0)\n",
    "df = df.sort_values(\"new\").drop('new', axis=1)\n",
    "df.head()"
   ]
  },
  {
   "cell_type": "code",
   "execution_count": null,
   "metadata": {
    "collapsed": true
   },
   "outputs": [],
   "source": [
    "thresh = 0.7\n",
    "file_pattern = '../Results/1B4T_A/fastas/1B4T_A_ALL_thresh={}_nMuts=XXX.fasta'.format(thresh)"
   ]
  },
  {
   "cell_type": "code",
   "execution_count": null,
   "metadata": {
    "collapsed": false
   },
   "outputs": [],
   "source": [
    "nMuts = list(range(100, 501, 100))+list(range(1000, 5001, 500))\n",
    "rhos = []\n",
    "for nMut in nMuts:\n",
    "    index = file_pattern.replace('XXX', str(nMut))\n",
    "    print(index)\n",
    "#     print(list(df.loc[index]))\n",
    "    rho, p = stats.spearmanr(list(df.loc['Idealized']), list(df.loc[index]))\n",
    "    rhos.append(rho)"
   ]
  },
  {
   "cell_type": "code",
   "execution_count": null,
   "metadata": {
    "collapsed": false
   },
   "outputs": [],
   "source": [
    "wt_rho, p = stats.spearmanr(list(df.loc['Idealized']), list(df.loc['WT']))\n",
    "\n",
    "fig, ax = plt.subplots(figsize=(6,4))\n",
    "ax.plot(nMuts, rhos, 'bo')\n",
    "ax.axhline(wt_rho, c='r', linestyle='--')"
   ]
  },
  {
   "cell_type": "code",
   "execution_count": null,
   "metadata": {
    "collapsed": false
   },
   "outputs": [],
   "source": [
    "fig, ax = plt.subplots(figsize=(6,6))\n",
    "ax.plot(df.loc['Idealized'], df.loc[file_pattern.replace('XXX', str(5000))], 'co')\n",
    "ax.plot(df.loc['Idealized'], df.loc['WT'], 'ko')\n",
    "ax.plot([0, 25], [0, 25], 'r-')\n"
   ]
  },
  {
   "cell_type": "markdown",
   "metadata": {},
   "source": [
    "# Scratch"
   ]
  },
  {
   "cell_type": "code",
   "execution_count": null,
   "metadata": {
    "collapsed": true
   },
   "outputs": [],
   "source": [
    "from sklearn.metrics import precision_recall_curve, average_precision_score"
   ]
  },
  {
   "cell_type": "code",
   "execution_count": null,
   "metadata": {
    "collapsed": false
   },
   "outputs": [],
   "source": [
    "merged_df['contact'] = np.where(merged_df['distance']>=8, 0, 1)"
   ]
  },
  {
   "cell_type": "code",
   "execution_count": null,
   "metadata": {
    "collapsed": false
   },
   "outputs": [],
   "source": [
    "precision, recall, thresholds = precision_recall_curve(merged_df['contact'], merged_df['couplings'])\n",
    "print(average_precision_score(merged_df['contact'], merged_df['couplings']))"
   ]
  },
  {
   "cell_type": "code",
   "execution_count": null,
   "metadata": {
    "collapsed": false
   },
   "outputs": [],
   "source": [
    "plt.step(recall, precision, color='b', alpha=0.2,\n",
    "         where='post')\n",
    "plt.fill_between(recall, precision, step='post', alpha=0.2,\n",
    "                 color='b')"
   ]
  },
  {
   "cell_type": "code",
   "execution_count": null,
   "metadata": {
    "collapsed": true
   },
   "outputs": [],
   "source": []
  }
 ],
 "metadata": {
  "kernelspec": {
   "display_name": "Python 3",
   "language": "python",
   "name": "python3"
  },
  "language_info": {
   "codemirror_mode": {
    "name": "ipython",
    "version": 3
   },
   "file_extension": ".py",
   "mimetype": "text/x-python",
   "name": "python",
   "nbconvert_exporter": "python",
   "pygments_lexer": "ipython3",
   "version": "3.4.5"
  },
  "toc": {
   "colors": {
    "hover_highlight": "#DAA520",
    "navigate_num": "#000000",
    "navigate_text": "#333333",
    "running_highlight": "#FF0000",
    "selected_highlight": "#FFD700",
    "sidebar_border": "#EEEEEE",
    "wrapper_background": "#FFFFFF"
   },
   "moveMenuLeft": true,
   "nav_menu": {
    "height": "12px",
    "width": "252px"
   },
   "navigate_menu": true,
   "number_sections": true,
   "sideBar": true,
   "threshold": 4,
   "toc_cell": false,
   "toc_section_display": "block",
   "toc_window_display": false,
   "widenNotebook": false
  }
 },
 "nbformat": 4,
 "nbformat_minor": 0
}
