{
 "cells": [
  {
   "cell_type": "code",
   "execution_count": 1,
   "metadata": {
    "collapsed": false
   },
   "outputs": [],
   "source": [
    "%matplotlib inline"
   ]
  },
  {
   "cell_type": "code",
   "execution_count": 2,
   "metadata": {
    "collapsed": false
   },
   "outputs": [],
   "source": [
    "import pandas as pd\n",
    "import numpy as np\n",
    "from Bio import SeqIO\n",
    "\n",
    "from matplotlib import pyplot as plt\n",
    "from scipy import stats\n",
    "\n",
    "import glob\n",
    "\n",
    "import datetime\n",
    "year = datetime.date.today().year\n",
    "month = datetime.date.today().month\n",
    "import os\n",
    "figs_dir = '../Results/Figures/{}_{:02}'.format(year, month)\n",
    "if not os.path.exists(figs_dir):\n",
    "    os.makedirs(figs_dir)\n",
    "    \n",
    "import sklearn.metrics"
   ]
  },
  {
   "cell_type": "code",
   "execution_count": 3,
   "metadata": {
    "collapsed": true
   },
   "outputs": [],
   "source": [
    "import matplotlib\n",
    "matplotlib.rcParams['xtick.labelsize'] = 10\n",
    "matplotlib.rcParams['ytick.labelsize'] = 10\n",
    "matplotlib.rcParams['axes.labelsize'] = 10\n",
    "matplotlib.rcParams['axes.titlesize'] = 10\n",
    "\n",
    "matplotlib.rcParams['axes.grid'] = True\n",
    "matplotlib.rcParams['grid.color'] = '0.5'\n",
    "matplotlib.rcParams['grid.linewidth'] = '0.5'\n",
    "\n",
    "matplotlib.rcParams['axes.edgecolor'] = '0.25'\n",
    "matplotlib.rcParams['xtick.color'] = '0'\n",
    "matplotlib.rcParams['ytick.color'] = '0'\n",
    "\n",
    "matplotlib.rcParams['xtick.major.width'] = 1\n",
    "matplotlib.rcParams['ytick.major.width'] = 1\n",
    "matplotlib.rcParams['ytick.major.size'] = 5\n",
    "matplotlib.rcParams['xtick.major.size'] = 5\n",
    "matplotlib.rcParams['axes.spines.right'] = True\n",
    "matplotlib.rcParams['axes.spines.left'] = True\n",
    "matplotlib.rcParams['axes.spines.top'] = True\n",
    "matplotlib.rcParams['axes.spines.bottom'] = True\n",
    "\n",
    "matplotlib.rcParams['font.family'] = 'sans-serif'\n",
    "matplotlib.rcParams['font.sans-serif'] = 'Helvetica'\n",
    "matplotlib.rcParams['font.weight']='normal'\n",
    "matplotlib.rcParams['axes.axisbelow'] = True\n",
    "\n"
   ]
  },
  {
   "cell_type": "code",
   "execution_count": 4,
   "metadata": {
    "collapsed": true
   },
   "outputs": [],
   "source": [
    "from supporting_functions import *"
   ]
  },
  {
   "cell_type": "markdown",
   "metadata": {},
   "source": [
    "# Read in basic information"
   ]
  },
  {
   "cell_type": "code",
   "execution_count": 5,
   "metadata": {
    "collapsed": false
   },
   "outputs": [
    {
     "name": "stdout",
     "output_type": "stream",
     "text": [
      "PPV 1.0\n",
      "AUROC 0.640111475514\n",
      "Avg Pre 0.198717228155\n"
     ]
    }
   ],
   "source": [
    "prot_name = '1AOE_A'\n",
    "length_cutoff = 8.0\n",
    "primary_chain_distance = 12\n",
    "number_to_test = 1\n",
    "contact_file_loc = '../Data/Contact_matrices/{}_CA_contacts.csv'.format(prot_name)\n",
    "df_contacts = pd.read_csv(contact_file_loc, index_col=0)\n",
    "df_contacts, df_contacts_stack = process_contacts_df(df_contacts, primary_chain_distance)\n",
    "\n",
    "\n",
    "records = list(SeqIO.parse('../Data/fastas/{}.rosetta.fasta'.format(prot_name), 'fasta'))\n",
    "assert len(records)==1\n",
    "seq = str(records[0].seq)\n",
    "df_couplings = pd.read_csv('../Data/Simulated_couplings/1AOE_A_thresh=0.1_nMuts=1920_nSeqs=3000.ccmpred.processed.couplings', sep=',')\n",
    "# df_couplings.columns = ['aa1_loc', 'trash1', 'aa2_loc', 'trash2', 'trash3', 'couplings']\n",
    "# df_couplings = pd.read_csv('../Data/3ip0_TOTALREPACK_thresh=0.5_nMuts=790_nSeqs=2000.couplings', sep=' ', header=None)\n",
    "# df_couplings = pd.read_csv('../Data/Empirical_couplings/rp55/3ip0_312_rp55.couplings', sep=' ', header=None)\n",
    "df_couplings_stack, df_couplings_pivot = process_couplings_df(df_couplings, df_contacts, primary_chain_distance)\n",
    "merged_df = merge_contacts_couplings(df_contacts_stack, df_couplings_stack, seq)\n",
    "ppv, counts = ppv_from_df(merged_df, number_to_test, length_cutoff=length_cutoff)\n",
    "            \n",
    "####Testing\n",
    "merged_df['contact'] = np.where(merged_df['distance']>=length_cutoff, 0, 1)\n",
    "print('PPV', ppv)\n",
    "print('AUROC', sklearn.metrics.roc_auc_score(merged_df['contact'], merged_df['couplings']))\n",
    "print('Avg Pre', sklearn.metrics.average_precision_score(merged_df['contact'], merged_df['couplings']))"
   ]
  },
  {
   "cell_type": "code",
   "execution_count": 6,
   "metadata": {
    "collapsed": false
   },
   "outputs": [
    {
     "data": {
      "text/html": [
       "<div>\n",
       "<style>\n",
       "    .dataframe thead tr:only-child th {\n",
       "        text-align: right;\n",
       "    }\n",
       "\n",
       "    .dataframe thead th {\n",
       "        text-align: left;\n",
       "    }\n",
       "\n",
       "    .dataframe tbody tr th {\n",
       "        vertical-align: top;\n",
       "    }\n",
       "</style>\n",
       "<table border=\"1\" class=\"dataframe\">\n",
       "  <thead>\n",
       "    <tr style=\"text-align: right;\">\n",
       "      <th></th>\n",
       "      <th>aa1_loc</th>\n",
       "      <th>aa2_loc</th>\n",
       "      <th>distance</th>\n",
       "      <th>primary_chain_distance</th>\n",
       "      <th>couplings</th>\n",
       "      <th>aa1_aa</th>\n",
       "      <th>aa2_aa</th>\n",
       "      <th>contact</th>\n",
       "    </tr>\n",
       "  </thead>\n",
       "  <tbody>\n",
       "    <tr>\n",
       "      <th>3039</th>\n",
       "      <td>18</td>\n",
       "      <td>145</td>\n",
       "      <td>5.987902</td>\n",
       "      <td>127</td>\n",
       "      <td>2.020427</td>\n",
       "      <td>G</td>\n",
       "      <td>M</td>\n",
       "      <td>1</td>\n",
       "    </tr>\n",
       "    <tr>\n",
       "      <th>3364</th>\n",
       "      <td>20</td>\n",
       "      <td>147</td>\n",
       "      <td>5.071209</td>\n",
       "      <td>127</td>\n",
       "      <td>1.627773</td>\n",
       "      <td>G</td>\n",
       "      <td>T</td>\n",
       "      <td>1</td>\n",
       "    </tr>\n",
       "    <tr>\n",
       "      <th>8339</th>\n",
       "      <td>55</td>\n",
       "      <td>117</td>\n",
       "      <td>5.999142</td>\n",
       "      <td>62</td>\n",
       "      <td>1.082960</td>\n",
       "      <td>G</td>\n",
       "      <td>I</td>\n",
       "      <td>1</td>\n",
       "    </tr>\n",
       "    <tr>\n",
       "      <th>1175</th>\n",
       "      <td>7</td>\n",
       "      <td>129</td>\n",
       "      <td>4.576735</td>\n",
       "      <td>122</td>\n",
       "      <td>1.001786</td>\n",
       "      <td>A</td>\n",
       "      <td>H</td>\n",
       "      <td>1</td>\n",
       "    </tr>\n",
       "    <tr>\n",
       "      <th>10631</th>\n",
       "      <td>75</td>\n",
       "      <td>99</td>\n",
       "      <td>7.301822</td>\n",
       "      <td>24</td>\n",
       "      <td>0.797761</td>\n",
       "      <td>I</td>\n",
       "      <td>S</td>\n",
       "      <td>1</td>\n",
       "    </tr>\n",
       "  </tbody>\n",
       "</table>\n",
       "</div>"
      ],
      "text/plain": [
       "       aa1_loc  aa2_loc  distance  primary_chain_distance  couplings aa1_aa  \\\n",
       "3039        18      145  5.987902                     127   2.020427      G   \n",
       "3364        20      147  5.071209                     127   1.627773      G   \n",
       "8339        55      117  5.999142                      62   1.082960      G   \n",
       "1175         7      129  4.576735                     122   1.001786      A   \n",
       "10631       75       99  7.301822                      24   0.797761      I   \n",
       "\n",
       "      aa2_aa  contact  \n",
       "3039       M        1  \n",
       "3364       T        1  \n",
       "8339       I        1  \n",
       "1175       H        1  \n",
       "10631      S        1  "
      ]
     },
     "execution_count": 6,
     "metadata": {},
     "output_type": "execute_result"
    }
   ],
   "source": [
    "merged_df.head()"
   ]
  },
  {
   "cell_type": "markdown",
   "metadata": {
    "collapsed": false
   },
   "source": [
    "# Correlation between couplings and contacts\n",
    "\n",
    "...because I was curious?"
   ]
  },
  {
   "cell_type": "code",
   "execution_count": 7,
   "metadata": {
    "collapsed": false
   },
   "outputs": [
    {
     "name": "stdout",
     "output_type": "stream",
     "text": [
      "SpearmanrResult(correlation=0.002615898311008016, pvalue=0.73849423964668182)\n"
     ]
    },
    {
     "data": {
      "image/png": "[encoded data removed]",
      "text/plain": [
       "<matplotlib.figure.Figure at 0x104111cf8>"
      ]
     },
     "metadata": {},
     "output_type": "display_data"
    }
   ],
   "source": [
    "plt.figure()\n",
    "plt.scatter(merged_df['distance'], (merged_df['couplings']))\n",
    "print(stats.spearmanr(merged_df['distance'], merged_df['couplings']))"
   ]
  },
  {
   "cell_type": "markdown",
   "metadata": {
    "collapsed": true
   },
   "source": [
    "# Varying parameters"
   ]
  },
  {
   "cell_type": "code",
   "execution_count": 10,
   "metadata": {
    "collapsed": false
   },
   "outputs": [
    {
     "name": "stdout",
     "output_type": "stream",
     "text": [
      "../Data/Simulated_couplings/1AOE_A_thresh=0.1_nMuts=1920_nSeqs=100.ccmpred.processed.couplings\n",
      "PPV 0.0416666666667\n",
      "AUROC 0.503907226807\n",
      "Avg Pre 0.020565491671\n",
      "../Data/Simulated_couplings/1AOE_A_thresh=0.1_nMuts=1920_nSeqs=200.ccmpred.processed.couplings\n",
      "PPV 0.0833333333333\n",
      "AUROC 0.52222983467\n",
      "Avg Pre 0.0293427845405\n",
      "../Data/Simulated_couplings/1AOE_A_thresh=0.1_nMuts=1920_nSeqs=300.ccmpred.processed.couplings\n",
      "PPV 0.0729166666667\n",
      "AUROC 0.552547788308\n",
      "Avg Pre 0.0345940578882\n",
      "../Data/Simulated_couplings/1AOE_A_thresh=0.1_nMuts=1920_nSeqs=400.ccmpred.processed.couplings\n",
      "PPV 0.0833333333333\n",
      "AUROC 0.56211267953\n",
      "Avg Pre 0.0414281636159\n",
      "../Data/Simulated_couplings/1AOE_A_thresh=0.1_nMuts=1920_nSeqs=500.ccmpred.processed.couplings\n",
      "PPV 0.145833333333\n",
      "AUROC 0.582973336872\n",
      "Avg Pre 0.0537750708147\n",
      "../Data/Simulated_couplings/1AOE_A_thresh=0.1_nMuts=1920_nSeqs=1000.ccmpred.processed.couplings\n",
      "PPV 0.333333333333\n",
      "AUROC 0.634019474256\n",
      "Avg Pre 0.137143546585\n",
      "../Data/Simulated_couplings/1AOE_A_thresh=0.1_nMuts=1920_nSeqs=1500.ccmpred.processed.couplings\n",
      "PPV 0.53125\n",
      "AUROC 0.655518790412\n",
      "Avg Pre 0.212628575239\n",
      "../Data/Simulated_couplings/1AOE_A_thresh=0.1_nMuts=1920_nSeqs=2000.ccmpred.processed.couplings\n",
      "PPV 0.645833333333\n",
      "AUROC 0.673670756124\n",
      "Avg Pre 0.261022527278\n",
      "../Data/Simulated_couplings/1AOE_A_thresh=0.1_nMuts=1920_nSeqs=2500.ccmpred.processed.couplings\n",
      "PPV 0.75\n",
      "AUROC 0.687308519307\n",
      "Avg Pre 0.292880667925\n",
      "../Data/Simulated_couplings/1AOE_A_thresh=0.1_nMuts=1920_nSeqs=3000.ccmpred.processed.couplings\n",
      "PPV 0.78125\n",
      "AUROC 0.706880376557\n",
      "Avg Pre 0.31718353047\n",
      "../Data/Simulated_couplings/1AOE_A_thresh=0.3_nMuts=1920_nSeqs=100.ccmpred.processed.couplings\n",
      "PPV 0.09375\n",
      "AUROC 0.558464233405\n",
      "Avg Pre 0.0285443261224\n",
      "../Data/Simulated_couplings/1AOE_A_thresh=0.3_nMuts=1920_nSeqs=200.ccmpred.processed.couplings\n",
      "PPV 0.1875\n",
      "AUROC 0.594084107762\n",
      "Avg Pre 0.0574139110501\n",
      "../Data/Simulated_couplings/1AOE_A_thresh=0.3_nMuts=1920_nSeqs=300.ccmpred.processed.couplings\n",
      "PPV 0.239583333333\n",
      "AUROC 0.657309948235\n",
      "Avg Pre 0.10187796126\n",
      "../Data/Simulated_couplings/1AOE_A_thresh=0.3_nMuts=1920_nSeqs=400.ccmpred.processed.couplings\n",
      "PPV 0.375\n",
      "AUROC 0.66844719258\n",
      "Avg Pre 0.142306968819\n",
      "../Data/Simulated_couplings/1AOE_A_thresh=0.3_nMuts=1920_nSeqs=500.ccmpred.processed.couplings\n",
      "PPV 0.46875\n",
      "AUROC 0.701321057305\n",
      "Avg Pre 0.179751758606\n",
      "../Data/Simulated_couplings/1AOE_A_thresh=0.3_nMuts=1920_nSeqs=1000.ccmpred.processed.couplings\n",
      "PPV 0.697916666667\n",
      "AUROC 0.744165739564\n",
      "Avg Pre 0.29788419427\n",
      "../Data/Simulated_couplings/1AOE_A_thresh=0.3_nMuts=1920_nSeqs=1500.ccmpred.processed.couplings\n",
      "PPV 0.833333333333\n",
      "AUROC 0.756054234647\n",
      "Avg Pre 0.364662793409\n",
      "../Data/Simulated_couplings/1AOE_A_thresh=0.3_nMuts=1920_nSeqs=2000.ccmpred.processed.couplings\n",
      "PPV 0.875\n",
      "AUROC 0.767445050038\n",
      "Avg Pre 0.406150848526\n",
      "../Data/Simulated_couplings/1AOE_A_thresh=0.3_nMuts=1920_nSeqs=2500.ccmpred.processed.couplings\n",
      "PPV 0.885416666667\n",
      "AUROC 0.769950778511\n",
      "Avg Pre 0.447866884861\n",
      "../Data/Simulated_couplings/1AOE_A_thresh=0.3_nMuts=1920_nSeqs=3000.ccmpred.processed.couplings\n",
      "PPV 0.885416666667\n",
      "AUROC 0.769878694163\n",
      "Avg Pre 0.46066025494\n",
      "../Data/Simulated_couplings/1AOE_A_thresh=0.5_nMuts=1920_nSeqs=100.ccmpred.processed.couplings\n",
      "PPV 0.197916666667\n",
      "AUROC 0.614275592708\n",
      "Avg Pre 0.0739258556121\n",
      "../Data/Simulated_couplings/1AOE_A_thresh=0.5_nMuts=1920_nSeqs=200.ccmpred.processed.couplings\n",
      "PPV 0.46875\n",
      "AUROC 0.675230138317\n",
      "Avg Pre 0.154537224722\n",
      "../Data/Simulated_couplings/1AOE_A_thresh=0.5_nMuts=1920_nSeqs=300.ccmpred.processed.couplings\n",
      "PPV 0.541666666667\n",
      "AUROC 0.71158722929\n",
      "Avg Pre 0.208145699777\n",
      "../Data/Simulated_couplings/1AOE_A_thresh=0.5_nMuts=1920_nSeqs=400.ccmpred.processed.couplings\n",
      "PPV 0.666666666667\n",
      "AUROC 0.71749282984\n",
      "Avg Pre 0.266396400722\n",
      "../Data/Simulated_couplings/1AOE_A_thresh=0.5_nMuts=1920_nSeqs=500.ccmpred.processed.couplings\n",
      "PPV 0.708333333333\n",
      "AUROC 0.713785589254\n",
      "Avg Pre 0.280683244616\n",
      "../Data/Simulated_couplings/1AOE_A_thresh=0.5_nMuts=1920_nSeqs=1000.ccmpred.processed.couplings\n",
      "PPV 0.854166666667\n",
      "AUROC 0.748561927897\n",
      "Avg Pre 0.371333161827\n",
      "../Data/Simulated_couplings/1AOE_A_thresh=0.5_nMuts=1920_nSeqs=1500.ccmpred.processed.couplings\n",
      "PPV 0.84375\n",
      "AUROC 0.765123785198\n",
      "Avg Pre 0.392600333433\n",
      "../Data/Simulated_couplings/1AOE_A_thresh=0.5_nMuts=1920_nSeqs=2000.ccmpred.processed.couplings\n",
      "PPV 0.864583333333\n",
      "AUROC 0.775085352971\n",
      "Avg Pre 0.426268204442\n",
      "../Data/Simulated_couplings/1AOE_A_thresh=0.5_nMuts=1920_nSeqs=2500.ccmpred.processed.couplings\n",
      "PPV 0.875\n",
      "AUROC 0.792292248232\n",
      "Avg Pre 0.450375013439\n",
      "../Data/Simulated_couplings/1AOE_A_thresh=0.5_nMuts=1920_nSeqs=3000.ccmpred.processed.couplings\n",
      "PPV 0.885416666667\n",
      "AUROC 0.788267857781\n",
      "Avg Pre 0.465819380603\n",
      "../Data/Simulated_couplings/1AOE_A_thresh=0.7_nMuts=1920_nSeqs=100.ccmpred.processed.couplings\n",
      "PPV 0.260416666667\n",
      "AUROC 0.618588107911\n",
      "Avg Pre 0.106416079009\n",
      "../Data/Simulated_couplings/1AOE_A_thresh=0.7_nMuts=1920_nSeqs=200.ccmpred.processed.couplings\n",
      "PPV 0.5\n",
      "AUROC 0.670707749216\n",
      "Avg Pre 0.183825091753\n",
      "../Data/Simulated_couplings/1AOE_A_thresh=0.7_nMuts=1920_nSeqs=300.ccmpred.processed.couplings\n",
      "PPV 0.604166666667\n",
      "AUROC 0.675225141319\n",
      "Avg Pre 0.225292994459\n",
      "../Data/Simulated_couplings/1AOE_A_thresh=0.7_nMuts=1920_nSeqs=400.ccmpred.processed.couplings\n",
      "PPV 0.666666666667\n",
      "AUROC 0.692011225596\n",
      "Avg Pre 0.262738265609\n",
      "../Data/Simulated_couplings/1AOE_A_thresh=0.7_nMuts=1920_nSeqs=500.ccmpred.processed.couplings\n",
      "PPV 0.71875\n",
      "AUROC 0.718916655184\n",
      "Avg Pre 0.285285822315\n",
      "../Data/Simulated_couplings/1AOE_A_thresh=0.7_nMuts=1920_nSeqs=1000.ccmpred.processed.couplings\n",
      "PPV 0.802083333333\n",
      "AUROC 0.751765853878\n",
      "Avg Pre 0.350364272463\n",
      "../Data/Simulated_couplings/1AOE_A_thresh=0.7_nMuts=1920_nSeqs=1500.ccmpred.processed.couplings\n",
      "PPV 0.802083333333\n",
      "AUROC 0.766179746467\n",
      "Avg Pre 0.389429059181\n",
      "../Data/Simulated_couplings/1AOE_A_thresh=0.7_nMuts=1920_nSeqs=2000.ccmpred.processed.couplings\n",
      "PPV 0.822916666667\n",
      "AUROC 0.784249208561\n",
      "Avg Pre 0.404246501252\n",
      "../Data/Simulated_couplings/1AOE_A_thresh=0.7_nMuts=1920_nSeqs=2500.ccmpred.processed.couplings\n",
      "PPV 0.822916666667\n",
      "AUROC 0.796527894729\n",
      "Avg Pre 0.417876769128\n",
      "../Data/Simulated_couplings/1AOE_A_thresh=0.7_nMuts=1920_nSeqs=3000.ccmpred.processed.couplings\n",
      "PPV 0.822916666667\n",
      "AUROC 0.796125264309\n",
      "Avg Pre 0.422050630322\n",
      "../Data/Simulated_couplings/1AOE_A_thresh=0.9_nMuts=1920_nSeqs=100.ccmpred.processed.couplings\n",
      "PPV 0.239583333333\n",
      "AUROC 0.654249871992\n",
      "Avg Pre 0.0903611847281\n",
      "../Data/Simulated_couplings/1AOE_A_thresh=0.9_nMuts=1920_nSeqs=200.ccmpred.processed.couplings\n",
      "PPV 0.395833333333\n",
      "AUROC 0.684723689426\n",
      "Avg Pre 0.136592845755\n",
      "../Data/Simulated_couplings/1AOE_A_thresh=0.9_nMuts=1920_nSeqs=300.ccmpred.processed.couplings\n",
      "PPV 0.46875\n",
      "AUROC 0.68373205121\n",
      "Avg Pre 0.162115557008\n",
      "../Data/Simulated_couplings/1AOE_A_thresh=0.9_nMuts=1920_nSeqs=400.ccmpred.processed.couplings\n",
      "PPV 0.552083333333\n",
      "AUROC 0.690420585589\n",
      "Avg Pre 0.186729196398\n",
      "../Data/Simulated_couplings/1AOE_A_thresh=0.9_nMuts=1920_nSeqs=500.ccmpred.processed.couplings\n",
      "PPV 0.5625\n",
      "AUROC 0.7113412069\n",
      "Avg Pre 0.200650612382\n",
      "../Data/Simulated_couplings/1AOE_A_thresh=0.9_nMuts=1920_nSeqs=1000.ccmpred.processed.couplings\n",
      "PPV 0.6875\n",
      "AUROC 0.730238256843\n",
      "Avg Pre 0.259216719883\n",
      "../Data/Simulated_couplings/1AOE_A_thresh=0.9_nMuts=1920_nSeqs=1500.ccmpred.processed.couplings\n",
      "PPV 0.6875\n",
      "AUROC 0.735131593272\n",
      "Avg Pre 0.274132007345\n",
      "../Data/Simulated_couplings/1AOE_A_thresh=0.9_nMuts=1920_nSeqs=2000.ccmpred.processed.couplings\n",
      "PPV 0.697916666667\n",
      "AUROC 0.744453120083\n",
      "Avg Pre 0.293833548678\n",
      "../Data/Simulated_couplings/1AOE_A_thresh=0.9_nMuts=1920_nSeqs=2500.ccmpred.processed.couplings\n",
      "PPV 0.697916666667\n",
      "AUROC 0.760055447535\n",
      "Avg Pre 0.302699998137\n",
      "../Data/Simulated_couplings/1AOE_A_thresh=0.9_nMuts=1920_nSeqs=3000.ccmpred.processed.couplings\n",
      "PPV 0.71875\n",
      "AUROC 0.772222604971\n",
      "Avg Pre 0.316514771411\n",
      "../Data/Simulated_couplings/1AOE_A_thresh=0.1_nMuts=1920_nSeqs=100.ccmpred.processed.couplings\n",
      "PPV 0.0416666666667\n",
      "AUROC 0.532110174653\n",
      "Avg Pre 0.0217267111102\n",
      "../Data/Simulated_couplings/1AOE_A_thresh=0.1_nMuts=1920_nSeqs=200.ccmpred.processed.couplings\n",
      "PPV 0.0833333333333\n",
      "AUROC 0.554902331025\n",
      "Avg Pre 0.031469487219\n",
      "../Data/Simulated_couplings/1AOE_A_thresh=0.1_nMuts=1920_nSeqs=300.ccmpred.processed.couplings\n",
      "PPV 0.0833333333333\n",
      "AUROC 0.580318655344\n",
      "Avg Pre 0.0378458834585\n",
      "../Data/Simulated_couplings/1AOE_A_thresh=0.1_nMuts=1920_nSeqs=400.ccmpred.processed.couplings\n",
      "PPV 0.0833333333333\n",
      "AUROC 0.585817372711\n",
      "Avg Pre 0.0430683156803\n",
      "../Data/Simulated_couplings/1AOE_A_thresh=0.1_nMuts=1920_nSeqs=500.ccmpred.processed.couplings\n",
      "PPV 0.15625\n",
      "AUROC 0.604334225563\n",
      "Avg Pre 0.0569626247466\n",
      "../Data/Simulated_couplings/1AOE_A_thresh=0.1_nMuts=1920_nSeqs=1000.ccmpred.processed.couplings\n",
      "PPV 0.34375\n",
      "AUROC 0.654266670409\n",
      "Avg Pre 0.144009663679\n",
      "../Data/Simulated_couplings/1AOE_A_thresh=0.1_nMuts=1920_nSeqs=1500.ccmpred.processed.couplings\n",
      "PPV 0.5625\n",
      "AUROC 0.688175551541\n",
      "Avg Pre 0.236700190658\n",
      "../Data/Simulated_couplings/1AOE_A_thresh=0.1_nMuts=1920_nSeqs=2000.ccmpred.processed.couplings\n",
      "PPV 0.6875\n",
      "AUROC 0.699867994209\n",
      "Avg Pre 0.287724968218\n",
      "../Data/Simulated_couplings/1AOE_A_thresh=0.1_nMuts=1920_nSeqs=2500.ccmpred.processed.couplings\n",
      "PPV 0.802083333333\n",
      "AUROC 0.718830855673\n",
      "Avg Pre 0.324692387736\n",
      "../Data/Simulated_couplings/1AOE_A_thresh=0.1_nMuts=1920_nSeqs=3000.ccmpred.processed.couplings\n",
      "PPV 0.833333333333\n",
      "AUROC 0.746375156714\n",
      "Avg Pre 0.351336271787\n",
      "../Data/Simulated_couplings/1AOE_A_thresh=0.3_nMuts=1920_nSeqs=100.ccmpred.processed.couplings\n",
      "PPV 0.0833333333333\n",
      "AUROC 0.580162366272\n",
      "Avg Pre 0.0296317487856\n",
      "../Data/Simulated_couplings/1AOE_A_thresh=0.3_nMuts=1920_nSeqs=200.ccmpred.processed.couplings\n",
      "PPV 0.197916666667\n",
      "AUROC 0.632703669115\n",
      "Avg Pre 0.0712360543919\n",
      "../Data/Simulated_couplings/1AOE_A_thresh=0.3_nMuts=1920_nSeqs=300.ccmpred.processed.couplings\n",
      "PPV 0.260416666667\n",
      "AUROC 0.695522094809\n",
      "Avg Pre 0.118596849762\n",
      "../Data/Simulated_couplings/1AOE_A_thresh=0.3_nMuts=1920_nSeqs=400.ccmpred.processed.couplings\n",
      "PPV 0.385416666667\n",
      "AUROC 0.715108305138\n",
      "Avg Pre 0.162994272834\n",
      "../Data/Simulated_couplings/1AOE_A_thresh=0.3_nMuts=1920_nSeqs=500.ccmpred.processed.couplings\n",
      "PPV 0.5\n",
      "AUROC 0.741596325952\n",
      "Avg Pre 0.20628285352\n",
      "../Data/Simulated_couplings/1AOE_A_thresh=0.3_nMuts=1920_nSeqs=1000.ccmpred.processed.couplings\n",
      "PPV 0.770833333333\n",
      "AUROC 0.778570386644\n",
      "Avg Pre 0.35740304221\n",
      "../Data/Simulated_couplings/1AOE_A_thresh=0.3_nMuts=1920_nSeqs=1500.ccmpred.processed.couplings\n",
      "PPV 0.927083333333\n",
      "AUROC 0.812027836891\n",
      "Avg Pre 0.447311859933\n",
      "../Data/Simulated_couplings/1AOE_A_thresh=0.3_nMuts=1920_nSeqs=2000.ccmpred.processed.couplings\n",
      "PPV 0.979166666667\n",
      "AUROC 0.826647137975\n",
      "Avg Pre 0.507253306351\n",
      "../Data/Simulated_couplings/1AOE_A_thresh=0.3_nMuts=1920_nSeqs=2500.ccmpred.processed.couplings\n",
      "PPV 0.979166666667\n",
      "AUROC 0.841364465266\n",
      "Avg Pre 0.552759916574\n",
      "../Data/Simulated_couplings/1AOE_A_thresh=0.3_nMuts=1920_nSeqs=3000.ccmpred.processed.couplings\n",
      "PPV 0.979166666667\n",
      "AUROC 0.839562888171\n",
      "Avg Pre 0.570162704247\n",
      "../Data/Simulated_couplings/1AOE_A_thresh=0.5_nMuts=1920_nSeqs=100.ccmpred.processed.couplings\n",
      "PPV 0.25\n",
      "AUROC 0.650907837504\n",
      "Avg Pre 0.0967160901903\n",
      "../Data/Simulated_couplings/1AOE_A_thresh=0.5_nMuts=1920_nSeqs=200.ccmpred.processed.couplings\n",
      "PPV 0.541666666667\n",
      "AUROC 0.720136560501\n",
      "Avg Pre 0.203091486067\n",
      "../Data/Simulated_couplings/1AOE_A_thresh=0.5_nMuts=1920_nSeqs=300.ccmpred.processed.couplings\n",
      "PPV 0.635416666667\n",
      "AUROC 0.748482294893\n",
      "Avg Pre 0.269228673696\n",
      "../Data/Simulated_couplings/1AOE_A_thresh=0.5_nMuts=1920_nSeqs=400.ccmpred.processed.couplings\n",
      "PPV 0.770833333333\n",
      "AUROC 0.762423067502\n",
      "Avg Pre 0.34452622542\n",
      "../Data/Simulated_couplings/1AOE_A_thresh=0.5_nMuts=1920_nSeqs=500.ccmpred.processed.couplings\n",
      "PPV 0.8125\n",
      "AUROC 0.765704606424\n",
      "Avg Pre 0.372290788599\n",
      "../Data/Simulated_couplings/1AOE_A_thresh=0.5_nMuts=1920_nSeqs=1000.ccmpred.processed.couplings\n",
      "PPV 0.979166666667\n",
      "AUROC 0.815245690674\n",
      "Avg Pre 0.497940037491\n",
      "../Data/Simulated_couplings/1AOE_A_thresh=0.5_nMuts=1920_nSeqs=1500.ccmpred.processed.couplings\n",
      "PPV 0.989583333333\n",
      "AUROC 0.842122839383\n",
      "Avg Pre 0.552511821417\n",
      "../Data/Simulated_couplings/1AOE_A_thresh=0.5_nMuts=1920_nSeqs=2000.ccmpred.processed.couplings\n",
      "PPV 1.0\n",
      "AUROC 0.862636364874\n",
      "Avg Pre 0.601784348951\n",
      "../Data/Simulated_couplings/1AOE_A_thresh=0.5_nMuts=1920_nSeqs=2500.ccmpred.processed.couplings\n",
      "PPV 1.0\n",
      "AUROC 0.87423131293\n",
      "Avg Pre 0.639702598008\n",
      "../Data/Simulated_couplings/1AOE_A_thresh=0.5_nMuts=1920_nSeqs=3000.ccmpred.processed.couplings\n",
      "PPV 1.0\n",
      "AUROC 0.879740981164\n",
      "Avg Pre 0.666196530623\n",
      "../Data/Simulated_couplings/1AOE_A_thresh=0.7_nMuts=1920_nSeqs=100.ccmpred.processed.couplings\n",
      "PPV 0.34375\n",
      "AUROC 0.661946949322\n",
      "Avg Pre 0.148627694411\n",
      "../Data/Simulated_couplings/1AOE_A_thresh=0.7_nMuts=1920_nSeqs=200.ccmpred.processed.couplings\n",
      "PPV 0.625\n",
      "AUROC 0.728916923108\n",
      "Avg Pre 0.271798773263\n",
      "../Data/Simulated_couplings/1AOE_A_thresh=0.7_nMuts=1920_nSeqs=300.ccmpred.processed.couplings\n",
      "PPV 0.75\n",
      "AUROC 0.752574410609\n",
      "Avg Pre 0.338453105899\n",
      "../Data/Simulated_couplings/1AOE_A_thresh=0.7_nMuts=1920_nSeqs=400.ccmpred.processed.couplings\n",
      "PPV 0.84375\n",
      "AUROC 0.778782705881\n",
      "Avg Pre 0.401464949297\n",
      "../Data/Simulated_couplings/1AOE_A_thresh=0.7_nMuts=1920_nSeqs=500.ccmpred.processed.couplings\n",
      "PPV 0.916666666667\n",
      "AUROC 0.797447661235\n",
      "Avg Pre 0.43949632565\n",
      "../Data/Simulated_couplings/1AOE_A_thresh=0.7_nMuts=1920_nSeqs=1000.ccmpred.processed.couplings\n",
      "PPV 0.979166666667\n",
      "AUROC 0.830577010749\n",
      "Avg Pre 0.538954976778\n",
      "../Data/Simulated_couplings/1AOE_A_thresh=0.7_nMuts=1920_nSeqs=1500.ccmpred.processed.couplings\n",
      "PPV 0.979166666667\n",
      "AUROC 0.85413689732\n",
      "Avg Pre 0.606362603753\n",
      "../Data/Simulated_couplings/1AOE_A_thresh=0.7_nMuts=1920_nSeqs=2000.ccmpred.processed.couplings\n",
      "PPV 0.989583333333\n",
      "AUROC 0.867949768054\n",
      "Avg Pre 0.624803436143\n",
      "../Data/Simulated_couplings/1AOE_A_thresh=0.7_nMuts=1920_nSeqs=2500.ccmpred.processed.couplings\n",
      "PPV 0.989583333333\n",
      "AUROC 0.884121646908\n",
      "Avg Pre 0.644928150058\n",
      "../Data/Simulated_couplings/1AOE_A_thresh=0.7_nMuts=1920_nSeqs=3000.ccmpred.processed.couplings\n",
      "PPV 1.0\n",
      "AUROC 0.887138876556\n",
      "Avg Pre 0.658472713286\n",
      "../Data/Simulated_couplings/1AOE_A_thresh=0.9_nMuts=1920_nSeqs=100.ccmpred.processed.couplings\n",
      "PPV 0.354166666667\n",
      "AUROC 0.712467445093\n",
      "Avg Pre 0.148687559127\n",
      "../Data/Simulated_couplings/1AOE_A_thresh=0.9_nMuts=1920_nSeqs=200.ccmpred.processed.couplings\n",
      "PPV 0.541666666667\n",
      "AUROC 0.743085962817\n",
      "Avg Pre 0.226917458407\n",
      "../Data/Simulated_couplings/1AOE_A_thresh=0.9_nMuts=1920_nSeqs=300.ccmpred.processed.couplings\n",
      "PPV 0.614583333333\n",
      "AUROC 0.747343723686\n",
      "Avg Pre 0.262966689481\n",
      "../Data/Simulated_couplings/1AOE_A_thresh=0.9_nMuts=1920_nSeqs=400.ccmpred.processed.couplings\n",
      "PPV 0.729166666667\n",
      "AUROC 0.758625987279\n",
      "Avg Pre 0.300795678913\n",
      "../Data/Simulated_couplings/1AOE_A_thresh=0.9_nMuts=1920_nSeqs=500.ccmpred.processed.couplings\n",
      "PPV 0.739583333333\n",
      "AUROC 0.779193948147\n",
      "Avg Pre 0.320966315393\n",
      "../Data/Simulated_couplings/1AOE_A_thresh=0.9_nMuts=1920_nSeqs=1000.ccmpred.processed.couplings\n",
      "PPV 0.895833333333\n",
      "AUROC 0.793602099504\n",
      "Avg Pre 0.410016602567\n",
      "../Data/Simulated_couplings/1AOE_A_thresh=0.9_nMuts=1920_nSeqs=1500.ccmpred.processed.couplings\n",
      "PPV 0.875\n",
      "AUROC 0.811528030817\n",
      "Avg Pre 0.433821772356\n",
      "../Data/Simulated_couplings/1AOE_A_thresh=0.9_nMuts=1920_nSeqs=2000.ccmpred.processed.couplings\n",
      "PPV 0.895833333333\n",
      "AUROC 0.825344091125\n",
      "Avg Pre 0.463803990562\n",
      "../Data/Simulated_couplings/1AOE_A_thresh=0.9_nMuts=1920_nSeqs=2500.ccmpred.processed.couplings\n",
      "PPV 0.916666666667\n",
      "AUROC 0.843731659956\n",
      "Avg Pre 0.477637820841\n",
      "../Data/Simulated_couplings/1AOE_A_thresh=0.9_nMuts=1920_nSeqs=3000.ccmpred.processed.couplings\n",
      "PPV 0.9375\n",
      "AUROC 0.851231090085\n",
      "Avg Pre 0.49324268138\n"
     ]
    }
   ],
   "source": [
    "contact_number_modifier = 0.5\n",
    "primary_chain_distance = 12\n",
    "number_to_test = round(len(df_contacts.index)* contact_number_modifier) \n",
    "length_cutoff_CA = 8\n",
    "####It was just easier to paste these numbers that were calculated in 'contact_info_from_structure.ipynb'\n",
    "length_cutoff_CB = 7.5009365081787109\n",
    "length_cutoff_SCcenter = 7.3295459747314453\n",
    "thresholds = [str(i) for i in [0.1, 0.3, 0.5, 0.7, 0.9]]\n",
    "nMut = len(df_contacts.index)*10\n",
    "ppvs_dict = {}\n",
    "metrics = ['CB', 'SCcenter']\n",
    "for metric in metrics:\n",
    "    if metric == 'CA':\n",
    "        length_cutoff = length_cutoff_CA\n",
    "    elif metric == 'CB':\n",
    "        length_cutoff = length_cutoff_CB\n",
    "    elif metric == 'SCcenter':\n",
    "        length_cutoff = length_cutoff_SCcenter\n",
    "\n",
    "    ppvs_lol = []\n",
    "    contact_file_loc = '../Data/Contact_matrices/{}_{}_contacts.csv'.format(prot_name, metric)\n",
    "    df_contacts = pd.read_csv(contact_file_loc, index_col=0)\n",
    "    df_contacts, df_contacts_stack = process_contacts_df(df_contacts, primary_chain_distance)\n",
    "    for threshold in thresholds:\n",
    "        cat_ppvs = []\n",
    "        for nSeq in list(range(100, 501, 100)) + list(range(1000, 3001, 500)):\n",
    "#             file_loc = '../Deprecated/Data/Simulated_couplings/3ip0_ALL_thresh={}_nMuts={}_nSeqs={}.couplings'.format(threshold, nMut, nSeq)\n",
    "            file_loc = '../Data/Simulated_couplings/1AOE_A_thresh={}_nMuts={}_nSeqs={}.ccmpred.processed.couplings'.format(threshold, nMut, nSeq)\n",
    "            print(file_loc)\n",
    "            df_couplings = pd.read_csv(file_loc, sep=',')\n",
    "#             df_couplings.columns = ['aa1_loc', 'trash1', 'aa2_loc', 'trash2', 'trash3', 'couplings']\n",
    "            df_couplings_stack, df_couplings_pivot = process_couplings_df(df_couplings, df_contacts,\\\n",
    "                                                                          primary_chain_distance)\n",
    "            merged_df = merge_contacts_couplings(df_contacts_stack, df_couplings_stack, seq)\n",
    "       \n",
    "            ppv, counts = ppv_from_df(merged_df, number_to_test, length_cutoff=length_cutoff)\n",
    "            \n",
    "            ####Testing\n",
    "            merged_df['contact'] = np.where(merged_df['distance']>=length_cutoff, 0, 1)\n",
    "            print('PPV', ppv)\n",
    "            print('AUROC', sklearn.metrics.roc_auc_score(merged_df['contact'], merged_df['couplings']))\n",
    "            print('Avg Pre',\\\n",
    "                  sklearn.metrics.average_precision_score(merged_df['contact'], merged_df['couplings']))\n",
    "\n",
    "\n",
    "            cat_ppvs.append(ppv)\n",
    "        ppvs_lol.append(cat_ppvs)\n",
    "    ppvs_dict[metric] = ppvs_lol"
   ]
  },
  {
   "cell_type": "markdown",
   "metadata": {},
   "source": [
    "# Paper figure/s"
   ]
  },
  {
   "cell_type": "code",
   "execution_count": 12,
   "metadata": {
    "collapsed": false
   },
   "outputs": [
    {
     "data": {
      "image/png": "[encoded data removed]",
      "text/plain": [
       "<matplotlib.figure.Figure at 0x119306c50>"
      ]
     },
     "metadata": {},
     "output_type": "display_data"
    }
   ],
   "source": [
    "fig, all_ax = plt.subplots(nrows=1, ncols=2, figsize=(8,2.5))\n",
    "x_vals = np.concatenate((np.arange(100, 501, 100), np.arange(1000, 3001, 500)))\n",
    "labels = thresholds\n",
    "\n",
    "ax = all_ax[0]\n",
    "for i,ppvs in enumerate(ppvs_dict[metrics[0]]):\n",
    "    ax.plot(x_vals, ppvs, marker='o', label=thresholds[i], markersize=5)\n",
    "ax.set_ylim(0,1)\n",
    "\n",
    "# ax.set_ylabel(r'PPV''\\n'r'(C$\\alpha$)')\n",
    "ax.set_ylabel(r'PPV''\\n'r'(C$\\beta$)')\n",
    "\n",
    "ax.set_xlabel('Number of independent sequences')\n",
    "ax.set_ylim(0, 1.05);\n",
    "\n",
    "ax = all_ax[1]\n",
    "for i,ppvs in enumerate(ppvs_dict[metrics[1]]):\n",
    "    ax.plot(x_vals, ppvs, marker='o', label=thresholds[i], markersize=5)\n",
    "ax.set_ylim(0,1)\n",
    "ax.set_ylabel(r'PPV''\\n'r'(Side-chain center)')\n",
    "\n",
    "ax.set_xlabel('Number of independent sequences')\n",
    "ax.set_ylim(0, 1.05);\n",
    "legend = ax.legend(ncol=5, bbox_to_anchor=(-1.07, -0.8, 1., .102), loc=3, fontsize=12,\\\n",
    "                   title='Selective constraint (wild-type stability=1)')\n",
    "legend.get_title().set_fontsize('12') #legend 'Title' fontsize\n",
    "plt.tight_layout()\n",
    "\n",
    "\n",
    "# plt.savefig('{}/example_all_sims_nseqs.pdf'.format(figs_dir), bbox_inches='tight')\n",
    "plt.savefig('{}/example_all_sims_nseqs_CB_SC.pdf'.format(figs_dir), bbox_inches='tight')"
   ]
  },
  {
   "cell_type": "markdown",
   "metadata": {},
   "source": [
    "# Presentation Figure/s"
   ]
  },
  {
   "cell_type": "markdown",
   "metadata": {},
   "source": [
    "**Just show Sim of 0.5**"
   ]
  },
  {
   "cell_type": "code",
   "execution_count": 10,
   "metadata": {
    "collapsed": false
   },
   "outputs": [
    {
     "data": {
      "image/png": "[encoded data removed]",
      "text/plain": [
       "<matplotlib.figure.Figure at 0x1146ce2b0>"
      ]
     },
     "metadata": {},
     "output_type": "display_data"
    }
   ],
   "source": [
    "fig, all_ax = plt.subplots(nrows=1, ncols=2, figsize=(8,2.5))\n",
    "x_vals = np.concatenate((np.arange(100, 501, 100), np.arange(1000, 3001, 500)))\n",
    "labels = thresholds\n",
    "\n",
    "ax = all_ax[0]\n",
    "for i,ppvs in enumerate(ppvs_dict[metrics[0]]):\n",
    "    if i == 2:\n",
    "        ax.plot(x_vals, ppvs, c='g', marker='o', label=thresholds[i], markersize=5)\n",
    "ax.set_ylim(0,1)\n",
    "ax.set_ylabel(r'PPV''\\n'r'(C$\\alpha$)')\n",
    "ax.set_xlabel('Number of independent sequences')\n",
    "ax.set_ylim(0, 1.05);\n",
    "\n",
    "ax = all_ax[1]\n",
    "for i,ppvs in enumerate(ppvs_dict[metrics[1]]):\n",
    "    if i == 2:\n",
    "        ax.plot(x_vals, ppvs, c='g', marker='o', label=thresholds[i], markersize=5)\n",
    "ax.set_ylim(0,1)\n",
    "ax.set_ylabel(r'PPV''\\n'r'(Side-chain center)')\n",
    "\n",
    "ax.set_xlabel('Number of independent sequences')\n",
    "ax.set_ylim(0, 1.05);\n",
    "legend = ax.legend(ncol=5, bbox_to_anchor=(-0.6, 1.02, 1., .102), loc=3, fontsize=12, title='Simulation threshold')\n",
    "legend.get_title().set_fontsize('12') #legend 'Title' fontsize\n",
    "plt.tight_layout()\n",
    "\n",
    "\n",
    "plt.savefig('{}/example_single_sim_nseqs.pdf'.format(figs_dir), bbox_inches='tight')"
   ]
  },
  {
   "cell_type": "code",
   "execution_count": 11,
   "metadata": {
    "collapsed": false
   },
   "outputs": [
    {
     "ename": "NameError",
     "evalue": "name 'tprs_dict' is not defined",
     "output_type": "error",
     "traceback": [
      "\u001b[0;31m---------------------------------------------------------------------------\u001b[0m",
      "\u001b[0;31mNameError\u001b[0m                                 Traceback (most recent call last)",
      "\u001b[0;32m<ipython-input-11-f41fc86f71b2>\u001b[0m in \u001b[0;36m<module>\u001b[0;34m()\u001b[0m\n\u001b[1;32m      3\u001b[0m \u001b[0mlabels\u001b[0m \u001b[0;34m=\u001b[0m \u001b[0mthresholds\u001b[0m\u001b[0;34m\u001b[0m\u001b[0m\n\u001b[1;32m      4\u001b[0m \u001b[0;34m\u001b[0m\u001b[0m\n\u001b[0;32m----> 5\u001b[0;31m \u001b[0;32mfor\u001b[0m \u001b[0mi\u001b[0m\u001b[0;34m,\u001b[0m\u001b[0mtprs\u001b[0m \u001b[0;32min\u001b[0m \u001b[0menumerate\u001b[0m\u001b[0;34m(\u001b[0m\u001b[0mtprs_dict\u001b[0m\u001b[0;34m[\u001b[0m\u001b[0mmetrics\u001b[0m\u001b[0;34m[\u001b[0m\u001b[0;36m0\u001b[0m\u001b[0;34m]\u001b[0m\u001b[0;34m]\u001b[0m\u001b[0;34m)\u001b[0m\u001b[0;34m:\u001b[0m\u001b[0;34m\u001b[0m\u001b[0m\n\u001b[0m\u001b[1;32m      6\u001b[0m     \u001b[0;32mif\u001b[0m \u001b[0mi\u001b[0m \u001b[0;34m==\u001b[0m \u001b[0;36m2\u001b[0m\u001b[0;34m:\u001b[0m\u001b[0;34m\u001b[0m\u001b[0m\n\u001b[1;32m      7\u001b[0m         \u001b[0max\u001b[0m\u001b[0;34m.\u001b[0m\u001b[0mplot\u001b[0m\u001b[0;34m(\u001b[0m\u001b[0mx_vals\u001b[0m\u001b[0;34m,\u001b[0m \u001b[0mtprs\u001b[0m\u001b[0;34m,\u001b[0m \u001b[0mc\u001b[0m\u001b[0;34m=\u001b[0m\u001b[0;34m'g'\u001b[0m\u001b[0;34m,\u001b[0m \u001b[0mmarker\u001b[0m\u001b[0;34m=\u001b[0m\u001b[0;34m'o'\u001b[0m\u001b[0;34m,\u001b[0m \u001b[0mlabel\u001b[0m\u001b[0;34m=\u001b[0m\u001b[0mthresholds\u001b[0m\u001b[0;34m[\u001b[0m\u001b[0mi\u001b[0m\u001b[0;34m]\u001b[0m\u001b[0;34m,\u001b[0m \u001b[0mmarkersize\u001b[0m\u001b[0;34m=\u001b[0m\u001b[0;36m5\u001b[0m\u001b[0;34m)\u001b[0m\u001b[0;34m\u001b[0m\u001b[0m\n",
      "\u001b[0;31mNameError\u001b[0m: name 'tprs_dict' is not defined"
     ]
    },
    {
     "data": {
      "image/png": "[encoded data removed]",
      "text/plain": [
       "<matplotlib.figure.Figure at 0x118420048>"
      ]
     },
     "metadata": {},
     "output_type": "display_data"
    }
   ],
   "source": [
    "fig, ax = plt.subplots(figsize=(4,2.5))\n",
    "x_vals = np.concatenate((np.arange(100, 501, 100), np.arange(1000, 3001, 500)))\n",
    "labels = thresholds\n",
    "\n",
    "for i,tprs in enumerate(tprs_dict[metrics[0]]):\n",
    "    if i == 2:\n",
    "        ax.plot(x_vals, tprs, c='g', marker='o', label=thresholds[i], markersize=5)\n",
    "ax.set_ylim(0,1)\n",
    "ax.set_ylabel(r'PPV''\\n'r'(C$\\alpha$)')\n",
    "ax.set_xlabel('Number of independent sequences')\n",
    "ax.set_ylim(0, 1.05);\n",
    "# legend = ax.legend(ncol=5, bbox_to_anchor=(-0.6, 1.02, 1., .102), loc=3, fontsize=12, title='Simulation threshold')\n",
    "legend = ax.legend(loc='center left', bbox_to_anchor=(1, 0.5), fontsize=12, title='Simulation threshold')\n",
    "legend.get_title().set_fontsize('12') #legend 'Title' fontsize\n",
    "plt.tight_layout()\n",
    "plt.savefig('{}/example_single_sim_nseqs_left.pdf'.format(figs_dir), bbox_inches='tight')\n",
    "\n",
    "\n",
    "fig, ax = plt.subplots(figsize=(4,2.5))\n",
    "x_vals = np.concatenate((np.arange(100, 501, 100), np.arange(1000, 3001, 500)))\n",
    "labels = thresholds\n",
    "for i,tprs in enumerate(tprs_dict[metrics[0]]):\n",
    "    ax.plot(x_vals, tprs, marker='o', label=thresholds[i], markersize=5)\n",
    "ax.set_ylim(0,1)\n",
    "ax.set_ylabel(r'PPV''\\n'r'(C$\\alpha$)')\n",
    "ax.set_xlabel('Number of independent sequences')\n",
    "ax.set_ylim(0, 1.05);\n",
    "# legend = ax.legend(ncol=5, bbox_to_anchor=(-0.6, 1.02, 1., .102), loc=3, fontsize=12, title='Simulation threshold')\n",
    "legend = ax.legend(loc='center left', bbox_to_anchor=(1, 0.5), fontsize=12, title='Simulation threshold')\n",
    "legend.get_title().set_fontsize('12') #legend 'Title' fontsize\n",
    "plt.tight_layout()\n",
    "plt.savefig('{}/example_all_sim_nseqs_left.pdf'.format(figs_dir), bbox_inches='tight')\n",
    "\n",
    "\n"
   ]
  },
  {
   "cell_type": "markdown",
   "metadata": {},
   "source": [
    "# Fixed sequence number, altered mutation number"
   ]
  },
  {
   "cell_type": "code",
   "execution_count": 14,
   "metadata": {
    "collapsed": false
   },
   "outputs": [
    {
     "name": "stdout",
     "output_type": "stream",
     "text": [
      "0.5\n",
      "../Data/Simulated_couplings/1AOE_A_thresh=0.1_nMuts=96.0_nSeqs=3000.ccmpred.processed.couplings\n",
      "1\n",
      "../Data/Simulated_couplings/1AOE_A_thresh=0.1_nMuts=192_nSeqs=3000.ccmpred.processed.couplings\n",
      "2\n",
      "../Data/Simulated_couplings/1AOE_A_thresh=0.1_nMuts=384_nSeqs=3000.ccmpred.processed.couplings\n",
      "3\n",
      "../Data/Simulated_couplings/1AOE_A_thresh=0.1_nMuts=576_nSeqs=3000.ccmpred.processed.couplings\n",
      "4\n",
      "../Data/Simulated_couplings/1AOE_A_thresh=0.1_nMuts=768_nSeqs=3000.ccmpred.processed.couplings\n",
      "5\n",
      "../Data/Simulated_couplings/1AOE_A_thresh=0.1_nMuts=960_nSeqs=3000.ccmpred.processed.couplings\n",
      "10\n",
      "../Data/Simulated_couplings/1AOE_A_thresh=0.1_nMuts=1920_nSeqs=3000.ccmpred.processed.couplings\n",
      "0.5\n",
      "../Data/Simulated_couplings/1AOE_A_thresh=0.3_nMuts=96.0_nSeqs=3000.ccmpred.processed.couplings\n",
      "1\n",
      "../Data/Simulated_couplings/1AOE_A_thresh=0.3_nMuts=192_nSeqs=3000.ccmpred.processed.couplings\n",
      "2\n",
      "../Data/Simulated_couplings/1AOE_A_thresh=0.3_nMuts=384_nSeqs=3000.ccmpred.processed.couplings\n",
      "3\n",
      "../Data/Simulated_couplings/1AOE_A_thresh=0.3_nMuts=576_nSeqs=3000.ccmpred.processed.couplings\n",
      "4\n",
      "../Data/Simulated_couplings/1AOE_A_thresh=0.3_nMuts=768_nSeqs=3000.ccmpred.processed.couplings\n",
      "5\n",
      "../Data/Simulated_couplings/1AOE_A_thresh=0.3_nMuts=960_nSeqs=3000.ccmpred.processed.couplings\n",
      "10\n",
      "../Data/Simulated_couplings/1AOE_A_thresh=0.3_nMuts=1920_nSeqs=3000.ccmpred.processed.couplings\n",
      "0.5\n",
      "../Data/Simulated_couplings/1AOE_A_thresh=0.5_nMuts=96.0_nSeqs=3000.ccmpred.processed.couplings\n",
      "1\n",
      "../Data/Simulated_couplings/1AOE_A_thresh=0.5_nMuts=192_nSeqs=3000.ccmpred.processed.couplings\n",
      "2\n",
      "../Data/Simulated_couplings/1AOE_A_thresh=0.5_nMuts=384_nSeqs=3000.ccmpred.processed.couplings\n",
      "3\n",
      "../Data/Simulated_couplings/1AOE_A_thresh=0.5_nMuts=576_nSeqs=3000.ccmpred.processed.couplings\n",
      "4\n",
      "../Data/Simulated_couplings/1AOE_A_thresh=0.5_nMuts=768_nSeqs=3000.ccmpred.processed.couplings\n",
      "5\n",
      "../Data/Simulated_couplings/1AOE_A_thresh=0.5_nMuts=960_nSeqs=3000.ccmpred.processed.couplings\n",
      "10\n",
      "../Data/Simulated_couplings/1AOE_A_thresh=0.5_nMuts=1920_nSeqs=3000.ccmpred.processed.couplings\n",
      "0.5\n",
      "../Data/Simulated_couplings/1AOE_A_thresh=0.7_nMuts=96.0_nSeqs=3000.ccmpred.processed.couplings\n",
      "1\n",
      "../Data/Simulated_couplings/1AOE_A_thresh=0.7_nMuts=192_nSeqs=3000.ccmpred.processed.couplings\n",
      "2\n",
      "../Data/Simulated_couplings/1AOE_A_thresh=0.7_nMuts=384_nSeqs=3000.ccmpred.processed.couplings\n",
      "3\n",
      "../Data/Simulated_couplings/1AOE_A_thresh=0.7_nMuts=576_nSeqs=3000.ccmpred.processed.couplings\n",
      "4\n",
      "../Data/Simulated_couplings/1AOE_A_thresh=0.7_nMuts=768_nSeqs=3000.ccmpred.processed.couplings\n",
      "5\n",
      "../Data/Simulated_couplings/1AOE_A_thresh=0.7_nMuts=960_nSeqs=3000.ccmpred.processed.couplings\n",
      "10\n",
      "../Data/Simulated_couplings/1AOE_A_thresh=0.7_nMuts=1920_nSeqs=3000.ccmpred.processed.couplings\n",
      "0.5\n",
      "../Data/Simulated_couplings/1AOE_A_thresh=0.9_nMuts=96.0_nSeqs=3000.ccmpred.processed.couplings\n",
      "1\n",
      "../Data/Simulated_couplings/1AOE_A_thresh=0.9_nMuts=192_nSeqs=3000.ccmpred.processed.couplings\n",
      "2\n",
      "../Data/Simulated_couplings/1AOE_A_thresh=0.9_nMuts=384_nSeqs=3000.ccmpred.processed.couplings\n",
      "3\n",
      "../Data/Simulated_couplings/1AOE_A_thresh=0.9_nMuts=576_nSeqs=3000.ccmpred.processed.couplings\n",
      "4\n",
      "../Data/Simulated_couplings/1AOE_A_thresh=0.9_nMuts=768_nSeqs=3000.ccmpred.processed.couplings\n",
      "5\n",
      "../Data/Simulated_couplings/1AOE_A_thresh=0.9_nMuts=960_nSeqs=3000.ccmpred.processed.couplings\n",
      "10\n",
      "../Data/Simulated_couplings/1AOE_A_thresh=0.9_nMuts=1920_nSeqs=3000.ccmpred.processed.couplings\n",
      "0.5\n",
      "../Data/Simulated_couplings/1AOE_A_thresh=0.1_nMuts=96.0_nSeqs=3000.ccmpred.processed.couplings\n",
      "1\n",
      "../Data/Simulated_couplings/1AOE_A_thresh=0.1_nMuts=192_nSeqs=3000.ccmpred.processed.couplings\n",
      "2\n",
      "../Data/Simulated_couplings/1AOE_A_thresh=0.1_nMuts=384_nSeqs=3000.ccmpred.processed.couplings\n",
      "3\n",
      "../Data/Simulated_couplings/1AOE_A_thresh=0.1_nMuts=576_nSeqs=3000.ccmpred.processed.couplings\n",
      "4\n",
      "../Data/Simulated_couplings/1AOE_A_thresh=0.1_nMuts=768_nSeqs=3000.ccmpred.processed.couplings\n",
      "5\n",
      "../Data/Simulated_couplings/1AOE_A_thresh=0.1_nMuts=960_nSeqs=3000.ccmpred.processed.couplings\n",
      "10\n",
      "../Data/Simulated_couplings/1AOE_A_thresh=0.1_nMuts=1920_nSeqs=3000.ccmpred.processed.couplings\n",
      "0.5\n",
      "../Data/Simulated_couplings/1AOE_A_thresh=0.3_nMuts=96.0_nSeqs=3000.ccmpred.processed.couplings\n",
      "1\n",
      "../Data/Simulated_couplings/1AOE_A_thresh=0.3_nMuts=192_nSeqs=3000.ccmpred.processed.couplings\n",
      "2\n",
      "../Data/Simulated_couplings/1AOE_A_thresh=0.3_nMuts=384_nSeqs=3000.ccmpred.processed.couplings\n",
      "3\n",
      "../Data/Simulated_couplings/1AOE_A_thresh=0.3_nMuts=576_nSeqs=3000.ccmpred.processed.couplings\n",
      "4\n",
      "../Data/Simulated_couplings/1AOE_A_thresh=0.3_nMuts=768_nSeqs=3000.ccmpred.processed.couplings\n",
      "5\n",
      "../Data/Simulated_couplings/1AOE_A_thresh=0.3_nMuts=960_nSeqs=3000.ccmpred.processed.couplings\n",
      "10\n",
      "../Data/Simulated_couplings/1AOE_A_thresh=0.3_nMuts=1920_nSeqs=3000.ccmpred.processed.couplings\n",
      "0.5\n",
      "../Data/Simulated_couplings/1AOE_A_thresh=0.5_nMuts=96.0_nSeqs=3000.ccmpred.processed.couplings\n",
      "1\n",
      "../Data/Simulated_couplings/1AOE_A_thresh=0.5_nMuts=192_nSeqs=3000.ccmpred.processed.couplings\n",
      "2\n",
      "../Data/Simulated_couplings/1AOE_A_thresh=0.5_nMuts=384_nSeqs=3000.ccmpred.processed.couplings\n",
      "3\n",
      "../Data/Simulated_couplings/1AOE_A_thresh=0.5_nMuts=576_nSeqs=3000.ccmpred.processed.couplings\n",
      "4\n",
      "../Data/Simulated_couplings/1AOE_A_thresh=0.5_nMuts=768_nSeqs=3000.ccmpred.processed.couplings\n",
      "5\n",
      "../Data/Simulated_couplings/1AOE_A_thresh=0.5_nMuts=960_nSeqs=3000.ccmpred.processed.couplings\n",
      "10\n",
      "../Data/Simulated_couplings/1AOE_A_thresh=0.5_nMuts=1920_nSeqs=3000.ccmpred.processed.couplings\n",
      "0.5\n",
      "../Data/Simulated_couplings/1AOE_A_thresh=0.7_nMuts=96.0_nSeqs=3000.ccmpred.processed.couplings\n",
      "1\n",
      "../Data/Simulated_couplings/1AOE_A_thresh=0.7_nMuts=192_nSeqs=3000.ccmpred.processed.couplings\n",
      "2\n",
      "../Data/Simulated_couplings/1AOE_A_thresh=0.7_nMuts=384_nSeqs=3000.ccmpred.processed.couplings\n",
      "3\n",
      "../Data/Simulated_couplings/1AOE_A_thresh=0.7_nMuts=576_nSeqs=3000.ccmpred.processed.couplings\n",
      "4\n",
      "../Data/Simulated_couplings/1AOE_A_thresh=0.7_nMuts=768_nSeqs=3000.ccmpred.processed.couplings\n",
      "5\n",
      "../Data/Simulated_couplings/1AOE_A_thresh=0.7_nMuts=960_nSeqs=3000.ccmpred.processed.couplings\n",
      "10\n",
      "../Data/Simulated_couplings/1AOE_A_thresh=0.7_nMuts=1920_nSeqs=3000.ccmpred.processed.couplings\n",
      "0.5\n",
      "../Data/Simulated_couplings/1AOE_A_thresh=0.9_nMuts=96.0_nSeqs=3000.ccmpred.processed.couplings\n",
      "1\n",
      "../Data/Simulated_couplings/1AOE_A_thresh=0.9_nMuts=192_nSeqs=3000.ccmpred.processed.couplings\n",
      "2\n",
      "../Data/Simulated_couplings/1AOE_A_thresh=0.9_nMuts=384_nSeqs=3000.ccmpred.processed.couplings\n",
      "3\n",
      "../Data/Simulated_couplings/1AOE_A_thresh=0.9_nMuts=576_nSeqs=3000.ccmpred.processed.couplings\n",
      "4\n",
      "../Data/Simulated_couplings/1AOE_A_thresh=0.9_nMuts=768_nSeqs=3000.ccmpred.processed.couplings\n",
      "5\n",
      "../Data/Simulated_couplings/1AOE_A_thresh=0.9_nMuts=960_nSeqs=3000.ccmpred.processed.couplings\n",
      "10\n",
      "../Data/Simulated_couplings/1AOE_A_thresh=0.9_nMuts=1920_nSeqs=3000.ccmpred.processed.couplings\n"
     ]
    }
   ],
   "source": [
    "contact_number_modifier = 0.5\n",
    "primary_chain_distance = 12\n",
    "\n",
    "number_to_test = round(len(df_contacts.index)* contact_number_modifier) \n",
    "length_cutoff_CA = 8\n",
    "length_cutoff_CB = 7.5009365081787109\n",
    "length_cutoff_SCcenter = 7.3295459747314453\n",
    "thresholds = [str(i) for i in [0.1, 0.3, 0.5, 0.7, 0.9]]\n",
    "nSeq = 3000\n",
    "\n",
    "records = list(SeqIO.parse('../Data/fastas/{}.rosetta.fasta'.format(prot_name), 'fasta'))\n",
    "assert len(records)==1\n",
    "seq = str(records[0].seq)\n",
    "\n",
    "ppvs_dict = {}\n",
    "metrics = ['CB', 'SCcenter']\n",
    "for metric in metrics:\n",
    "    if metric == 'CA':\n",
    "        length_cutoff = length_cutoff_CA\n",
    "    elif metric == 'CB':\n",
    "        length_cutoff = length_cutoff_CB\n",
    "    elif metric == 'SCcenter':\n",
    "        length_cutoff = length_cutoff_SCcenter\n",
    "\n",
    "\n",
    "    ppvs_lol = []\n",
    "    contact_file_loc = '../Data/Contact_matrices/{}_{}_contacts.csv'.format(prot_name, metric)\n",
    "    df_contacts = pd.read_csv(contact_file_loc, index_col=0)\n",
    "    df_contacts, df_contacts_stack = process_contacts_df(df_contacts, primary_chain_distance)\n",
    "    for threshold in thresholds:\n",
    "        cat_ppvs = []\n",
    "        for nMut in [0.5] + list(range(1,6,1)) + [10]:\n",
    "            print(nMut)\n",
    "            file_loc = '../Data/Simulated_couplings/1AOE_A_thresh={}_nMuts={}_nSeqs={}.ccmpred.processed.couplings'.format(threshold, nMut*len(df_contacts.index), nSeq)\n",
    "            print(file_loc)\n",
    "            df_couplings = pd.read_csv(file_loc, sep=',')\n",
    "#             df_couplings.columns = ['aa1_loc', 'trash1', 'aa2_loc', 'trash2', 'trash3', 'couplings']\n",
    "            df_couplings_stack, df_couplings_pivot = process_couplings_df(df_couplings, df_contacts, primary_chain_distance)\n",
    "            merged_df = merge_contacts_couplings(df_contacts_stack, df_couplings_stack, seq)\n",
    "            ppv, counts = ppv_from_df(merged_df, number_to_test, length_cutoff=length_cutoff)\n",
    "            cat_ppvs.append(ppv)\n",
    "        ppvs_lol.append(cat_ppvs)\n",
    "    ppvs_dict[metric] = ppvs_lol"
   ]
  },
  {
   "cell_type": "markdown",
   "metadata": {},
   "source": [
    "# Paper figure/s"
   ]
  },
  {
   "cell_type": "code",
   "execution_count": 15,
   "metadata": {
    "collapsed": false
   },
   "outputs": [
    {
     "data": {
      "image/png": "[encoded data removed]",
      "text/plain": [
       "<matplotlib.figure.Figure at 0x11934d1d0>"
      ]
     },
     "metadata": {},
     "output_type": "display_data"
    }
   ],
   "source": [
    "fig, all_ax = plt.subplots(nrows=1, ncols=2, figsize=(8,2.5))\n",
    "x_vals = [i*len(df_contacts.index) for i in [0.5] + list(range(1,6,1)) + [10]]\n",
    "labels = thresholds\n",
    "\n",
    "ax = all_ax[0]\n",
    "for i,ppvs in enumerate(ppvs_dict[metrics[0]]):\n",
    "    ax.plot(x_vals, ppvs, marker='o', label=thresholds[i], markersize=5)\n",
    "\n",
    "# ax.set_ylabel(r'PPV''\\n'r'(C$\\alpha$)')\n",
    "ax.set_ylabel(r'PPV''\\n'r'(C$\\beta$)')\n",
    "\n",
    "ax.set_xlabel('Number of mutations per sequence')\n",
    "ax.set_ylim(0, 1.05);\n",
    "\n",
    "ax = all_ax[1]\n",
    "for i,ppvs in enumerate(ppvs_dict[metrics[1]]):\n",
    "    ax.plot(x_vals, ppvs, marker='o', label=thresholds[i], markersize=5)\n",
    "ax.set_ylim(0,1)\n",
    "ax.set_ylabel(r'PPV''\\n'r'(Side-chain center)')\n",
    "\n",
    "ax.set_xlabel('Number of mutations per sequence')\n",
    "ax.set_ylim(0, 1.05);\n",
    "legend = ax.legend(ncol=5, bbox_to_anchor=(-1.07, -0.8, 1., .102), loc=3, fontsize=12,\\\n",
    "                   title='Selective constraint (wild-type stability=1)')\n",
    "legend.get_title().set_fontsize('12') #legend 'Title' fontsize\n",
    "plt.tight_layout()\n",
    "\n",
    "# plt.savefig('{}/example_all_sims_nmuts.pdf'.format(figs_dir), bbox_inches='tight')\n",
    "plt.savefig('{}/example_all_sims_nmuts_CB_SC.pdf'.format(figs_dir), bbox_inches='tight')"
   ]
  },
  {
   "cell_type": "markdown",
   "metadata": {
    "collapsed": false
   },
   "source": [
    "# Presentation figures"
   ]
  },
  {
   "cell_type": "code",
   "execution_count": 19,
   "metadata": {
    "collapsed": false
   },
   "outputs": [
    {
     "data": {
      "image/png": "[encoded data removed]",
      "text/plain": [
       "<matplotlib.figure.Figure at 0x11e254048>"
      ]
     },
     "metadata": {},
     "output_type": "display_data"
    }
   ],
   "source": [
    "fig, all_ax = plt.subplots(nrows=1, ncols=2, figsize=(8,2.5))\n",
    "x_vals = [i*len(df_contacts.index) for i in [0.5] + list(range(1,6,1)) + [10]]\n",
    "labels = thresholds\n",
    "\n",
    "ax = all_ax[0]\n",
    "for i,ppvs in enumerate(ppvs_dict[metrics[0]]):\n",
    "    if i == 2:\n",
    "        ax.plot(x_vals, ppvs, marker='o', c='g', label=thresholds[i], markersize=5)\n",
    "ax.set_ylabel(r'PPV''\\n'r'(C$\\alpha$)')\n",
    "ax.set_xlabel('Number of mutations per sequence')\n",
    "ax.set_ylim(0, 1.05);\n",
    "\n",
    "ax = all_ax[1]\n",
    "for i,ppvs in enumerate(ppvs_dict[metrics[1]]):\n",
    "    if i == 2:\n",
    "        ax.plot(x_vals, ppvs, marker='o', c='g', label=thresholds[i], markersize=5)\n",
    "ax.set_ylim(0,1)\n",
    "ax.set_ylabel(r'PPV''\\n'r'(Side-chain center)')\n",
    "\n",
    "ax.set_xlabel('Number of mutations per sequence')\n",
    "ax.set_ylim(0, 1.05);\n",
    "legend = ax.legend(ncol=5, bbox_to_anchor=(-1, 1.02, 1., .102), loc=3, fontsize=12,\\\n",
    "                   title='Selective constraint (wild-type stability=1)')\n",
    "legend.get_title().set_fontsize('12') #legend 'Title' fontsize\n",
    "plt.tight_layout()\n",
    "\n",
    "plt.savefig('{}/example_single_sim_nmuts.pdf'.format(figs_dir), bbox_inches='tight')"
   ]
  },
  {
   "cell_type": "code",
   "execution_count": null,
   "metadata": {
    "collapsed": true
   },
   "outputs": [],
   "source": []
  },
  {
   "cell_type": "markdown",
   "metadata": {},
   "source": [
    "# Sequence identity with mutation distance"
   ]
  },
  {
   "cell_type": "code",
   "execution_count": null,
   "metadata": {
    "collapsed": false
   },
   "outputs": [],
   "source": [
    "df = pd.read_csv('../Results/hamming_distances.csv', index_col=0)\n",
    "df.head()"
   ]
  },
  {
   "cell_type": "code",
   "execution_count": null,
   "metadata": {
    "collapsed": false
   },
   "outputs": [],
   "source": [
    "file_pattern = '../Results/1B4T_A/fastas/1B4T_A_ALL_thresh=XXX_nMuts=YYY.fasta'\n",
    "dicty = {}\n",
    "nMuts = list(range(100, 501, 100)) + list(range(1000, 5001, 500))\n",
    "thresh_vals = [0.3, 0.5, 0.7]\n",
    "\n",
    "for thresh in thresh_vals:\n",
    "    dicty[thresh] = []\n",
    "    for nMut in nMuts:\n",
    "        hamming = df.loc[file_pattern.replace('XXX', str(thresh)).replace('YYY', str(nMut))]['i']\n",
    "        similarity = (len(df_contacts.index)-np.array(hamming))/len(df_contacts.index)\n",
    "        dicty[thresh].append(similarity)"
   ]
  },
  {
   "cell_type": "code",
   "execution_count": null,
   "metadata": {
    "collapsed": false
   },
   "outputs": [],
   "source": [
    "fig, ax = plt.subplots(figsize=(6,4))\n",
    "for thresh in thresh_vals:\n",
    "    ax.plot(nMuts, dicty[thresh], marker='s', label='{}'.format(thresh))\n",
    "ax.set_ylim(0,1)\n",
    "ax.tick_params(labelsize=16)\n",
    "ax.set_xlabel('Number of accepted mutations', fontsize=16)\n",
    "ax.set_ylabel('Similarity', fontsize=16)\n",
    "legend = ax.legend(title=\"Simulation threshold\", fontsize=14, ncol=3, loc='upper center')\n",
    "plt.setp(legend.get_title(),fontsize=16);\n",
    "\n",
    "plt.savefig('../Results/Figures/similarity.png', bbox_inches='tight')"
   ]
  },
  {
   "cell_type": "code",
   "execution_count": null,
   "metadata": {
    "collapsed": false
   },
   "outputs": [],
   "source": [
    "df_couplings.head()"
   ]
  },
  {
   "cell_type": "code",
   "execution_count": null,
   "metadata": {
    "collapsed": true
   },
   "outputs": [],
   "source": []
  },
  {
   "cell_type": "code",
   "execution_count": null,
   "metadata": {
    "collapsed": true
   },
   "outputs": [],
   "source": []
  },
  {
   "cell_type": "code",
   "execution_count": null,
   "metadata": {
    "collapsed": true
   },
   "outputs": [],
   "source": []
  },
  {
   "cell_type": "code",
   "execution_count": null,
   "metadata": {
    "collapsed": true
   },
   "outputs": [],
   "source": []
  },
  {
   "cell_type": "markdown",
   "metadata": {},
   "source": [
    "# Scratch"
   ]
  },
  {
   "cell_type": "markdown",
   "metadata": {
    "collapsed": true
   },
   "source": [
    "**Steady state amino acid levels**"
   ]
  },
  {
   "cell_type": "code",
   "execution_count": null,
   "metadata": {
    "collapsed": true
   },
   "outputs": [],
   "source": [
    "from Bio.Data import CodonTable\n",
    "def get_codon_dicts(n=11):\n",
    "    GivenCodonTable = CodonTable.unambiguous_dna_by_id[n]\n",
    "    nucleotides = ['A', 'T', 'C', 'G']\n",
    "    aa_to_codons = {}\n",
    "    for first in nucleotides:\n",
    "        for second in nucleotides:\n",
    "            for third in nucleotides:\n",
    "                Codon = first + second + third\n",
    "                if Codon not in CodonTable.unambiguous_dna_by_id[n].stop_codons:\n",
    "                    if GivenCodonTable.forward_table[Codon] in aa_to_codons.keys():\n",
    "                            aa_to_codons[GivenCodonTable.forward_table[Codon]].append(Codon)\n",
    "                    else:\n",
    "                        aa_to_codons[GivenCodonTable.forward_table[Codon]] = [Codon]\n",
    "                else:\n",
    "                    pass\n",
    "    codon_to_aa = {}\n",
    "    for aa, syns in aa_to_codons.items():\n",
    "        for syn in syns:\n",
    "            codon_to_aa[syn] = aa\n",
    "    return aa_to_codons, codon_to_aa\n",
    "aa_to_codons, codon_to_aa = get_codon_dicts()"
   ]
  },
  {
   "cell_type": "code",
   "execution_count": null,
   "metadata": {
    "collapsed": false
   },
   "outputs": [],
   "source": [
    "df = pd.read_csv('../Results/avg_aa_counts.csv', index_col=0)\n",
    "df.fillna(value=0, inplace=True)\n",
    "\n",
    "totals = df.loc['WT'].sum()\n",
    "df.loc['Idealized'] = np.nan\n",
    "for column in df.columns:\n",
    "    df.set_value('Idealized', column, len(aa_to_codons[column])/61*totals)\n",
    "df[\"new\"] = range(1,len(df)+1)\n",
    "df.set_value('Idealized','new',0)\n",
    "df.set_value('WT','new',0)\n",
    "df = df.sort_values(\"new\").drop('new', axis=1)\n",
    "df.head()"
   ]
  },
  {
   "cell_type": "code",
   "execution_count": null,
   "metadata": {
    "collapsed": true
   },
   "outputs": [],
   "source": [
    "thresh = 0.7\n",
    "file_pattern = '../Results/1B4T_A/fastas/1B4T_A_ALL_thresh={}_nMuts=XXX.fasta'.format(thresh)"
   ]
  },
  {
   "cell_type": "code",
   "execution_count": null,
   "metadata": {
    "collapsed": false
   },
   "outputs": [],
   "source": [
    "nMuts = list(range(100, 501, 100))+list(range(1000, 5001, 500))\n",
    "rhos = []\n",
    "for nMut in nMuts:\n",
    "    index = file_pattern.replace('XXX', str(nMut))\n",
    "    print(index)\n",
    "#     print(list(df.loc[index]))\n",
    "    rho, p = stats.spearmanr(list(df.loc['Idealized']), list(df.loc[index]))\n",
    "    rhos.append(rho)"
   ]
  },
  {
   "cell_type": "code",
   "execution_count": null,
   "metadata": {
    "collapsed": false
   },
   "outputs": [],
   "source": [
    "wt_rho, p = stats.spearmanr(list(df.loc['Idealized']), list(df.loc['WT']))\n",
    "\n",
    "fig, ax = plt.subplots(figsize=(6,4))\n",
    "ax.plot(nMuts, rhos, 'bo')\n",
    "ax.axhline(wt_rho, c='r', linestyle='--')"
   ]
  },
  {
   "cell_type": "code",
   "execution_count": null,
   "metadata": {
    "collapsed": false
   },
   "outputs": [],
   "source": [
    "fig, ax = plt.subplots(figsize=(6,6))\n",
    "ax.plot(df.loc['Idealized'], df.loc[file_pattern.replace('XXX', str(5000))], 'co')\n",
    "ax.plot(df.loc['Idealized'], df.loc['WT'], 'ko')\n",
    "ax.plot([0, 25], [0, 25], 'r-')\n"
   ]
  },
  {
   "cell_type": "markdown",
   "metadata": {},
   "source": [
    "# Scratch"
   ]
  },
  {
   "cell_type": "code",
   "execution_count": null,
   "metadata": {
    "collapsed": true
   },
   "outputs": [],
   "source": [
    "import sklearn.metrics"
   ]
  },
  {
   "cell_type": "code",
   "execution_count": null,
   "metadata": {
    "collapsed": false
   },
   "outputs": [],
   "source": [
    "merged_df['contact'] = np.where(merged_df['distance']>=8, 0, 1)\n",
    "print('Avg Precision', sklearn.metrics.roc_auc_score(merged_df['contact'], merged_df['couplings']))\n",
    "print('AUROC', sklearn.metrics.average_precision_score(merged_df['contact'], merged_df['couplings']))\n"
   ]
  },
  {
   "cell_type": "code",
   "execution_count": null,
   "metadata": {
    "collapsed": false
   },
   "outputs": [],
   "source": [
    "precision, recall, thresholds = sklearn.metrics.precision_recall_curve(merged_df['contact'], merged_df['couplings'])\n",
    "print(sklearn.metrics.average_precision_score(merged_df['contact'], merged_df['couplings']))"
   ]
  },
  {
   "cell_type": "code",
   "execution_count": null,
   "metadata": {
    "collapsed": false
   },
   "outputs": [],
   "source": [
    "print(sklearn.metrics.roc_auc_score(merged_df['contact'], merged_df['couplings']))\n",
    "\n",
    "fpr, tpr, thresholds = sklearn.metrics.roc_curve(merged_df['contact'], merged_df['couplings'], pos_label=1)\n",
    "\n",
    "fig, ax = plt.subplots()\n",
    "ax.plot(fpr, tpr, '-')"
   ]
  },
  {
   "cell_type": "code",
   "execution_count": null,
   "metadata": {
    "collapsed": false
   },
   "outputs": [],
   "source": [
    "plt.step(recall, precision, color='b', alpha=0.2,\n",
    "         where='post')\n",
    "plt.fill_between(recall, precision, step='post', alpha=0.2,\n",
    "                 color='b')"
   ]
  },
  {
   "cell_type": "code",
   "execution_count": null,
   "metadata": {
    "collapsed": false
   },
   "outputs": [],
   "source": [
    "merged_df"
   ]
  },
  {
   "cell_type": "code",
   "execution_count": null,
   "metadata": {
    "collapsed": true
   },
   "outputs": [],
   "source": []
  },
  {
   "cell_type": "code",
   "execution_count": null,
   "metadata": {
    "collapsed": true
   },
   "outputs": [],
   "source": []
  },
  {
   "cell_type": "markdown",
   "metadata": {},
   "source": [
    "**hbonding analysis?**"
   ]
  },
  {
   "cell_type": "code",
   "execution_count": null,
   "metadata": {
    "collapsed": false
   },
   "outputs": [],
   "source": [
    "# lines = []\n",
    "# with open('../Data/temp_hbond_3ip0_1.csv', 'r') as infile:\n",
    "#     for line in infile.readlines():\n",
    "#         lines.append(line.replace('protein backbone', 'protein_backbone'))\n",
    "# with open('../Data/temp_hbond_3ip0_1.csv', 'w') as outfile:\n",
    "#     for line in lines:\n",
    "#         outfile.write(line)"
   ]
  },
  {
   "cell_type": "code",
   "execution_count": null,
   "metadata": {
    "collapsed": false
   },
   "outputs": [],
   "source": [
    "df_hbond = pd.read_csv('../Data/temp_hbond_3ip0_5.csv', sep=' ', header=None)\n",
    "df_hbond.drop([0, 1, 4, 5], axis=1, inplace=True)\n",
    "df_hbond.head()"
   ]
  },
  {
   "cell_type": "code",
   "execution_count": null,
   "metadata": {
    "collapsed": false
   },
   "outputs": [],
   "source": [
    "merged_df['hbond?'] = False"
   ]
  },
  {
   "cell_type": "code",
   "execution_count": null,
   "metadata": {
    "collapsed": false
   },
   "outputs": [],
   "source": [
    "for index in df_hbond.index:\n",
    "    aas = [df_hbond.loc[index][3], df_hbond.loc[index][7]]\n",
    "    positions = [df_hbond.loc[index][2], df_hbond.loc[index][6]]\n",
    "    aas.sort()\n",
    "    temp = df_contacts_stack[(df_contacts_stack['aa1_loc'] == aas[0]) & (df_contacts_stack['aa2_loc'] == aas[1])]\n",
    "    if len(temp.index) == 1 and positions.count('protein_backbone') == 2:\n",
    "        merged_df.set_value(temp.index[0], 'hbond?',True)\n",
    "    "
   ]
  },
  {
   "cell_type": "code",
   "execution_count": null,
   "metadata": {
    "collapsed": false
   },
   "outputs": [],
   "source": [
    "merged_df[merged_df['hbond?'] == True].shape"
   ]
  },
  {
   "cell_type": "code",
   "execution_count": null,
   "metadata": {
    "collapsed": false
   },
   "outputs": [],
   "source": [
    "merged_df[:len(seq)]['hbond?'].value_counts()"
   ]
  },
  {
   "cell_type": "code",
   "execution_count": null,
   "metadata": {
    "collapsed": false
   },
   "outputs": [],
   "source": [
    "10/17, 9/22"
   ]
  },
  {
   "cell_type": "code",
   "execution_count": null,
   "metadata": {
    "collapsed": true
   },
   "outputs": [],
   "source": []
  }
 ],
 "metadata": {
  "kernelspec": {
   "display_name": "Python 3",
   "language": "python",
   "name": "python3"
  },
  "language_info": {
   "codemirror_mode": {
    "name": "ipython",
    "version": 3
   },
   "file_extension": ".py",
   "mimetype": "text/x-python",
   "name": "python",
   "nbconvert_exporter": "python",
   "pygments_lexer": "ipython3",
   "version": "3.4.5"
  },
  "toc": {
   "colors": {
    "hover_highlight": "#DAA520",
    "navigate_num": "#000000",
    "navigate_text": "#333333",
    "running_highlight": "#FF0000",
    "selected_highlight": "#FFD700",
    "sidebar_border": "#EEEEEE",
    "wrapper_background": "#FFFFFF"
   },
   "moveMenuLeft": true,
   "nav_menu": {
    "height": "12px",
    "width": "252px"
   },
   "navigate_menu": true,
   "number_sections": true,
   "sideBar": true,
   "threshold": 4,
   "toc_cell": false,
   "toc_section_display": "block",
   "toc_window_display": false,
   "widenNotebook": false
  }
 },
 "nbformat": 4,
 "nbformat_minor": 0
}
