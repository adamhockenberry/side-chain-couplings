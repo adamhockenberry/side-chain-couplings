{
 "cells": [
  {
   "cell_type": "code",
   "execution_count": 1,
   "metadata": {
    "collapsed": false
   },
   "outputs": [],
   "source": [
    "%matplotlib inline"
   ]
  },
  {
   "cell_type": "code",
   "execution_count": 2,
   "metadata": {
    "collapsed": true
   },
   "outputs": [],
   "source": [
    "import pandas as pd\n",
    "import numpy as np\n",
    "from Bio import SeqIO\n",
    "\n",
    "from matplotlib import pyplot as plt\n",
    "\n",
    "from scipy import stats\n",
    "from Bio.Alphabet.IUPAC import IUPACProtein\n",
    "\n",
    "import glob\n",
    "import sklearn.metrics\n",
    "\n",
    "import datetime\n",
    "year = datetime.date.today().year\n",
    "month = datetime.date.today().month\n",
    "\n",
    "import os\n",
    "figs_dir = '../Results/Figures/{}_{:02}'.format(year, month)\n",
    "if not os.path.exists(figs_dir):\n",
    "    os.makedirs(figs_dir)"
   ]
  },
  {
   "cell_type": "code",
   "execution_count": 3,
   "metadata": {
    "collapsed": true
   },
   "outputs": [],
   "source": [
    "import matplotlib\n",
    "matplotlib.rcParams['xtick.labelsize'] = 12\n",
    "matplotlib.rcParams['ytick.labelsize'] = 12\n",
    "matplotlib.rcParams['axes.labelsize'] = 12\n",
    "matplotlib.rcParams['axes.titlesize'] = 12\n",
    "\n",
    "matplotlib.rcParams['axes.grid'] = True\n",
    "matplotlib.rcParams['grid.color'] = '0.5'\n",
    "matplotlib.rcParams['grid.linewidth'] = '0.5'\n",
    "\n",
    "matplotlib.rcParams['axes.edgecolor'] = '0.25'\n",
    "matplotlib.rcParams['xtick.color'] = '0'\n",
    "matplotlib.rcParams['ytick.color'] = '0'\n",
    "\n",
    "matplotlib.rcParams['xtick.major.width'] = 1\n",
    "matplotlib.rcParams['ytick.major.width'] = 1\n",
    "matplotlib.rcParams['ytick.major.size'] = 5\n",
    "matplotlib.rcParams['xtick.major.size'] = 5\n",
    "matplotlib.rcParams['axes.spines.right'] = True\n",
    "matplotlib.rcParams['axes.spines.left'] = True\n",
    "matplotlib.rcParams['axes.spines.top'] = True\n",
    "matplotlib.rcParams['axes.spines.bottom'] = True\n",
    "\n",
    "matplotlib.rcParams['font.family'] = 'sans-serif'\n",
    "matplotlib.rcParams['font.sans-serif'] = 'Helvetica'\n",
    "matplotlib.rcParams['font.weight']='normal'\n",
    "matplotlib.rcParams['axes.axisbelow'] = True\n",
    "\n"
   ]
  },
  {
   "cell_type": "code",
   "execution_count": 4,
   "metadata": {
    "collapsed": true
   },
   "outputs": [],
   "source": [
    "from supporting_functions import *"
   ]
  },
  {
   "cell_type": "code",
   "execution_count": 26,
   "metadata": {
    "collapsed": false
   },
   "outputs": [
    {
     "name": "stdout",
     "output_type": "stream",
     "text": [
      "### 1RW1_A (3860)\n",
      "### 1AOE_A (9186)\n",
      "### 1H2E_A (9981)\n",
      "### 1JBK_A (9996)\n",
      "### 1VMB_A (5565)\n"
     ]
    }
   ],
   "source": [
    "contact_number_modifier = 1\n",
    "chain_cutoff = 12\n",
    "metrics = ['CA', 'CB', 'SCcenter'] ###Order here is important, CA has to come first to get distance thresholds for others\n",
    "df_contacts_dict = {}\n",
    "for metric in metrics:\n",
    "    df_contacts_dict[metric] = {}\n",
    "\n",
    "    \n",
    "server = 'raptorx'\n",
    "\n",
    "lengths = []\n",
    "sequences = []\n",
    "ppv_dict = {}\n",
    "for metric in metrics:\n",
    "    ppv_dict[metric] = []\n",
    "\n",
    "CA_distance_cutoff = 8\n",
    "CB_distance_cutoffs = {}\n",
    "SC_distance_cutoffs = {}\n",
    "\n",
    "for couplings_file in glob.glob('../Data/Empirical_ml/*.{}.processed.couplings'.format(server))[:]:\n",
    "    prot_name = couplings_file.split('/')[-1].split('_')[0]+'_'+couplings_file.split('/')[-1].split('_')[1]\n",
    "    alignment_file = couplings_file.replace('Empirical_ml/', 'analyzed_fastas/')\n",
    "    alignment_file = alignment_file.replace('.{}.processed.couplings'.format(server), '.mafft.processed.afa')\n",
    "    alignments = list(SeqIO.parse(alignment_file, 'fasta'))\n",
    "    nseqs = len(alignments)\n",
    "#     if nseqs > 1000:\n",
    "#         continue\n",
    "#     db_name = couplings_file.split('/')[-1].split('_')[2].strip('.couplings')\n",
    "#     nseqs = hmmer_results_dict[db_name][hmmer_results_dict[db_name][1]==prot_name].iloc[0][2]\n",
    "#     if prot_name in df_contacts_dict[metrics[0]]:\n",
    "#         continue\n",
    "#     if nseqs < 2000:\n",
    "#         continue\n",
    "    print('### {} ({})'.format(prot_name, nseqs))\n",
    "    total_contacts = 0\n",
    "    cutoff=0\n",
    "    for metric in metrics:            \n",
    "        df_couplings = pd.read_csv(couplings_file, sep=',')\n",
    "        contact_file_loc = '../Data/Contact_matrices/{}_{}_contacts.csv'.format(prot_name, metric)\n",
    "        try:\n",
    "            df_contacts = pd.read_csv(contact_file_loc, index_col=0)\n",
    "        except FileNotFoundError:\n",
    "            print(couplings_file)\n",
    "            continue\n",
    "        df_contacts, df_contacts_stack = process_contacts_df(df_contacts, 12)\n",
    "        df_couplings_stack, df_couplings_pivot = process_couplings_df(df_couplings, df_contacts, 12)\n",
    "        records = list(SeqIO.parse('../Data/fastas/{}.rosetta.fasta'.format(prot_name), 'fasta'))\n",
    "        assert len(records)==1\n",
    "        seq = str(records[0].seq)\n",
    "        merged_df = merge_contacts_couplings(df_contacts_stack, df_couplings_stack, seq)\n",
    "\n",
    "\n",
    "        number_to_test = round(len(df_contacts.index)* contact_number_modifier) \n",
    "        if metric == 'CA':\n",
    "            total_contacts = merged_df[merged_df['distance']<CA_distance_cutoff]['distance'].count()\n",
    "            cutoff = CA_distance_cutoff\n",
    "            lengths.append(len(df_contacts.columns))\n",
    "            sequences.append(nseqs)\n",
    "        else:\n",
    "            temp = df_contacts_stack.sort_values('distance')[:total_contacts]\n",
    "            cutoff = temp.iloc[total_contacts-1]['distance']\n",
    "            if metric == 'CB':\n",
    "                CB_distance_cutoffs[prot_name] = cutoff\n",
    "            elif metric == 'SCcenter':\n",
    "                SC_distance_cutoffs[prot_name] = cutoff\n",
    "                \n",
    "\n",
    "\n",
    "        ppv, counts = ppv_from_df(merged_df, number_to_test, length_cutoff=cutoff)\n",
    "#         print(metric, ppv, len(temp.index), cutoff)\n",
    "#         merged_df['contact'] = np.where(merged_df['distance']>=CA_distance_cutoff, 0, 1)\n",
    "#         aupr = sklearn.metrics.average_precision_score(merged_df['contact'], merged_df['couplings'])\n",
    "#         print(aupr)\n",
    "\n",
    "                \n",
    "        ppv_dict[metric].append(ppv)\n",
    "        df_contacts_dict[metric][prot_name] = df_contacts_stack"
   ]
  },
  {
   "cell_type": "code",
   "execution_count": 27,
   "metadata": {
    "collapsed": false
   },
   "outputs": [
    {
     "data": {
      "text/plain": [
       "{'CA': [0.60360360360360366,\n",
       "  0.80729166666666663,\n",
       "  0.86956521739130432,\n",
       "  0.74603174603174605,\n",
       "  0.88785046728971961],\n",
       " 'CB': [0.66666666666666663,\n",
       "  0.8125,\n",
       "  0.92753623188405798,\n",
       "  0.75661375661375663,\n",
       "  0.95327102803738317],\n",
       " 'SCcenter': [0.60360360360360366,\n",
       "  0.609375,\n",
       "  0.77294685990338163,\n",
       "  0.60846560846560849,\n",
       "  0.7289719626168224]}"
      ]
     },
     "execution_count": 27,
     "metadata": {},
     "output_type": "execute_result"
    }
   ],
   "source": [
    "ppv_dict"
   ]
  },
  {
   "cell_type": "code",
   "execution_count": null,
   "metadata": {
    "collapsed": true
   },
   "outputs": [],
   "source": []
  }
 ],
 "metadata": {
  "kernelspec": {
   "display_name": "Python 3",
   "language": "python",
   "name": "python3"
  },
  "language_info": {
   "codemirror_mode": {
    "name": "ipython",
    "version": 3
   },
   "file_extension": ".py",
   "mimetype": "text/x-python",
   "name": "python",
   "nbconvert_exporter": "python",
   "pygments_lexer": "ipython3",
   "version": "3.4.5"
  },
  "toc": {
   "colors": {
    "hover_highlight": "#DAA520",
    "navigate_num": "#000000",
    "navigate_text": "#333333",
    "running_highlight": "#FF0000",
    "selected_highlight": "#FFD700",
    "sidebar_border": "#EEEEEE",
    "wrapper_background": "#FFFFFF"
   },
   "moveMenuLeft": true,
   "nav_menu": {
    "height": "12px",
    "width": "252px"
   },
   "navigate_menu": true,
   "number_sections": true,
   "sideBar": true,
   "threshold": 4,
   "toc_cell": false,
   "toc_section_display": "block",
   "toc_window_display": false,
   "widenNotebook": false
  }
 },
 "nbformat": 4,
 "nbformat_minor": 2
}
