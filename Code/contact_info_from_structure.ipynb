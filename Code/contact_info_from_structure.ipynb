{
 "cells": [
  {
   "cell_type": "code",
   "execution_count": 1,
   "metadata": {
    "collapsed": true
   },
   "outputs": [],
   "source": [
    "%matplotlib inline"
   ]
  },
  {
   "cell_type": "markdown",
   "metadata": {},
   "source": [
    "# General imports"
   ]
  },
  {
   "cell_type": "code",
   "execution_count": 2,
   "metadata": {
    "collapsed": false
   },
   "outputs": [],
   "source": [
    "from Bio.PDB import PDBParser\n",
    "from Bio.PDB.Polypeptide import is_aa, three_to_one\n",
    "from matplotlib import pyplot as plt\n",
    "from scipy import stats\n",
    "import scipy.spatial\n",
    "import pandas as pd\n",
    "import numpy as np\n",
    "import glob\n",
    "import shutil\n",
    "\n",
    "import datetime\n",
    "year = datetime.date.today().year\n",
    "month = datetime.date.today().month\n",
    "import os\n",
    "figs_dir = '../Results/Figures/{}_{:02}'.format(year, month)\n",
    "if not os.path.exists(figs_dir):\n",
    "    os.makedirs(figs_dir)"
   ]
  },
  {
   "cell_type": "markdown",
   "metadata": {},
   "source": [
    "# Plotting configuration"
   ]
  },
  {
   "cell_type": "code",
   "execution_count": 3,
   "metadata": {
    "collapsed": true
   },
   "outputs": [],
   "source": [
    "import matplotlib\n",
    "matplotlib.rcParams['xtick.labelsize'] = 10\n",
    "matplotlib.rcParams['ytick.labelsize'] = 10\n",
    "matplotlib.rcParams['axes.labelsize'] = 10\n",
    "matplotlib.rcParams['axes.titlesize'] = 10\n",
    "\n",
    "matplotlib.rcParams['axes.grid'] = True\n",
    "matplotlib.rcParams['grid.color'] = '0.5'\n",
    "matplotlib.rcParams['grid.linewidth'] = '0.5'\n",
    "\n",
    "matplotlib.rcParams['axes.edgecolor'] = '0.25'\n",
    "matplotlib.rcParams['xtick.color'] = '0'\n",
    "matplotlib.rcParams['ytick.color'] = '0'\n",
    "\n",
    "matplotlib.rcParams['xtick.major.width'] = 1\n",
    "matplotlib.rcParams['ytick.major.width'] = 1\n",
    "matplotlib.rcParams['ytick.major.size'] = 5\n",
    "matplotlib.rcParams['xtick.major.size'] = 5\n",
    "matplotlib.rcParams['axes.spines.right'] = True\n",
    "matplotlib.rcParams['axes.spines.left'] = True\n",
    "matplotlib.rcParams['axes.spines.top'] = True\n",
    "matplotlib.rcParams['axes.spines.bottom'] = True\n",
    "\n",
    "matplotlib.rcParams['font.family'] = 'sans-serif'\n",
    "matplotlib.rcParams['font.sans-serif'] = 'Helvetica'\n",
    "matplotlib.rcParams['font.weight']='normal'\n",
    "matplotlib.rcParams['axes.axisbelow'] = True"
   ]
  },
  {
   "cell_type": "markdown",
   "metadata": {},
   "source": [
    "# Specific library for funcitons shared across this project"
   ]
  },
  {
   "cell_type": "code",
   "execution_count": 4,
   "metadata": {
    "collapsed": true
   },
   "outputs": [],
   "source": [
    "from supporting_functions import *"
   ]
  },
  {
   "cell_type": "markdown",
   "metadata": {},
   "source": [
    "# And finally a few specific functions"
   ]
  },
  {
   "cell_type": "code",
   "execution_count": 5,
   "metadata": {
    "collapsed": false
   },
   "outputs": [],
   "source": [
    "def process_residue(residue):\n",
    "    '''\n",
    "    Processes a single residue to determine the coordinates of the alpha-carbon\n",
    "    and the sidechain center-of-mass. Also checks for missing atoms in a\n",
    "    residue.\n",
    "    (This is directly from Ben's code with slight modifications for Glycine)--AJH\n",
    "    '''\n",
    "    output_dict = {}\n",
    "    atoms_seen = []\n",
    "    # Convert three letter amino acid to one letter\n",
    "    try:\n",
    "        output_dict['amino_acid'] = three_to_one(residue.resname)\n",
    "    except KeyError:\n",
    "        return 'Error'\n",
    "    \n",
    "    # Grab residue number AND any insertion site labeling (11A, 11B, etc.)\n",
    "    output_dict['residue'] = str(residue.get_id()[1]) + \\\n",
    "                             residue.get_id()[2].strip()\n",
    "    output_dict['chain'] = residue.get_full_id()[2]\n",
    "    try:\n",
    "        int(output_dict['residue'])\n",
    "    except:\n",
    "        return 'Error'\n",
    "    \n",
    "    # Coordinates of all sidechain atoms in this residue\n",
    "    sidechain_coords = []\n",
    "    for atom in residue:\n",
    "        atoms_seen.append(atom.name)\n",
    "        if atom.name == 'CA':\n",
    "            # Save alpha-carbon coordinates\n",
    "            output_dict['CA'] = atom.get_coord()\n",
    "            \n",
    "        ######################################################\n",
    "        #AJH: code to add CB and to make exceptions for Glycine\n",
    "            if residue.resname=='GLY':\n",
    "                output_dict['CB'] = atom.get_coord()\n",
    "                \n",
    "        if atom.name == 'CB':\n",
    "            # Save beta-carbon coordinates\n",
    "            output_dict['CB'] = atom.get_coord()\n",
    "        ######################################################\n",
    "\n",
    "        if atom.name not in ['C', 'CA', 'O', 'N']:\n",
    "            # Must be a sidechain atom...\n",
    "            sidechain_coords.append(atom.get_coord())\n",
    "            \n",
    "    if 'CA' not in output_dict or 'CB' not in output_dict:\n",
    "        return 'Error'\n",
    "    \n",
    "    for mainchain_atom in ['N', 'C', 'O']:\n",
    "        # Warn about any missing mainchain atoms\n",
    "        if mainchain_atom not in atoms_seen:\n",
    "            return 'Error'\n",
    "\n",
    "    if len(sidechain_coords) == 0:\n",
    "        if output_dict['amino_acid'] == 'G':\n",
    "            sidechain_coords.append(output_dict['CA'])\n",
    "        else:\n",
    "            return 'Error'\n",
    "    # Calculate side chain center of mass\n",
    "    output_dict['SCcenter'] = sum(sidechain_coords)/\\\n",
    "                                      len(sidechain_coords)\n",
    "    \n",
    "    return output_dict\n",
    "\n",
    "\n",
    "def process_residue_complete(residue):\n",
    "    '''\n",
    "    Thisis a temporary test function\n",
    "    '''\n",
    "    output_dict = {}\n",
    "    atoms_seen = []\n",
    "    # Convert three letter amino acid to one letter\n",
    "    try:\n",
    "        output_dict['amino_acid'] = three_to_one(residue.resname)\n",
    "    except KeyError:\n",
    "        return 'Error'\n",
    "    \n",
    "    # Grab residue number AND any insertion site labeling (11A, 11B, etc.)\n",
    "    output_dict['residue'] = str(residue.get_id()[1]) + \\\n",
    "                             residue.get_id()[2].strip()\n",
    "    output_dict['chain'] = residue.get_full_id()[2]\n",
    "    try:\n",
    "        int(output_dict['residue'])\n",
    "    except:\n",
    "        return 'Error'\n",
    "    \n",
    "    # Coordinates of all atoms in this residue\n",
    "    all_atom_coords = []\n",
    "    sidechain_coords = []\n",
    "    for atom in residue:\n",
    "        atoms_seen.append(atom.name)\n",
    "        if output_dict['amino_acid'] == 'G':\n",
    "            if atom.name == 'CA':\n",
    "                sidechain_coords.append(atom.get_coord())\n",
    "        \n",
    "        all_atom_coords.append(atom.get_coord())\n",
    "        \n",
    "        if atom.name not in ['C', 'CA', 'O', 'N']:\n",
    "            # Must be a sidechain atom...\n",
    "            sidechain_coords.append(atom.get_coord())\n",
    "\n",
    "    # Calculate side chain center of mass\n",
    "    output_dict['all_atoms'] = all_atom_coords\n",
    "    output_dict['sc_atoms'] = sidechain_coords\n",
    "    \n",
    "    return output_dict\n",
    "\n",
    "\n",
    "def unit_vector(vector):\n",
    "    ''' Returns the unit vector of the vector.'''\n",
    "    return vector / np.linalg.norm(vector)\n",
    "\n",
    "def angle_between(v1, v2):\n",
    "    '''\n",
    "    Returns the angle in radians between vectors 'v1' and 'v2':\n",
    "    \n",
    "            >>> angle_between((1, 0, 0), (0, 1, 0))\n",
    "            1.5707963267948966\n",
    "            >>> angle_between((1, 0, 0), (1, 0, 0))\n",
    "            0.0\n",
    "            >>> angle_between((1, 0, 0), (-1, 0, 0))\n",
    "            3.141592653589793\n",
    "    '''\n",
    "\n",
    "    v1_u = unit_vector(v1)\n",
    "    v2_u = unit_vector(v2)\n",
    "    return np.arccos(np.clip(np.dot(v1_u, v2_u), -1.0, 1.0))"
   ]
  },
  {
   "cell_type": "markdown",
   "metadata": {},
   "source": [
    "**First load PDB files and get a.a. sequences**\n",
    "\n",
    "This should be a \"cleaned\" PDB file of the type that is used directly for simulations, which is to say properly numbered 1...len(amino acid sequence), no random (het) atoms, single chain, etc.\n",
    "\n",
    "I'm keeping the next few cell's commented as they take a little while to run and really only need to be run once. The code is contained here for posterity"
   ]
  },
  {
   "cell_type": "code",
   "execution_count": null,
   "metadata": {
    "collapsed": false,
    "scrolled": true
   },
   "outputs": [],
   "source": [
    "# error_pdbs = [] ### Keep track of pdb's where weird things happened to investigate\n",
    "# for infile_loc in glob.glob('../Data/PDBs/*rosetta.pdb')[:]: #Iterating through a bunch of files\n",
    "# # for infile_loc in glob.glob('../Data/PDBs/*.pdb')[:]: #Iterating through a bunch of files\n",
    "#     print(\"###################################################\")\n",
    "#     print(infile_loc)\n",
    "#     print(\"###################################################\")\n",
    "#     prot_name = infile_loc.split('/')[-1].replace('.rosetta.pdb', '')\n",
    "#     print(prot_name)\n",
    "#     structure = PDBParser().get_structure(prot_name, infile_loc)\n",
    "\n",
    "#     ###Get residue coordinates\n",
    "#     residues = []\n",
    "#     for residue in structure.get_residues():\n",
    "#         if is_aa(residue):\n",
    "#             temp = process_residue(residue)\n",
    "#             residues.append(temp)\n",
    "            \n",
    "#     if 'Error' in residues:\n",
    "# #         if residues.count('Error') == 1 and residues[-1] == 'Error':\n",
    "# #             residues = residues[:-1]\n",
    "# #         elif residues.count('Error') == 1 and residues[0] == 'Error':\n",
    "# #             residues = residues[1:]\n",
    "# #         elif residues.count('Error') == 2 and residues[0] == 'Error' and residues[-1] == 'Error':\n",
    "# #             residues = residues[1:-1]\n",
    "# #         else:\n",
    "# #             error_pdbs.append(infile_loc)\n",
    "# #             continue\n",
    "#         error_pdbs.append(infile_loc)\n",
    "#         continue\n",
    "#     residues = sorted(residues, key=lambda x: int(x['residue']))\n",
    "    \n",
    "#     ###Get the overall amino acid sequence. Know there are much more efficient ways than this.\n",
    "#     aa_seq_from_structure = sorted([(i['amino_acid'], int(i['residue'])) for i in residues], key=lambda x: x[1])\n",
    "#     aa_seq_from_structure = ''.join([i[0] for i in aa_seq_from_structure])\n",
    "#     print('Protein length is {} amino acids'.format(len(aa_seq_from_structure)))\n",
    "#     print(aa_seq_from_structure)\n",
    "#     with open(infile_loc.replace('PDBs/', 'fastas/').replace('.pdb', '.fasta'), 'w') as outfile:\n",
    "#         outfile.write('>{}\\n'.format(prot_name))\n",
    "#         outfile.write('{}'.format(aa_seq_from_structure))\n",
    "    \n",
    "#     for calculation in ['CA', 'SCcenter', 'CB']: #Writing three different contact matrices\n",
    "#         print(calculation)\n",
    "#         numbering = list(range(1, len(aa_seq_from_structure)+1))\n",
    "#         df_contacts = pd.DataFrame(index=numbering, columns=numbering) ###Set up empty df for contact dists\n",
    "#         for i, residue in enumerate(residues):\n",
    "#             for j, other_residue in enumerate(residues):\n",
    "#                 contact_dist = scipy.spatial.distance.euclidean(residue[calculation],other_residue[calculation])\n",
    "#                 df_contacts.set_value(i+1, j+1, contact_dist)\n",
    "#         contact_file = infile_loc.replace('/PDBs/', '/Contact_matrices/').replace('.rosetta', '')\n",
    "#         contact_file = contact_file.replace('.pdb', '_{}_contacts.csv'.format(calculation))\n",
    "#         df_contacts.to_csv(contact_file)\n",
    "        \n",
    "#         ###Separate code to get a matrix of side chain angles\n",
    "#         if calculation == 'CA':\n",
    "#             print('Working on angles')\n",
    "#             numbering = list(range(1, len(aa_seq_from_structure)+1))\n",
    "#             df_angles = pd.DataFrame(index=numbering, columns=numbering)\n",
    "#             for i, residue in enumerate(residues):\n",
    "#                 for j, other_residue in enumerate(residues):\n",
    "#                     if residue['amino_acid'] != 'G' and i != j:\n",
    "#                         point1 = np.array(other_residue['CA'])\n",
    "#                         point2 = np.array(residue['SCcenter'])\n",
    "#                         vertex = np.array(residue['CA'])\n",
    "#                         v1 = point1 - vertex\n",
    "#                         v2 = point2 - vertex\n",
    "#                         angle = angle_between(v1, v2)\n",
    "#                     else:\n",
    "#                         angle = np.nan\n",
    "#                     df_angles.set_value(i+1, j+1, angle)\n",
    "#             angles_file = infile_loc.replace('/PDBs/', '/Contact_matrices/').replace('.rosetta', '')\n",
    "#             angles_file = angles_file.replace('.pdb', '_{}_angles.csv'.format(calculation))\n",
    "#             df_angles.to_csv(angles_file)"
   ]
  },
  {
   "cell_type": "code",
   "execution_count": null,
   "metadata": {
    "collapsed": false
   },
   "outputs": [],
   "source": [
    "# print(error_pdbs)"
   ]
  },
  {
   "cell_type": "code",
   "execution_count": null,
   "metadata": {
    "collapsed": true
   },
   "outputs": [],
   "source": [
    "# for pdb_file in error_pdbs:\n",
    "#     shutil.move(pdb_file, pdb_file.replace('/PDBs/', '/PDBs/unknown_errors/'))"
   ]
  },
  {
   "cell_type": "code",
   "execution_count": null,
   "metadata": {
    "collapsed": true
   },
   "outputs": [],
   "source": []
  },
  {
   "cell_type": "markdown",
   "metadata": {},
   "source": [
    "# Temporarily looking at min distances"
   ]
  },
  {
   "cell_type": "code",
   "execution_count": null,
   "metadata": {
    "collapsed": false
   },
   "outputs": [],
   "source": [
    "error_pdbs_v2 = []\n",
    "for infile_loc in glob.glob('../Data/PDBs/*rosetta.pdb')[:]: #Iterating through a bunch of files\n",
    "    print(\"###################################################\")\n",
    "    print(infile_loc)\n",
    "    print(\"###################################################\")\n",
    "    prot_name = infile_loc.split('/')[-1].replace('.rosetta.pdb', '')\n",
    "    print(prot_name)\n",
    "    structure = PDBParser().get_structure(prot_name, infile_loc)\n",
    "\n",
    "    ###Get residue coordinates\n",
    "    residues = []\n",
    "    for residue in structure.get_residues():\n",
    "        if is_aa(residue):\n",
    "            temp = process_residue_complete(residue)\n",
    "            residues.append(temp)\n",
    "            \n",
    "    if 'Error' in residues:\n",
    "        error_pdbs_v2.append(infile_loc)\n",
    "        continue\n",
    "    residues = sorted(residues, key=lambda x: int(x['residue']))\n",
    "    \n",
    "    ###Get the overall amino acid sequence. Know there are much more efficient ways than this.\n",
    "    aa_seq_from_structure = sorted([(i['amino_acid'], int(i['residue'])) for i in residues], key=lambda x: x[1])\n",
    "    aa_seq_from_structure = ''.join([i[0] for i in aa_seq_from_structure])\n",
    "    print('Protein length is {} amino acids'.format(len(aa_seq_from_structure)))\n",
    "    print(aa_seq_from_structure)\n",
    "    \n",
    "    for calculation in ['all_atoms', 'sc_atoms']: #Writing three different contact matrices\n",
    "        print(calculation)\n",
    "        numbering = list(range(1, len(aa_seq_from_structure)+1))\n",
    "        df_contacts = pd.DataFrame(index=numbering, columns=numbering) ###Set up empty df for contact dists\n",
    "        for i, residue in enumerate(residues):\n",
    "            for j, other_residue in enumerate(residues):\n",
    "                contact_dist = np.min(scipy.spatial.distance.cdist(\\\n",
    "                                residue[calculation], other_residue[calculation], 'euclidean'))   \n",
    "                df_contacts.set_value(i+1, j+1, contact_dist)\n",
    "        contact_file = infile_loc.replace('/PDBs/', '/Contact_matrices/').replace('.rosetta', '')\n",
    "        contact_file = contact_file.replace('.pdb', '_{}_contacts.csv'.format(calculation+'_min'))\n",
    "        df_contacts.to_csv(contact_file)"
   ]
  },
  {
   "cell_type": "code",
   "execution_count": null,
   "metadata": {
    "collapsed": true
   },
   "outputs": [],
   "source": []
  },
  {
   "cell_type": "code",
   "execution_count": null,
   "metadata": {
    "collapsed": true
   },
   "outputs": [],
   "source": []
  },
  {
   "cell_type": "markdown",
   "metadata": {},
   "source": [
    "# Some figures to look at differences between contact definitions for an example protein/s\n",
    "**First import a contacts csv**"
   ]
  },
  {
   "cell_type": "code",
   "execution_count": 6,
   "metadata": {
    "collapsed": false
   },
   "outputs": [],
   "source": [
    "chain_cutoff = 12\n",
    "df_contacts_dict = {}\n",
    "metrics = ['CA', 'CB', 'SCcenter']\n",
    "for metric in metrics:\n",
    "    df_contacts_dict[metric] = {}\n",
    "\n",
    "CA_distance_cutoff = 8\n",
    "total_contacts_via_CA = {}\n",
    "CB_distance_cutoffs = {}\n",
    "SC_distance_cutoffs = {}\n",
    "\n",
    "for metric in metrics[:]:\n",
    "    for contact_file in glob.glob('../Data/Contact_matrices/*_{}_contacts.csv'.format(metric))[:]:\n",
    "        prot_name = contact_file.split('/')[-1].split('_')[0]\n",
    "        total_contacts = 0\n",
    "        cutoff=0\n",
    "        df_contacts = pd.read_csv(contact_file, index_col=0)\n",
    "        df_contacts, df_contacts_stack = process_contacts_df(df_contacts, 12)\n",
    "        if metric == 'CA':\n",
    "            total_contacts = df_contacts_stack[df_contacts_stack['distance']<CA_distance_cutoff]['distance'].count()\n",
    "            total_contacts_via_CA[prot_name] = total_contacts\n",
    "        else:\n",
    "            temp = df_contacts_stack.sort_values('distance')[:total_contacts_via_CA[prot_name]]\n",
    "            cutoff = temp.iloc[total_contacts_via_CA[prot_name]-1]['distance']\n",
    "            if metric == 'CB':\n",
    "                CB_distance_cutoffs[prot_name] = cutoff\n",
    "            elif metric == 'SCcenter':\n",
    "                SC_distance_cutoffs[prot_name] = cutoff\n",
    "        df_contacts_dict[metric][prot_name] = (df_contacts, df_contacts_stack)"
   ]
  },
  {
   "cell_type": "markdown",
   "metadata": {},
   "source": [
    "**Look at all contacts as a heatmap for an example**"
   ]
  },
  {
   "cell_type": "code",
   "execution_count": null,
   "metadata": {
    "collapsed": false
   },
   "outputs": [],
   "source": [
    "prot_name = '1AOE'\n",
    "vmin = 0\n",
    "vmax = 50\n",
    "metric = 'CA'\n",
    "df_contacts = df_contacts_dict[metric][prot_name][0]"
   ]
  },
  {
   "cell_type": "code",
   "execution_count": null,
   "metadata": {
    "collapsed": false
   },
   "outputs": [],
   "source": [
    "fig, ax = plt.subplots(figsize=(4,3))\n",
    "cax = ax.matshow(df_contacts.as_matrix(), vmin=vmin, vmax=vmax)\n",
    "# cax = ax.matshow(df_contacts.as_matrix())\n",
    "ax.grid(False)\n",
    "cbar = fig.colorbar(cax)\n",
    "# cbar.set_label(r'C$\\alpha$ distance (angstroms)', fontsize=12)\n",
    "# cbar.set_label('Side-chain center\\ndistance (angstroms)', fontsize=12)\n",
    "cbar.set_label('Distance (angstroms)', fontsize=12)\n",
    "ax.xaxis.tick_top()\n",
    "plt.locator_params(axis='y', nbins=4)\n",
    "plt.locator_params(axis='x', nbins=4)\n",
    "\n",
    "plt.tick_params(labelsize=12)\n",
    "plt.tight_layout()\n",
    "# plt.savefig('{}/{}_{}_contacts.pdf'.format(figs_dir, prot_name, metric), bbox_inches='tight')"
   ]
  },
  {
   "cell_type": "markdown",
   "metadata": {},
   "source": [
    "**Apply a threshold to only show contacts below a certain distance**"
   ]
  },
  {
   "cell_type": "code",
   "execution_count": null,
   "metadata": {
    "collapsed": false
   },
   "outputs": [],
   "source": [
    "distance_threshold = 8.0\n",
    "binarized_contacts = df_contacts[df_contacts <= distance_threshold]\n",
    "binarized_contacts.mask(binarized_contacts <= distance_threshold, other = 1, inplace=True)\n",
    "fig, ax = plt.subplots(figsize=(4,3))\n",
    "cax = ax.matshow(binarized_contacts.as_matrix(), vmin=0, vmax=vmax)\n",
    "cbar = fig.colorbar(cax)\n",
    "cbar.set_label('Distance (angstroms)', fontsize=12)\n",
    "ax.grid(False)\n",
    "ax.xaxis.tick_top()\n",
    "plt.locator_params(axis='y', nbins=4)\n",
    "plt.locator_params(axis='x', nbins=4)\n",
    "plt.tick_params(labelsize=12)\n",
    "plt.tight_layout()\n",
    "# plt.savefig('{}/{}_{}_binary.pdf'.format(figs_dir, prot_name, metric), bbox_inches='tight')"
   ]
  },
  {
   "cell_type": "markdown",
   "metadata": {},
   "source": [
    "**Apply a filter to remove pairs that are closer than X primary a.a's away from one another**"
   ]
  },
  {
   "cell_type": "code",
   "execution_count": null,
   "metadata": {
    "collapsed": false
   },
   "outputs": [],
   "source": [
    "for index in binarized_contacts.index:\n",
    "    for col in binarized_contacts.columns:\n",
    "        if abs(index-col) < 12:\n",
    "            binarized_contacts.set_value(index, col, np.nan)\n",
    "fig, ax = plt.subplots(figsize=(4,3))\n",
    "cax = ax.matshow(binarized_contacts.as_matrix(), vmin=vmin, vmax=vmax)\n",
    "cbar = fig.colorbar(cax)\n",
    "cbar.set_label('Distance (angstroms)', fontsize=12)\n",
    "ax.grid(False)\n",
    "ax.xaxis.tick_top()\n",
    "plt.tick_params(labelsize=12)\n",
    "plt.locator_params(axis='y', nbins=4)\n",
    "plt.locator_params(axis='x', nbins=4)\n",
    "plt.tight_layout()\n",
    "# plt.savefig('{}/{}_{}_binary_truncated.pdf'.format(figs_dir, prot_name, metric), bbox_inches='tight')"
   ]
  },
  {
   "cell_type": "code",
   "execution_count": null,
   "metadata": {
    "collapsed": false
   },
   "outputs": [],
   "source": []
  },
  {
   "cell_type": "markdown",
   "metadata": {},
   "source": [
    "# Coupling matrices examples\n",
    "**Think that these are for presentation purposes only**"
   ]
  },
  {
   "cell_type": "code",
   "execution_count": null,
   "metadata": {
    "collapsed": false
   },
   "outputs": [],
   "source": [
    "df_couplings = pd.read_csv('../Data/Empirical_couplings/1AOE_A_rp75.plmc.processed.couplings', sep=',')\n",
    "df_couplings_pivot = df_couplings.pivot(index='aa1_loc', columns='aa2_loc', values='couplings').fillna(0)+\\\n",
    "df_couplings.pivot(index='aa2_loc', columns='aa1_loc', values='couplings').fillna(0)"
   ]
  },
  {
   "cell_type": "code",
   "execution_count": null,
   "metadata": {
    "collapsed": false
   },
   "outputs": [],
   "source": [
    "fig, ax = plt.subplots(figsize=(4,3))\n",
    "cax = ax.matshow(df_couplings_pivot.as_matrix())\n",
    "ax.grid(False)\n",
    "cbar = fig.colorbar(cax)\n",
    "cbar.set_label('Coupling score', fontsize=12)\n",
    "ax.xaxis.tick_top()\n",
    "plt.locator_params(axis='y', nbins=4)\n",
    "plt.locator_params(axis='x', nbins=4)\n",
    "\n",
    "plt.tick_params(labelsize=12)\n",
    "plt.tight_layout()\n",
    "plt.savefig('{}/{}_{}_couplings.pdf'.format(figs_dir, prot_name, metric), bbox_inches='tight')"
   ]
  },
  {
   "cell_type": "code",
   "execution_count": null,
   "metadata": {
    "collapsed": true
   },
   "outputs": [],
   "source": [
    "a, b = process_couplings_df(df_couplings, df_contacts, 12)"
   ]
  },
  {
   "cell_type": "code",
   "execution_count": null,
   "metadata": {
    "collapsed": false
   },
   "outputs": [],
   "source": [
    "threshold = min(a.sort_values('couplings', ascending=False)[:int(max(a['aa2_loc']))]['couplings'])\n",
    "\n",
    "df_couplings_pivot = a.pivot(index='aa1_loc', columns='aa2_loc', values='couplings').fillna(0)+\\\n",
    "            a.pivot(index='aa2_loc', columns='aa1_loc', values='couplings').fillna(0)\n",
    "binary = df_couplings_pivot[df_couplings_pivot > threshold]\n",
    "binary.mask(binary > threshold, other=1, inplace=True)\n",
    "fig, ax = plt.subplots(figsize=(4,3))\n",
    "cax = ax.matshow(binary.as_matrix(), vmin=0, vmax=100)\n",
    "cbar = fig.colorbar(cax)\n",
    "cbar.set_label('Coupling score', fontsize=12)\n",
    "ax.grid(False)\n",
    "ax.xaxis.tick_top()\n",
    "# ax.set_yticks([])\n",
    "plt.locator_params(axis='y', nbins=4)\n",
    "plt.locator_params(axis='x', nbins=4)\n",
    "plt.tick_params(labelsize=12)\n",
    "plt.tight_layout()\n",
    "plt.savefig('{}/{}_{}_couplings_binary.pdf'.format(figs_dir, prot_name, metric), bbox_inches='tight')"
   ]
  },
  {
   "cell_type": "markdown",
   "metadata": {},
   "source": [
    "# Lots of proteins"
   ]
  },
  {
   "cell_type": "code",
   "execution_count": 7,
   "metadata": {
    "collapsed": false
   },
   "outputs": [
    {
     "data": {
      "text/plain": [
       "(7.5857596397399902, 7.4709632396697998)"
      ]
     },
     "execution_count": 7,
     "metadata": {},
     "output_type": "execute_result"
    }
   ],
   "source": [
    "np.median(list(CB_distance_cutoffs.values())), np.median(list(SC_distance_cutoffs.values()))"
   ]
  },
  {
   "cell_type": "code",
   "execution_count": 13,
   "metadata": {
    "collapsed": false
   },
   "outputs": [],
   "source": [
    "metrics = ['CB', 'SCcenter']\n",
    "\n",
    "rho_vals = []\n",
    "intersection_vals = []\n",
    "for prot_name in list(df_contacts_dict['CA'].keys())[:]:\n",
    "    \n",
    "    initial_dist = CB_distance_cutoffs[prot_name]\n",
    "#     initial_dist = 8\n",
    "    \n",
    "    first_contacts = df_contacts_dict[metrics[0]][prot_name][1].copy()\n",
    "    second_contacts = df_contacts_dict[metrics[1]][prot_name][1].copy()\n",
    "    assert all(first_contacts.index == second_contacts.index)\n",
    "    assert all(first_contacts['aa1_loc'] == second_contacts['aa1_loc'])\n",
    "    assert all(first_contacts['aa2_loc'] == second_contacts['aa2_loc'])\n",
    "    first_contacts_trunc = first_contacts[first_contacts['distance'] <= initial_dist]\n",
    "    totals = len(first_contacts_trunc.index)\n",
    "    second_contacts_trunc = second_contacts.sort_values('distance')\n",
    "    second_contacts_trunc = second_contacts_trunc.head(totals)\n",
    "    second_contacts_trunc.sort_index(inplace=True)\n",
    "    intersection = len(list(set(first_contacts_trunc.index) & set(second_contacts_trunc.index)))\n",
    "    rho, pval = stats.spearmanr(first_contacts['distance'], second_contacts['distance'])\n",
    "    rho_vals.append(rho)\n",
    "    intersection_vals.append(intersection/totals*100)"
   ]
  },
  {
   "cell_type": "code",
   "execution_count": 14,
   "metadata": {
    "collapsed": false
   },
   "outputs": [
    {
     "name": "stdout",
     "output_type": "stream",
     "text": [
      "150 0.984090947013\n",
      "150 78.2732919255\n"
     ]
    },
    {
     "data": {
      "image/png": "[encoded data removed]",
      "text/plain": [
       "<matplotlib.figure.Figure at 0x12b76b048>"
      ]
     },
     "metadata": {},
     "output_type": "display_data"
    },
    {
     "data": {
      "image/png": "[encoded data removed]",
      "text/plain": [
       "<matplotlib.figure.Figure at 0x12db97f60>"
      ]
     },
     "metadata": {},
     "output_type": "display_data"
    }
   ],
   "source": [
    "print(len(rho_vals), np.median(rho_vals))\n",
    "print(len(intersection_vals), np.median(intersection_vals))\n",
    "fig, ax = plt.subplots(figsize=(4,3))\n",
    "ax.hist(rho_vals,20, color='gray')\n",
    "ax.set_xlabel(r\"Spearman's $\\rho$ (residue-residue distance)\")\n",
    "ax.set_ylabel('Counts')\n",
    "# plt.savefig('{}/contact_correlation_hist_CA_SC.pdf'.format(figs_dir), bbox_inches='tight')\n",
    "plt.savefig('{}/contact_correlation_hist_CB_SC.pdf'.format(figs_dir), bbox_inches='tight')\n",
    "\n",
    "fig, ax = plt.subplots(figsize=(4,3))\n",
    "ax.hist(intersection_vals,20, color='gray')\n",
    "ax.set_xlabel(r\"Contacts % agreement\")\n",
    "ax.set_ylabel('Counts')\n",
    "# plt.savefig('{}/contact_intersection_hist_CA_SC.pdf'.format(figs_dir), bbox_inches='tight')\n",
    "plt.savefig('{}/contact_intersection_hist_CB_SC.pdf'.format(figs_dir), bbox_inches='tight')"
   ]
  },
  {
   "cell_type": "markdown",
   "metadata": {},
   "source": [
    "# Single example protein"
   ]
  },
  {
   "cell_type": "code",
   "execution_count": 29,
   "metadata": {
    "collapsed": false
   },
   "outputs": [
    {
     "name": "stdout",
     "output_type": "stream",
     "text": [
      "0.985986865576 0.7559322033898305\n"
     ]
    }
   ],
   "source": [
    "example_prot = '1AOE'\n",
    "metrics = ['CB', 'SCcenter']\n",
    "# initial_dist = 8\n",
    "initial_dist = CB_distance_cutoffs[example_prot]\n",
    "\n",
    "for prot_name in list(df_contacts_dict['CA'].keys())[:]:\n",
    "    if prot_name != example_prot:\n",
    "        continue\n",
    "    first_contacts = df_contacts_dict[metrics[0]][prot_name][1].copy()\n",
    "    second_contacts = df_contacts_dict[metrics[1]][prot_name][1].copy()\n",
    "    assert all(first_contacts.index == second_contacts.index)\n",
    "    assert all(first_contacts['aa1_loc'] == second_contacts['aa1_loc'])\n",
    "    assert all(first_contacts['aa2_loc'] == second_contacts['aa2_loc'])\n",
    "    first_contacts_trunc = first_contacts[first_contacts['distance'] <= initial_dist]\n",
    "    totals = len(first_contacts_trunc.index)\n",
    "\n",
    "    second_contacts_trunc = second_contacts.sort_values('distance')\n",
    "    second_contacts_trunc = second_contacts_trunc.head(totals)\n",
    "    second_contacts_trunc.sort_index(inplace=True)\n",
    "    intersection = len(list(set(first_contacts_trunc.index) & set(second_contacts_trunc.index)))\n",
    "    rho, pval = stats.spearmanr(first_contacts['distance'], second_contacts['distance'])\n",
    "    print(rho, intersection/len(list(set(first_contacts_trunc.index))))"
   ]
  },
  {
   "cell_type": "code",
   "execution_count": 30,
   "metadata": {
    "collapsed": false
   },
   "outputs": [
    {
     "data": {
      "text/plain": [
       "(7.5009365081787109, 7.3295459747314453)"
      ]
     },
     "execution_count": 30,
     "metadata": {},
     "output_type": "execute_result"
    }
   ],
   "source": [
    "CB_distance_cutoffs[example_prot], SC_distance_cutoffs[example_prot]"
   ]
  },
  {
   "cell_type": "code",
   "execution_count": 31,
   "metadata": {
    "collapsed": true
   },
   "outputs": [],
   "source": [
    "plot_df = pd.merge(first_contacts, second_contacts, left_index=True, right_index=True)"
   ]
  },
  {
   "cell_type": "code",
   "execution_count": 25,
   "metadata": {
    "collapsed": false
   },
   "outputs": [
    {
     "data": {
      "text/plain": [
       "<matplotlib.text.Text at 0x12d64c5f8>"
      ]
     },
     "execution_count": 25,
     "metadata": {},
     "output_type": "execute_result"
    },
    {
     "data": {
      "image/png": "[encoded data removed]",
      "text/plain": [
       "<matplotlib.figure.Figure at 0x12dac8780>"
      ]
     },
     "metadata": {},
     "output_type": "display_data"
    },
    {
     "data": {
      "image/png": "[encoded data removed]",
      "text/plain": [
       "<matplotlib.figure.Figure at 0x12d3de4a8>"
      ]
     },
     "metadata": {},
     "output_type": "display_data"
    }
   ],
   "source": [
    "max_axis_lims = 14\n",
    "x_cutoff = initial_dist\n",
    "y_cutoff = SC_distance_cutoffs[example_prot]\n",
    "textstr = r'$\\rho={0:2.2f}$'.format(rho)\n",
    "props = dict(boxstyle='square', facecolor='white', edgecolor='lightgray', alpha=1)\n",
    "\n",
    "fig, ax = plt.subplots(figsize=(4,3))\n",
    "subset_df = plot_df[(plot_df['distance_x']>x_cutoff) & (plot_df['distance_y']>y_cutoff)]\n",
    "ax.plot(subset_df['distance_x'], subset_df['distance_y'], 'o', color='k', markeredgewidth=0, markersize=2, alpha=0.05, label='_nolegend_')\n",
    "ax.plot([], [], 'o', color='k', markeredgewidth=0, markersize=2, alpha=0.3, label=r'None')\n",
    "subset_df = plot_df[(plot_df['distance_x']<x_cutoff) & (plot_df['distance_y']>y_cutoff)]\n",
    "ax.plot(subset_df['distance_x'], subset_df['distance_y'], 'o', color='steelblue', markeredgewidth=0, markersize=2, alpha=0.5, label=r'C$\\alpha$')\n",
    "subset_df = plot_df[(plot_df['distance_x']>x_cutoff) & (plot_df['distance_y']<y_cutoff)]\n",
    "ax.plot(subset_df['distance_x'], subset_df['distance_y'], 'o', color='darkorange', markeredgewidth=0, markersize=2, alpha=0.5, label=r'Side-chain')\n",
    "subset_df = plot_df[(plot_df['distance_x']<x_cutoff) & (plot_df['distance_y']<y_cutoff)]\n",
    "ax.plot(subset_df['distance_x'], subset_df['distance_y'], 'o', color='purple', markeredgewidth=0, markersize=2, alpha=0.3, label=r'Both')\n",
    "# legend = ax.legend(ncol=2, bbox_to_anchor=(0.05, 1.02, 1., .102), fontsize=12, title='Contact classification')\n",
    "# legend = ax.legend(loc='center left', bbox_to_anchor=(1, 0.5), fontsize=12, title='Contact classification', markerscale=6)\n",
    "# legend.get_title().set_fontsize('12') #legend 'Title' fontsize\n",
    "ax.set_xlabel(r'C$\\alpha$ residue-residue''\\n'r'distance (angstroms)')\n",
    "ax.set_ylabel(r'Side-chain residue-residue''\\n'r'distance (angstroms)')\n",
    "ax.text(0.05, 0.95, textstr, transform=ax.transAxes, fontsize=14,\n",
    "        verticalalignment='top', bbox=props)\n",
    "\n",
    "# plt.savefig('{}/{}_distance_scatter.pdf'.format(figs_dir, example_prot), bbox_inches='tight')\n",
    "\n",
    "fig, ax = plt.subplots(figsize=(4,3))\n",
    "subset_df = plot_df[(plot_df['distance_x']>x_cutoff) & (plot_df['distance_y']>y_cutoff)]\n",
    "ax.plot(subset_df['distance_x'], subset_df['distance_y'], 'o', color='k', markeredgewidth=0, alpha=0.05, label='_nolegend_')\n",
    "ax.plot([], [], 'o', color='k', markeredgewidth=0, alpha=0.3, label=r'None')\n",
    "subset_df = plot_df[(plot_df['distance_x']<x_cutoff) & (plot_df['distance_y']>y_cutoff)]\n",
    "ax.plot(subset_df['distance_x'], subset_df['distance_y'], 'o', color='steelblue', markeredgewidth=0, alpha=0.5, label=r'C$\\alpha$')\n",
    "subset_df = plot_df[(plot_df['distance_x']>x_cutoff) & (plot_df['distance_y']<y_cutoff)]\n",
    "ax.plot(subset_df['distance_x'], subset_df['distance_y'], 'o', color='darkorange', markeredgewidth=0, alpha=0.5, label=r'Side-chain')\n",
    "subset_df = plot_df[(plot_df['distance_x']<x_cutoff) & (plot_df['distance_y']<y_cutoff)]\n",
    "ax.plot(subset_df['distance_x'], subset_df['distance_y'], 'o', color='purple', markeredgewidth=0, alpha=0.3, label=r'Both')\n",
    "# legend = ax.legend(ncol=2, bbox_to_anchor=(0.05, 1.02, 1., .102), fontsize=12, title='Contact classification')\n",
    "legend = ax.legend(loc='center left', bbox_to_anchor=(1, 0.5), fontsize=12, title='Contact classification', markerscale=2)\n",
    "legend.get_title().set_fontsize('12') #legend 'Title' fontsize\n",
    "\n",
    "ax.set_xlabel(r'C$\\alpha$ residue-residue''\\n'r'distance (angstroms)')\n",
    "ax.set_ylabel(r'Side-chain residue-residue''\\n'r'distance (angstroms)')\n",
    "ax.set_xlim(1,max_axis_lims)\n",
    "ax.set_ylim(1,max_axis_lims)\n",
    "\n",
    "textstr1 = r'$n={}$'.format(totals-intersection)\n",
    "props = dict(boxstyle='square', facecolor='white', edgecolor='steelblue', alpha=1)\n",
    "ax.text(0.05, 0.95, textstr1, transform=ax.transAxes, fontsize=14,\n",
    "        verticalalignment='top', bbox=props)\n",
    "\n",
    "textstr2 = r'$n={}$'.format(totals-intersection)\n",
    "props = dict(boxstyle='square', facecolor='white', edgecolor='darkorange', alpha=1)\n",
    "ax.text(0.72, 0.13, textstr2, transform=ax.transAxes, fontsize=14,\n",
    "        verticalalignment='top', bbox=props)\n",
    "\n",
    "textstr3 = r'$n={}$'.format(intersection)\n",
    "props = dict(boxstyle='square', facecolor='white', edgecolor='purple', alpha=1)\n",
    "ax.text(0.05, 0.13, textstr3, transform=ax.transAxes, fontsize=14,\n",
    "        verticalalignment='top', bbox=props)\n",
    "\n",
    "# plt.savefig('{}/{}_contact_scatter.pdf'.format(figs_dir, example_prot), bbox_inches='tight')"
   ]
  },
  {
   "cell_type": "code",
   "execution_count": 33,
   "metadata": {
    "collapsed": false
   },
   "outputs": [
    {
     "data": {
      "image/png": "[encoded data removed]",
      "text/plain": [
       "<matplotlib.figure.Figure at 0x13411e4a8>"
      ]
     },
     "metadata": {},
     "output_type": "display_data"
    }
   ],
   "source": [
    "max_axis_lims = 14\n",
    "x_cutoff = initial_dist\n",
    "y_cutoff = SC_distance_cutoffs[example_prot]\n",
    "\n",
    "\n",
    "textstr = r'$\\rho={0:2.2f}$'.format(rho)\n",
    "props = dict(boxstyle='square', facecolor='white', edgecolor='lightgray', alpha=1)\n",
    "\n",
    "fig, all_ax = plt.subplots(nrows=1, ncols=2,figsize=(8,3))\n",
    "ax = all_ax[0]\n",
    "subset_df = plot_df[(plot_df['distance_x']>x_cutoff) & (plot_df['distance_y']>y_cutoff)]\n",
    "ax.plot(subset_df['distance_x'], subset_df['distance_y'], 'o', color='k', markeredgewidth=0, markersize=2, alpha=0.05, label='_nolegend_')\n",
    "ax.plot([], [], 'o', color='k', markeredgewidth=0, markersize=2, alpha=0.3, label=r'None')\n",
    "subset_df = plot_df[(plot_df['distance_x']<x_cutoff) & (plot_df['distance_y']>y_cutoff)]\n",
    "ax.plot(subset_df['distance_x'], subset_df['distance_y'], 'o', color='steelblue', markeredgewidth=0, markersize=2, alpha=0.5, label=r'C$\\alpha$')\n",
    "subset_df = plot_df[(plot_df['distance_x']>x_cutoff) & (plot_df['distance_y']<y_cutoff)]\n",
    "ax.plot(subset_df['distance_x'], subset_df['distance_y'], 'o', color='darkorange', markeredgewidth=0, markersize=2, alpha=0.5, label=r'Side-chain center')\n",
    "subset_df = plot_df[(plot_df['distance_x']<x_cutoff) & (plot_df['distance_y']<y_cutoff)]\n",
    "ax.plot(subset_df['distance_x'], subset_df['distance_y'], 'o', color='purple', markeredgewidth=0, markersize=2, alpha=0.3, label=r'Both')\n",
    "\n",
    "# ax.set_xlabel(r'C$\\alpha$ residue-residue''\\n'r'distance (angstroms)')\n",
    "ax.set_xlabel(r'C$\\beta$ residue-residue''\\n'r'distance (angstroms)')\n",
    "ax.set_ylabel(r'Side-chain residue-residue''\\n'r'distance (angstroms)')\n",
    "ax.text(0.05, 0.95, textstr, transform=ax.transAxes, fontsize=14,\n",
    "        verticalalignment='top', bbox=props)\n",
    "\n",
    "\n",
    "ax = all_ax[1]\n",
    "subset_df = plot_df[(plot_df['distance_x']>x_cutoff) & (plot_df['distance_y']>y_cutoff)]\n",
    "ax.plot(subset_df['distance_x'], subset_df['distance_y'], 'o', color='k', markeredgewidth=0, alpha=0.05, label='_nolegend_')\n",
    "ax.plot([], [], 'o', color='k', markeredgewidth=0, alpha=0.3, label=r'None')\n",
    "subset_df = plot_df[(plot_df['distance_x']<x_cutoff) & (plot_df['distance_y']>y_cutoff)]\n",
    "ax.plot(subset_df['distance_x'], subset_df['distance_y'], 'o', color='steelblue', markeredgewidth=0, alpha=0.5, label=r'C$\\alpha$')\n",
    "subset_df = plot_df[(plot_df['distance_x']>x_cutoff) & (plot_df['distance_y']<y_cutoff)]\n",
    "ax.plot(subset_df['distance_x'], subset_df['distance_y'], 'o', color='darkorange', markeredgewidth=0, alpha=0.5, label=r'Side-chain center')\n",
    "subset_df = plot_df[(plot_df['distance_x']<x_cutoff) & (plot_df['distance_y']<y_cutoff)]\n",
    "ax.plot(subset_df['distance_x'], subset_df['distance_y'], 'o', color='purple', markeredgewidth=0, alpha=0.3, label=r'Both')\n",
    "legend = ax.legend(ncol=4, bbox_to_anchor=(-0.25, 1.02, 1., .102), fontsize=12, title='Contact classification', markerscale=2)\n",
    "legend.get_title().set_fontsize('12') #legend 'Title' fontsize\n",
    "\n",
    "# ax.set_xlabel(r'C$\\alpha$ residue-residue''\\n'r'distance (angstroms)')\n",
    "ax.set_xlabel(r'C$\\beta$ residue-residue''\\n'r'distance (angstroms)')\n",
    "ax.set_xlim(1,max_axis_lims)\n",
    "ax.set_ylim(1,max_axis_lims)\n",
    "\n",
    "textstr1 = r'$n={}$'.format(totals-intersection)\n",
    "props = dict(boxstyle='square', facecolor='white', edgecolor='steelblue', alpha=1)\n",
    "ax.text(0.05, 0.95, textstr1, transform=ax.transAxes, fontsize=14,\n",
    "        verticalalignment='top', bbox=props)\n",
    "\n",
    "textstr2 = r'$n={}$'.format(totals-intersection)\n",
    "props = dict(boxstyle='square', facecolor='white', edgecolor='darkorange', alpha=1)\n",
    "ax.text(0.72, 0.15, textstr2, transform=ax.transAxes, fontsize=14,\n",
    "        verticalalignment='top', bbox=props)\n",
    "\n",
    "textstr3 = r'$n={}$'.format(intersection)\n",
    "props = dict(boxstyle='square', facecolor='white', edgecolor='purple', alpha=1)\n",
    "ax.text(0.05, 0.15, textstr3, transform=ax.transAxes, fontsize=14,\n",
    "        verticalalignment='top', bbox=props)\n",
    "plt.tight_layout()\n",
    "# plt.savefig('{}/{}_scatter_combined_CA_SC.pdf'.format(figs_dir, example_prot), bbox_inches='tight')\n",
    "plt.savefig('{}/{}_scatter_combined_CB_SC.pdf'.format(figs_dir, example_prot), bbox_inches='tight')"
   ]
  },
  {
   "cell_type": "code",
   "execution_count": null,
   "metadata": {
    "collapsed": true
   },
   "outputs": [],
   "source": []
  },
  {
   "cell_type": "markdown",
   "metadata": {
    "collapsed": true
   },
   "source": [
    "# only used for presentation"
   ]
  },
  {
   "cell_type": "code",
   "execution_count": null,
   "metadata": {
    "collapsed": false
   },
   "outputs": [],
   "source": [
    "max_axis_lims = 14\n",
    "x_cutoff = ca_dist\n",
    "y_cutoff = SC_distance_cutoffs[example_prot]\n",
    "textstr = r'$\\rho={0:2.2f}$'.format(rho)\n",
    "props = dict(boxstyle='square', facecolor='white', edgecolor='lightgray', alpha=1)\n",
    "\n",
    "fig, all_ax = plt.subplots(figsize=(4,3))\n",
    "ax = all_ax\n",
    "# ax = all_ax[0]\n",
    "ax.plot(plot_df['distance_x'], plot_df['distance_y'], 'o', color='k', markeredgewidth=0, markersize=2, alpha=0.2, label='_nolegend_')\n",
    "\n",
    "ax.set_xlabel(r'C$\\alpha$ residue-residue''\\n'r'distance (angstroms)')\n",
    "ax.set_ylabel(r'Side-chain residue-residue''\\n'r'distance (angstroms)')\n",
    "ax.text(0.05, 0.95, textstr, transform=ax.transAxes, fontsize=14,\n",
    "        verticalalignment='top', bbox=props)\n",
    "plt.savefig('{}/{}_pres_example_scatter.pdf'.format(figs_dir, example_prot), bbox_inches='tight')\n",
    "\n",
    "fig, all_ax = plt.subplots(figsize=(4,3))\n",
    "ax = all_ax\n",
    "# ax = all_ax[0]\n",
    "ax.plot(plot_df['distance_x'], plot_df['distance_y'], 'o', color='k', markeredgewidth=0, markersize=5, alpha=0.2, label='_nolegend_')\n",
    "\n",
    "ax.set_xlabel(r'C$\\alpha$ residue-residue''\\n'r'distance (angstroms)')\n",
    "ax.set_ylabel(r'Side-chain residue-residue''\\n'r'distance (angstroms)')\n",
    "ax.set_xlim(0,15)\n",
    "ax.set_ylim(0,15)\n",
    "ax.text(0.05, 0.95, textstr, transform=ax.transAxes, fontsize=14,\n",
    "        verticalalignment='top', bbox=props)\n",
    "# plt.savefig('{}/{}_pres_example_scatter.pdf'.format(figs_dir, example_prot), bbox_inches='tight')\n",
    "\n",
    "\n",
    "\n",
    "\n",
    "fig, all_ax = plt.subplots(figsize=(4,3))\n",
    "ax = all_ax\n",
    "subset_df = plot_df[(plot_df['distance_x']>x_cutoff) & (plot_df['distance_y']>y_cutoff)]\n",
    "ax.plot(subset_df['distance_x'], subset_df['distance_y'], 'o', color='k', markeredgewidth=0, alpha=0.05, label='_nolegend_')\n",
    "ax.plot([], [], 'o', color='k', markeredgewidth=0, alpha=0.3, label=r'None')\n",
    "subset_df = plot_df[(plot_df['distance_x']<x_cutoff) & (plot_df['distance_y']>y_cutoff)]\n",
    "ax.plot(subset_df['distance_x'], subset_df['distance_y'], 'o', color='steelblue', markeredgewidth=0, alpha=0.5, label=r'C$\\alpha$')\n",
    "subset_df = plot_df[(plot_df['distance_x']>x_cutoff) & (plot_df['distance_y']<y_cutoff)]\n",
    "ax.plot(subset_df['distance_x'], subset_df['distance_y'], 'o', color='darkorange', markeredgewidth=0, alpha=0.5, label=r'Side-chain center')\n",
    "subset_df = plot_df[(plot_df['distance_x']<x_cutoff) & (plot_df['distance_y']<y_cutoff)]\n",
    "ax.plot(subset_df['distance_x'], subset_df['distance_y'], 'o', color='purple', markeredgewidth=0, alpha=0.3, label=r'Both')\n",
    "# legend = ax.legend(ncol=4, bbox_to_anchor=(-0.25, 1.02, 1., .102), fontsize=12, title='Contact classification', markerscale=2)\n",
    "legend = ax.legend(loc='center left', bbox_to_anchor=(1, 0.5), fontsize=12, title='Contact classification', markerscale=2)\n",
    "legend.get_title().set_fontsize('12') #legend 'Title' fontsize\n",
    "\n",
    "ax.set_xlabel(r'C$\\alpha$ residue-residue''\\n'r'distance (angstroms)')\n",
    "ax.set_ylabel(r'Side-chain residue-residue''\\n'r'distance (angstroms)')\n",
    "ax.set_xlim(1,max_axis_lims)\n",
    "ax.set_ylim(1,max_axis_lims)\n",
    "\n",
    "textstr1 = r'$n={}$'.format(totals-intersection)\n",
    "props = dict(boxstyle='square', facecolor='white', edgecolor='steelblue', alpha=1)\n",
    "ax.text(0.05, 0.95, textstr1, transform=ax.transAxes, fontsize=14,\n",
    "        verticalalignment='top', bbox=props)\n",
    "\n",
    "textstr2 = r'$n={}$'.format(totals-intersection)\n",
    "props = dict(boxstyle='square', facecolor='white', edgecolor='darkorange', alpha=1)\n",
    "ax.text(0.7, 0.15, textstr2, transform=ax.transAxes, fontsize=14,\n",
    "        verticalalignment='top', bbox=props)\n",
    "\n",
    "textstr3 = r'$n={}$'.format(intersection)\n",
    "props = dict(boxstyle='square', facecolor='white', edgecolor='purple', alpha=1)\n",
    "ax.text(0.05, 0.15, textstr3, transform=ax.transAxes, fontsize=14,\n",
    "        verticalalignment='top', bbox=props)\n",
    "plt.tight_layout()\n",
    "plt.savefig('{}/{}_pres_ex_scatter_zoom.pdf'.format(figs_dir, example_prot), bbox_inches='tight')"
   ]
  },
  {
   "cell_type": "code",
   "execution_count": null,
   "metadata": {
    "collapsed": true
   },
   "outputs": [],
   "source": []
  },
  {
   "cell_type": "markdown",
   "metadata": {},
   "source": [
    "# Scratch"
   ]
  },
  {
   "cell_type": "code",
   "execution_count": null,
   "metadata": {
    "collapsed": false
   },
   "outputs": [],
   "source": [
    "from Bio import PDB\n",
    "\n",
    "\n",
    "clean_pdb_file = '../Data/PDBs/1pv1.clean.pdb'\n",
    "pdb_io = PDB.PDBIO()\n",
    "pdb_parser = PDB.PDBParser()\n",
    "structure = pdb_parser.get_structure(\" \", clean_pdb_file)\n",
    "\n",
    "if len(structure) != 1:\n",
    "    print('THERE APPEARS TO BE MORE THAN ONE MODEL IN THIS STRUCTURE BEHAVIOR OF PRORAM IS UNKNOWN ({}). EXITING'.format(clean_pdb_file))\n",
    "\n",
    "chain_counts = {}\n",
    "for model in structure:\n",
    "    for chain in model:\n",
    "        print(chain.id)\n",
    "        new_number = 1 \n",
    "        for i, residue in enumerate(chain.get_residues()):\n",
    "            res_id = list(residue.id)\n",
    "            if res_id[1] != new_number:\n",
    "                res_id[1] = new_number\n",
    "                residue.id = tuple(res_id)\n",
    "            new_number+=1\n",
    "        chain_counts[chain.id] = new_number\n",
    "\n",
    "chain_to_keep = sorted(chain_counts.items(), key=lambda x: x[1])\n",
    "chain_to_keep = str(chain_to_keep[-1][0])\n",
    "print('##keeping {}'.format(chain_to_keep))\n",
    "\n",
    "# for model in structure:\n",
    "#     for chain in model:\n",
    "#         print(chain.id)\n",
    "#         if chain.id != chain_to_keep:\n",
    "#             print(chain.id)\n",
    "#             model.detach_child(chain.id)\n",
    "#         else:\n",
    "#             print('wtf {}'.format(chain.id))\n",
    "# pdb_io.set_structure(structure)\n"
   ]
  },
  {
   "cell_type": "code",
   "execution_count": null,
   "metadata": {
    "collapsed": false
   },
   "outputs": [],
   "source": [
    "for model in structure:\n",
    "    for chain in model:\n",
    "        print(chain.id)"
   ]
  },
  {
   "cell_type": "code",
   "execution_count": null,
   "metadata": {
    "collapsed": false
   },
   "outputs": [],
   "source": [
    "to_delete = ['A', 'B', 'D']\n",
    "for i,j in enumerate(to_delete):\n",
    "    structure[0].detach_child(to_delete[i])"
   ]
  },
  {
   "cell_type": "code",
   "execution_count": null,
   "metadata": {
    "collapsed": false
   },
   "outputs": [],
   "source": [
    "for model in structure:\n",
    "    for chain in model:\n",
    "        print(chain.id)"
   ]
  },
  {
   "cell_type": "code",
   "execution_count": null,
   "metadata": {
    "collapsed": true
   },
   "outputs": [],
   "source": []
  },
  {
   "cell_type": "code",
   "execution_count": null,
   "metadata": {
    "collapsed": true
   },
   "outputs": [],
   "source": []
  },
  {
   "cell_type": "code",
   "execution_count": null,
   "metadata": {
    "collapsed": true
   },
   "outputs": [],
   "source": []
  },
  {
   "cell_type": "code",
   "execution_count": null,
   "metadata": {
    "collapsed": true
   },
   "outputs": [],
   "source": [
    "stringy = 'ATGCAAAG'\n",
    "listy = [stringy[i:i+3] for i in range(0, len(stringy), 3)]"
   ]
  },
  {
   "cell_type": "code",
   "execution_count": null,
   "metadata": {
    "collapsed": false
   },
   "outputs": [],
   "source": [
    "listy"
   ]
  },
  {
   "cell_type": "code",
   "execution_count": null,
   "metadata": {
    "collapsed": true
   },
   "outputs": [],
   "source": []
  }
 ],
 "metadata": {
  "kernelspec": {
   "display_name": "Python 3",
   "language": "python",
   "name": "python3"
  },
  "language_info": {
   "codemirror_mode": {
    "name": "ipython",
    "version": 3
   },
   "file_extension": ".py",
   "mimetype": "text/x-python",
   "name": "python",
   "nbconvert_exporter": "python",
   "pygments_lexer": "ipython3",
   "version": "3.4.5"
  },
  "toc": {
   "colors": {
    "hover_highlight": "#DAA520",
    "navigate_num": "#000000",
    "navigate_text": "#333333",
    "running_highlight": "#FF0000",
    "selected_highlight": "#FFD700",
    "sidebar_border": "#EEEEEE",
    "wrapper_background": "#FFFFFF"
   },
   "moveMenuLeft": true,
   "nav_menu": {
    "height": "12px",
    "width": "252px"
   },
   "navigate_menu": true,
   "number_sections": true,
   "sideBar": true,
   "threshold": 4,
   "toc_cell": false,
   "toc_section_display": "block",
   "toc_window_display": false,
   "widenNotebook": false
  }
 },
 "nbformat": 4,
 "nbformat_minor": 0
}
