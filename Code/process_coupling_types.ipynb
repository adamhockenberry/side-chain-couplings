{
 "cells": [
  {
   "cell_type": "code",
   "execution_count": 1,
   "metadata": {
    "collapsed": true
   },
   "outputs": [],
   "source": [
    "%matplotlib inline"
   ]
  },
  {
   "cell_type": "code",
   "execution_count": 2,
   "metadata": {
    "collapsed": true
   },
   "outputs": [],
   "source": [
    "import pandas as pd\n",
    "import numpy as np"
   ]
  },
  {
   "cell_type": "markdown",
   "metadata": {},
   "source": [
    "# psicov\n",
    "As of yet I don't know if these are indexed correctly or not. Though annoying, I'm indexing things from one for this project"
   ]
  },
  {
   "cell_type": "code",
   "execution_count": 3,
   "metadata": {
    "collapsed": false
   },
   "outputs": [
    {
     "name": "stdout",
     "output_type": "stream",
     "text": [
      "(4259, 3)\n"
     ]
    },
    {
     "data": {
      "text/html": [
       "<div>\n",
       "<style>\n",
       "    .dataframe thead tr:only-child th {\n",
       "        text-align: right;\n",
       "    }\n",
       "\n",
       "    .dataframe thead th {\n",
       "        text-align: left;\n",
       "    }\n",
       "\n",
       "    .dataframe tbody tr th {\n",
       "        vertical-align: top;\n",
       "    }\n",
       "</style>\n",
       "<table border=\"1\" class=\"dataframe\">\n",
       "  <thead>\n",
       "    <tr style=\"text-align: right;\">\n",
       "      <th></th>\n",
       "      <th>aa1_loc</th>\n",
       "      <th>aa2_loc</th>\n",
       "      <th>couplings</th>\n",
       "    </tr>\n",
       "  </thead>\n",
       "  <tbody>\n",
       "    <tr>\n",
       "      <th>1417</th>\n",
       "      <td>4</td>\n",
       "      <td>11</td>\n",
       "      <td>0.141667</td>\n",
       "    </tr>\n",
       "    <tr>\n",
       "      <th>2140</th>\n",
       "      <td>4</td>\n",
       "      <td>13</td>\n",
       "      <td>-0.018992</td>\n",
       "    </tr>\n",
       "    <tr>\n",
       "      <th>1913</th>\n",
       "      <td>4</td>\n",
       "      <td>17</td>\n",
       "      <td>0.026510</td>\n",
       "    </tr>\n",
       "    <tr>\n",
       "      <th>2586</th>\n",
       "      <td>4</td>\n",
       "      <td>18</td>\n",
       "      <td>-0.101950</td>\n",
       "    </tr>\n",
       "    <tr>\n",
       "      <th>2374</th>\n",
       "      <td>4</td>\n",
       "      <td>26</td>\n",
       "      <td>-0.064009</td>\n",
       "    </tr>\n",
       "  </tbody>\n",
       "</table>\n",
       "</div>"
      ],
      "text/plain": [
       "      aa1_loc  aa2_loc  couplings\n",
       "1417        4       11   0.141667\n",
       "2140        4       13  -0.018992\n",
       "1913        4       17   0.026510\n",
       "2586        4       18  -0.101950\n",
       "2374        4       26  -0.064009"
      ]
     },
     "execution_count": 3,
     "metadata": {},
     "output_type": "execute_result"
    }
   ],
   "source": [
    "psi_cols = ['aa1_loc', 'aa2_loc', 'trash1', 'trash2', 'couplings']\n",
    "df_psi = pd.read_csv('../Data/test.psicov.out', sep=' ', header=None)\n",
    "df_psi.columns = psi_cols\n",
    "df_psi.sort_values(['aa1_loc','aa2_loc'], inplace=True)\n",
    "df_psi.drop(['trash1', 'trash2'], axis=1, inplace=True)\n",
    "assert all(df_psi['aa1_loc'] < df_psi['aa2_loc'])\n",
    "print(df_psi.shape)\n",
    "df_psi.head()"
   ]
  },
  {
   "cell_type": "code",
   "execution_count": 5,
   "metadata": {
    "collapsed": true
   },
   "outputs": [],
   "source": [
    "df_psi.to_csv('../Data/test.psicov.processed.out', index=False)"
   ]
  },
  {
   "cell_type": "code",
   "execution_count": null,
   "metadata": {
    "collapsed": false
   },
   "outputs": [],
   "source": [
    "zO2J*Hh90#7s"
   ]
  },
  {
   "cell_type": "markdown",
   "metadata": {},
   "source": [
    "# plmc"
   ]
  },
  {
   "cell_type": "code",
   "execution_count": 7,
   "metadata": {
    "collapsed": false
   },
   "outputs": [
    {
     "name": "stdout",
     "output_type": "stream",
     "text": [
      "(18336, 3)\n"
     ]
    },
    {
     "data": {
      "text/html": [
       "<div>\n",
       "<style>\n",
       "    .dataframe thead tr:only-child th {\n",
       "        text-align: right;\n",
       "    }\n",
       "\n",
       "    .dataframe thead th {\n",
       "        text-align: left;\n",
       "    }\n",
       "\n",
       "    .dataframe tbody tr th {\n",
       "        vertical-align: top;\n",
       "    }\n",
       "</style>\n",
       "<table border=\"1\" class=\"dataframe\">\n",
       "  <thead>\n",
       "    <tr style=\"text-align: right;\">\n",
       "      <th></th>\n",
       "      <th>aa1_loc</th>\n",
       "      <th>aa2_loc</th>\n",
       "      <th>couplings</th>\n",
       "    </tr>\n",
       "  </thead>\n",
       "  <tbody>\n",
       "    <tr>\n",
       "      <th>18331</th>\n",
       "      <td>189</td>\n",
       "      <td>191</td>\n",
       "      <td>0.146689</td>\n",
       "    </tr>\n",
       "    <tr>\n",
       "      <th>18332</th>\n",
       "      <td>189</td>\n",
       "      <td>192</td>\n",
       "      <td>0.055470</td>\n",
       "    </tr>\n",
       "    <tr>\n",
       "      <th>18333</th>\n",
       "      <td>190</td>\n",
       "      <td>191</td>\n",
       "      <td>0.160212</td>\n",
       "    </tr>\n",
       "    <tr>\n",
       "      <th>18334</th>\n",
       "      <td>190</td>\n",
       "      <td>192</td>\n",
       "      <td>0.056634</td>\n",
       "    </tr>\n",
       "    <tr>\n",
       "      <th>18335</th>\n",
       "      <td>191</td>\n",
       "      <td>192</td>\n",
       "      <td>0.063483</td>\n",
       "    </tr>\n",
       "  </tbody>\n",
       "</table>\n",
       "</div>"
      ],
      "text/plain": [
       "       aa1_loc  aa2_loc  couplings\n",
       "18331      189      191   0.146689\n",
       "18332      189      192   0.055470\n",
       "18333      190      191   0.160212\n",
       "18334      190      192   0.056634\n",
       "18335      191      192   0.063483"
      ]
     },
     "execution_count": 7,
     "metadata": {},
     "output_type": "execute_result"
    }
   ],
   "source": [
    "df_plmc = pd.read_csv('../Data/test.plmc.out', sep=' ', header=None) \n",
    "plmc_cols = ['aa1_loc', 'trash1', 'aa2_loc', 'trash2', 'trash3', 'couplings']\n",
    "df_plmc.columns = plmc_cols\n",
    "df_plmc.drop(['trash1', 'trash2', 'trash3'], axis=1, inplace=True)\n",
    "assert all(df_plmc['aa1_loc'] < df_plmc['aa2_loc'])\n",
    "print(df_plmc.shape)\n",
    "df_plmc.tail()"
   ]
  },
  {
   "cell_type": "code",
   "execution_count": 8,
   "metadata": {
    "collapsed": false
   },
   "outputs": [],
   "source": [
    "df_plmc.to_csv('../Data/test.plmc.processed.out', index=False)"
   ]
  },
  {
   "cell_type": "code",
   "execution_count": null,
   "metadata": {
    "collapsed": true
   },
   "outputs": [],
   "source": []
  },
  {
   "cell_type": "markdown",
   "metadata": {},
   "source": [
    "# ccmpred"
   ]
  },
  {
   "cell_type": "code",
   "execution_count": 9,
   "metadata": {
    "collapsed": false
   },
   "outputs": [
    {
     "name": "stdout",
     "output_type": "stream",
     "text": [
      "(192, 192)\n"
     ]
    },
    {
     "data": {
      "text/html": [
       "<div>\n",
       "<style>\n",
       "    .dataframe thead tr:only-child th {\n",
       "        text-align: right;\n",
       "    }\n",
       "\n",
       "    .dataframe thead th {\n",
       "        text-align: left;\n",
       "    }\n",
       "\n",
       "    .dataframe tbody tr th {\n",
       "        vertical-align: top;\n",
       "    }\n",
       "</style>\n",
       "<table border=\"1\" class=\"dataframe\">\n",
       "  <thead>\n",
       "    <tr style=\"text-align: right;\">\n",
       "      <th></th>\n",
       "      <th>0</th>\n",
       "      <th>1</th>\n",
       "      <th>2</th>\n",
       "      <th>3</th>\n",
       "      <th>4</th>\n",
       "      <th>5</th>\n",
       "      <th>6</th>\n",
       "      <th>7</th>\n",
       "      <th>8</th>\n",
       "      <th>9</th>\n",
       "      <th>...</th>\n",
       "      <th>182</th>\n",
       "      <th>183</th>\n",
       "      <th>184</th>\n",
       "      <th>185</th>\n",
       "      <th>186</th>\n",
       "      <th>187</th>\n",
       "      <th>188</th>\n",
       "      <th>189</th>\n",
       "      <th>190</th>\n",
       "      <th>191</th>\n",
       "    </tr>\n",
       "  </thead>\n",
       "  <tbody>\n",
       "    <tr>\n",
       "      <th>0</th>\n",
       "      <td>NaN</td>\n",
       "      <td>0.230095</td>\n",
       "      <td>0.245068</td>\n",
       "      <td>0.231563</td>\n",
       "      <td>0.174375</td>\n",
       "      <td>0.175616</td>\n",
       "      <td>0.170979</td>\n",
       "      <td>0.138065</td>\n",
       "      <td>0.120619</td>\n",
       "      <td>0.142017</td>\n",
       "      <td>...</td>\n",
       "      <td>0.120641</td>\n",
       "      <td>0.117982</td>\n",
       "      <td>0.124443</td>\n",
       "      <td>0.121796</td>\n",
       "      <td>0.119101</td>\n",
       "      <td>0.120191</td>\n",
       "      <td>0.121852</td>\n",
       "      <td>0.123840</td>\n",
       "      <td>0.121907</td>\n",
       "      <td>0.129479</td>\n",
       "    </tr>\n",
       "    <tr>\n",
       "      <th>1</th>\n",
       "      <td>0.230095</td>\n",
       "      <td>NaN</td>\n",
       "      <td>0.257935</td>\n",
       "      <td>0.222838</td>\n",
       "      <td>0.198324</td>\n",
       "      <td>0.211736</td>\n",
       "      <td>0.162777</td>\n",
       "      <td>0.144902</td>\n",
       "      <td>0.127502</td>\n",
       "      <td>0.137060</td>\n",
       "      <td>...</td>\n",
       "      <td>0.127269</td>\n",
       "      <td>0.124147</td>\n",
       "      <td>0.125096</td>\n",
       "      <td>0.125534</td>\n",
       "      <td>0.121571</td>\n",
       "      <td>0.116544</td>\n",
       "      <td>0.121615</td>\n",
       "      <td>0.119394</td>\n",
       "      <td>0.122804</td>\n",
       "      <td>0.116363</td>\n",
       "    </tr>\n",
       "    <tr>\n",
       "      <th>2</th>\n",
       "      <td>0.245068</td>\n",
       "      <td>0.257935</td>\n",
       "      <td>NaN</td>\n",
       "      <td>0.316771</td>\n",
       "      <td>0.243901</td>\n",
       "      <td>0.246523</td>\n",
       "      <td>0.175585</td>\n",
       "      <td>0.143158</td>\n",
       "      <td>0.149566</td>\n",
       "      <td>0.151508</td>\n",
       "      <td>...</td>\n",
       "      <td>0.130792</td>\n",
       "      <td>0.124972</td>\n",
       "      <td>0.122553</td>\n",
       "      <td>0.129179</td>\n",
       "      <td>0.133117</td>\n",
       "      <td>0.116671</td>\n",
       "      <td>0.134298</td>\n",
       "      <td>0.128650</td>\n",
       "      <td>0.129680</td>\n",
       "      <td>0.128831</td>\n",
       "    </tr>\n",
       "    <tr>\n",
       "      <th>3</th>\n",
       "      <td>0.231563</td>\n",
       "      <td>0.222838</td>\n",
       "      <td>0.316771</td>\n",
       "      <td>NaN</td>\n",
       "      <td>0.395903</td>\n",
       "      <td>0.334049</td>\n",
       "      <td>0.194335</td>\n",
       "      <td>0.146660</td>\n",
       "      <td>0.111863</td>\n",
       "      <td>0.169755</td>\n",
       "      <td>...</td>\n",
       "      <td>0.157687</td>\n",
       "      <td>0.137811</td>\n",
       "      <td>0.134096</td>\n",
       "      <td>0.123885</td>\n",
       "      <td>0.131324</td>\n",
       "      <td>0.118410</td>\n",
       "      <td>0.145247</td>\n",
       "      <td>0.130697</td>\n",
       "      <td>0.136759</td>\n",
       "      <td>0.131359</td>\n",
       "    </tr>\n",
       "    <tr>\n",
       "      <th>4</th>\n",
       "      <td>0.174375</td>\n",
       "      <td>0.198324</td>\n",
       "      <td>0.243901</td>\n",
       "      <td>0.395903</td>\n",
       "      <td>NaN</td>\n",
       "      <td>0.238773</td>\n",
       "      <td>0.274931</td>\n",
       "      <td>0.170736</td>\n",
       "      <td>0.156100</td>\n",
       "      <td>0.168540</td>\n",
       "      <td>...</td>\n",
       "      <td>0.131812</td>\n",
       "      <td>0.127619</td>\n",
       "      <td>0.135669</td>\n",
       "      <td>0.116619</td>\n",
       "      <td>0.134286</td>\n",
       "      <td>0.133513</td>\n",
       "      <td>0.132693</td>\n",
       "      <td>0.137514</td>\n",
       "      <td>0.131835</td>\n",
       "      <td>0.132678</td>\n",
       "    </tr>\n",
       "  </tbody>\n",
       "</table>\n",
       "<p>5 rows × 192 columns</p>\n",
       "</div>"
      ],
      "text/plain": [
       "        0         1         2         3         4         5         6    \\\n",
       "0       NaN  0.230095  0.245068  0.231563  0.174375  0.175616  0.170979   \n",
       "1  0.230095       NaN  0.257935  0.222838  0.198324  0.211736  0.162777   \n",
       "2  0.245068  0.257935       NaN  0.316771  0.243901  0.246523  0.175585   \n",
       "3  0.231563  0.222838  0.316771       NaN  0.395903  0.334049  0.194335   \n",
       "4  0.174375  0.198324  0.243901  0.395903       NaN  0.238773  0.274931   \n",
       "\n",
       "        7         8         9      ...          182       183       184  \\\n",
       "0  0.138065  0.120619  0.142017    ...     0.120641  0.117982  0.124443   \n",
       "1  0.144902  0.127502  0.137060    ...     0.127269  0.124147  0.125096   \n",
       "2  0.143158  0.149566  0.151508    ...     0.130792  0.124972  0.122553   \n",
       "3  0.146660  0.111863  0.169755    ...     0.157687  0.137811  0.134096   \n",
       "4  0.170736  0.156100  0.168540    ...     0.131812  0.127619  0.135669   \n",
       "\n",
       "        185       186       187       188       189       190       191  \n",
       "0  0.121796  0.119101  0.120191  0.121852  0.123840  0.121907  0.129479  \n",
       "1  0.125534  0.121571  0.116544  0.121615  0.119394  0.122804  0.116363  \n",
       "2  0.129179  0.133117  0.116671  0.134298  0.128650  0.129680  0.128831  \n",
       "3  0.123885  0.131324  0.118410  0.145247  0.130697  0.136759  0.131359  \n",
       "4  0.116619  0.134286  0.133513  0.132693  0.137514  0.131835  0.132678  \n",
       "\n",
       "[5 rows x 192 columns]"
      ]
     },
     "execution_count": 9,
     "metadata": {},
     "output_type": "execute_result"
    }
   ],
   "source": [
    "df_ccm_pivot = pd.read_csv('../Data/test.ccmpred.out', sep='\\t', header=None) \n",
    "df_ccm_pivot.drop(max(df_ccm_pivot.columns), axis=1, inplace=True)\n",
    "df_ccm_pivot.values[[np.arange(max(df_ccm_pivot.columns)+1)]*2] = np.nan\n",
    "print(df_ccm_pivot.shape)\n",
    "df_ccm_pivot.head()"
   ]
  },
  {
   "cell_type": "code",
   "execution_count": 10,
   "metadata": {
    "collapsed": false
   },
   "outputs": [],
   "source": [
    "df_ccm = df_ccm_pivot.where(np.triu(np.ones(df_ccm_pivot.shape)).astype(np.bool))\n",
    "df_ccm= df_ccm.stack().reset_index()\n",
    "df_ccm.reset_index(drop=True, inplace=True)\n",
    "df_ccm.columns = ['aa1_loc', 'aa2_loc', 'couplings']\n",
    "df_ccm['aa1_loc'] = df_ccm['aa1_loc'] + 1\n",
    "df_ccm['aa2_loc'] = df_ccm['aa2_loc'] + 1"
   ]
  },
  {
   "cell_type": "code",
   "execution_count": 11,
   "metadata": {
    "collapsed": false
   },
   "outputs": [
    {
     "name": "stdout",
     "output_type": "stream",
     "text": [
      "(18336, 3)\n"
     ]
    },
    {
     "data": {
      "text/html": [
       "<div>\n",
       "<style>\n",
       "    .dataframe thead tr:only-child th {\n",
       "        text-align: right;\n",
       "    }\n",
       "\n",
       "    .dataframe thead th {\n",
       "        text-align: left;\n",
       "    }\n",
       "\n",
       "    .dataframe tbody tr th {\n",
       "        vertical-align: top;\n",
       "    }\n",
       "</style>\n",
       "<table border=\"1\" class=\"dataframe\">\n",
       "  <thead>\n",
       "    <tr style=\"text-align: right;\">\n",
       "      <th></th>\n",
       "      <th>aa1_loc</th>\n",
       "      <th>aa2_loc</th>\n",
       "      <th>couplings</th>\n",
       "    </tr>\n",
       "  </thead>\n",
       "  <tbody>\n",
       "    <tr>\n",
       "      <th>18331</th>\n",
       "      <td>189</td>\n",
       "      <td>191</td>\n",
       "      <td>0.239987</td>\n",
       "    </tr>\n",
       "    <tr>\n",
       "      <th>18332</th>\n",
       "      <td>189</td>\n",
       "      <td>192</td>\n",
       "      <td>0.189563</td>\n",
       "    </tr>\n",
       "    <tr>\n",
       "      <th>18333</th>\n",
       "      <td>190</td>\n",
       "      <td>191</td>\n",
       "      <td>0.202980</td>\n",
       "    </tr>\n",
       "    <tr>\n",
       "      <th>18334</th>\n",
       "      <td>190</td>\n",
       "      <td>192</td>\n",
       "      <td>0.168387</td>\n",
       "    </tr>\n",
       "    <tr>\n",
       "      <th>18335</th>\n",
       "      <td>191</td>\n",
       "      <td>192</td>\n",
       "      <td>0.187289</td>\n",
       "    </tr>\n",
       "  </tbody>\n",
       "</table>\n",
       "</div>"
      ],
      "text/plain": [
       "       aa1_loc  aa2_loc  couplings\n",
       "18331      189      191   0.239987\n",
       "18332      189      192   0.189563\n",
       "18333      190      191   0.202980\n",
       "18334      190      192   0.168387\n",
       "18335      191      192   0.187289"
      ]
     },
     "execution_count": 11,
     "metadata": {},
     "output_type": "execute_result"
    }
   ],
   "source": [
    "print(df_ccm.shape)\n",
    "df_ccm.tail()"
   ]
  },
  {
   "cell_type": "code",
   "execution_count": 12,
   "metadata": {
    "collapsed": true
   },
   "outputs": [],
   "source": [
    "df_ccm.to_csv('../Data/test.ccmpred.processed.out', index=False)"
   ]
  },
  {
   "cell_type": "code",
   "execution_count": null,
   "metadata": {
    "collapsed": true
   },
   "outputs": [],
   "source": []
  }
 ],
 "metadata": {
  "kernelspec": {
   "display_name": "Python 3",
   "language": "python",
   "name": "python3"
  },
  "language_info": {
   "codemirror_mode": {
    "name": "ipython",
    "version": 3
   },
   "file_extension": ".py",
   "mimetype": "text/x-python",
   "name": "python",
   "nbconvert_exporter": "python",
   "pygments_lexer": "ipython3",
   "version": "3.4.5"
  },
  "toc": {
   "colors": {
    "hover_highlight": "#DAA520",
    "navigate_num": "#000000",
    "navigate_text": "#333333",
    "running_highlight": "#FF0000",
    "selected_highlight": "#FFD700",
    "sidebar_border": "#EEEEEE",
    "wrapper_background": "#FFFFFF"
   },
   "moveMenuLeft": true,
   "nav_menu": {
    "height": "66px",
    "width": "252px"
   },
   "navigate_menu": true,
   "number_sections": true,
   "sideBar": true,
   "threshold": 4,
   "toc_cell": false,
   "toc_section_display": "block",
   "toc_window_display": false,
   "widenNotebook": false
  }
 },
 "nbformat": 4,
 "nbformat_minor": 2
}
