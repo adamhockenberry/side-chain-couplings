{
 "cells": [
  {
   "cell_type": "code",
   "execution_count": 1,
   "metadata": {
    "collapsed": false
   },
   "outputs": [],
   "source": [
    "%matplotlib inline"
   ]
  },
  {
   "cell_type": "markdown",
   "metadata": {},
   "source": [
    "# Basic imports"
   ]
  },
  {
   "cell_type": "code",
   "execution_count": 2,
   "metadata": {
    "collapsed": false
   },
   "outputs": [],
   "source": [
    "import pandas as pd\n",
    "import numpy as np\n",
    "from Bio import SeqIO\n",
    "\n",
    "from matplotlib import pyplot as plt\n",
    "from matplotlib.patches import Rectangle\n",
    "\n",
    "\n",
    "from scipy import stats\n",
    "from Bio.Alphabet.IUPAC import IUPACProtein\n",
    "\n",
    "import glob\n",
    "\n",
    "\n",
    "import datetime\n",
    "year = datetime.date.today().year\n",
    "month = datetime.date.today().month\n",
    "\n",
    "import os\n",
    "figs_dir = '../Results/Figures/{}_{:02}'.format(year, month)\n",
    "if not os.path.exists(figs_dir):\n",
    "    os.makedirs(figs_dir)"
   ]
  },
  {
   "cell_type": "code",
   "execution_count": 3,
   "metadata": {
    "collapsed": true
   },
   "outputs": [],
   "source": [
    "import matplotlib\n",
    "matplotlib.rcParams['xtick.labelsize'] = 12\n",
    "matplotlib.rcParams['ytick.labelsize'] = 12\n",
    "matplotlib.rcParams['axes.labelsize'] = 12\n",
    "matplotlib.rcParams['axes.titlesize'] = 12\n",
    "\n",
    "matplotlib.rcParams['axes.grid'] = True\n",
    "matplotlib.rcParams['grid.color'] = '0.5'\n",
    "matplotlib.rcParams['grid.linewidth'] = '0.5'\n",
    "\n",
    "matplotlib.rcParams['axes.edgecolor'] = '0.25'\n",
    "matplotlib.rcParams['xtick.color'] = '0'\n",
    "matplotlib.rcParams['ytick.color'] = '0'\n",
    "\n",
    "matplotlib.rcParams['xtick.major.width'] = 2\n",
    "matplotlib.rcParams['ytick.major.width'] = 2\n",
    "matplotlib.rcParams['ytick.major.size'] = 5\n",
    "matplotlib.rcParams['xtick.major.size'] = 5\n",
    "matplotlib.rcParams['axes.spines.right'] = True\n",
    "matplotlib.rcParams['axes.spines.left'] = True\n",
    "matplotlib.rcParams['axes.spines.top'] = True\n",
    "matplotlib.rcParams['axes.spines.bottom'] = True\n",
    "\n",
    "\n",
    "matplotlib.rcParams['font.family'] = 'sans-serif'\n",
    "matplotlib.rcParams['font.sans-serif'] = 'Helvetica Neue'\n",
    "matplotlib.rcParams['font.weight']='ultralight'\n",
    "matplotlib.rcParams['axes.axisbelow'] = True\n"
   ]
  },
  {
   "cell_type": "markdown",
   "metadata": {},
   "source": [
    "# Functions for parsing couplings and contacts dataframes"
   ]
  },
  {
   "cell_type": "code",
   "execution_count": 4,
   "metadata": {
    "collapsed": true
   },
   "outputs": [],
   "source": [
    "from supporting_functions import *"
   ]
  },
  {
   "cell_type": "markdown",
   "metadata": {},
   "source": [
    "# Single example"
   ]
  },
  {
   "cell_type": "code",
   "execution_count": null,
   "metadata": {
    "collapsed": false,
    "scrolled": true
   },
   "outputs": [],
   "source": [
    "contact_number_modifier = 1\n",
    "chain_cutoff = 12\n",
    "metrics = ['CA', 'CB', 'SCcenter']\n",
    "df_contacts_dict = {}\n",
    "for metric in metrics:\n",
    "    df_contacts_dict[metric] = {}\n",
    "\n",
    "lengths = []\n",
    "sequences = []\n",
    "ppv_dict = {}\n",
    "for metric in metrics:\n",
    "    ppv_dict[metric] = []\n",
    "\n",
    "CA_distance_cutoff = 8\n",
    "CB_distance_cutoffs = []\n",
    "SC_distance_cutoffs = []\n",
    "\n",
    "# couplings_file = '../../Structural_analysis/scratch/ancestral_seq/simulated_pyvolve_jtt_2.couplings'\n",
    "# prot_name = '4kx4'\n",
    "couplings_file = '../../Phylogenetic_couplings/Code/temp.couplings'\n",
    "prot_name = '4kx4'\n",
    "# couplings_file = '../../Structural_analysis/scratch/ancestral_seq/4kx4_noweight_gaps.couplings'\n",
    "# prot_name = '4kx4'\n",
    "# couplings_file = '../../Structural_analysis/scratch/ancestral_seq/raxml_temp.couplings'\n",
    "# prot_name = '4kx4'\n",
    "# couplings_file = '../../Structural_analysis/ecoli_all_pdbs/couplings/4kx4_193_rp75.couplings'\n",
    "# prot_name = couplings_file.split('/')[-1].split('_')[0]\n",
    "print('###', prot_name)\n",
    "total_contacts = 0\n",
    "cutoff=0\n",
    "for metric in metrics:            \n",
    "    df_couplings = pd.read_csv(couplings_file, sep=' ', header=None)\n",
    "    contact_file_loc = '../../Structural_analysis/ecoli_all_pdbs/contact_matrices/{}_{}_contacts.csv'.format(prot_name, metric)\n",
    "    try:\n",
    "        df_contacts = pd.read_csv(contact_file_loc, index_col=0)\n",
    "    except FileNotFoundError:\n",
    "        print(couplings_file)\n",
    "        continue\n",
    "    df_contacts, df_contacts_stack = process_contacts_df(df_contacts, 12)\n",
    "    df_couplings, df_couplings_pivot, df_couplings_stack = process_couplings_df(df_couplings, df_contacts, 12)\n",
    "    records = list(SeqIO.parse('../../Structural_analysis/ecoli_all_pdbs/wt_fastas/{}.fasta'.format(prot_name), 'fasta'))\n",
    "    assert len(records)==1\n",
    "    seq = str(records[0].seq)\n",
    "    merged_df = merge_contacts_couplings(df_contacts_stack, df_couplings_stack, seq)\n",
    "    number_to_test = round(len(df_contacts.index)* contact_number_modifier) \n",
    "    if metric == 'CA':\n",
    "        total_contacts = merged_df[merged_df['distance']<CA_distance_cutoff]['distance'].count()\n",
    "        ppv, counts = ppv_from_df(merged_df, number_to_test, length_cutoff=CA_distance_cutoff)\n",
    "        print(metric, ppv, total_contacts)\n",
    "    else:\n",
    "        temp = df_contacts_stack.sort_values('distance')[:total_contacts]\n",
    "        cutoff = temp.iloc[total_contacts-1]['distance']\n",
    "        ppv, counts = ppv_from_df(merged_df, number_to_test, length_cutoff=cutoff)\n",
    "        print(metric, ppv, len(temp.index), cutoff)\n",
    "        if metric == 'CB':\n",
    "            CB_distance_cutoffs.append(cutoff)\n",
    "        elif metric == 'SCcenter':\n",
    "            SC_distance_cutoffs.append(cutoff)\n",
    "\n",
    "    if metric == 'CA':\n",
    "        lengths.append(len(df_contacts.columns))\n",
    "    df_contacts_dict[metric][prot_name] = df_contacts_stack"
   ]
  },
  {
   "cell_type": "code",
   "execution_count": null,
   "metadata": {
    "collapsed": true
   },
   "outputs": [],
   "source": []
  },
  {
   "cell_type": "markdown",
   "metadata": {},
   "source": [
    "# Iterating through all available\n",
    "**This will take a few minutes to run**"
   ]
  },
  {
   "cell_type": "code",
   "execution_count": 7,
   "metadata": {
    "collapsed": false
   },
   "outputs": [
    {
     "data": {
      "text/html": [
       "<div>\n",
       "<style>\n",
       "    .dataframe thead tr:only-child th {\n",
       "        text-align: right;\n",
       "    }\n",
       "\n",
       "    .dataframe thead th {\n",
       "        text-align: left;\n",
       "    }\n",
       "\n",
       "    .dataframe tbody tr th {\n",
       "        vertical-align: top;\n",
       "    }\n",
       "</style>\n",
       "<table border=\"1\" class=\"dataframe\">\n",
       "  <thead>\n",
       "    <tr style=\"text-align: right;\">\n",
       "      <th></th>\n",
       "      <th>1</th>\n",
       "      <th>2</th>\n",
       "      <th>3</th>\n",
       "      <th>4</th>\n",
       "      <th>5</th>\n",
       "      <th>6</th>\n",
       "      <th>7</th>\n",
       "    </tr>\n",
       "    <tr>\n",
       "      <th>0</th>\n",
       "      <th></th>\n",
       "      <th></th>\n",
       "      <th></th>\n",
       "      <th></th>\n",
       "      <th></th>\n",
       "      <th></th>\n",
       "      <th></th>\n",
       "    </tr>\n",
       "  </thead>\n",
       "  <tbody>\n",
       "    <tr>\n",
       "      <th>1</th>\n",
       "      <td>3f85</td>\n",
       "      <td>86</td>\n",
       "      <td>DONE</td>\n",
       "      <td>FMC1_ECOH1</td>\n",
       "      <td>CFA/I fimbrial subunit B</td>\n",
       "      <td>1.900000e-84</td>\n",
       "      <td>show</td>\n",
       "    </tr>\n",
       "    <tr>\n",
       "      <th>2</th>\n",
       "      <td>4hg0</td>\n",
       "      <td>26734</td>\n",
       "      <td>DONE</td>\n",
       "      <td>I6C1T0_SHIFL</td>\n",
       "      <td>Magnesium and cobalt efflux protein CorC</td>\n",
       "      <td>1.400000e-120</td>\n",
       "      <td>show</td>\n",
       "    </tr>\n",
       "    <tr>\n",
       "      <th>3</th>\n",
       "      <td>4lfu</td>\n",
       "      <td>5824</td>\n",
       "      <td>DONE</td>\n",
       "      <td>A0A1S9JLU1_SHIBO</td>\n",
       "      <td>Transcriptional regulator SdiA</td>\n",
       "      <td>1.000000e-157</td>\n",
       "      <td>show</td>\n",
       "    </tr>\n",
       "    <tr>\n",
       "      <th>4</th>\n",
       "      <td>1dd9</td>\n",
       "      <td>11801</td>\n",
       "      <td>DONE</td>\n",
       "      <td>I2RF52_ECOLX</td>\n",
       "      <td>DNA primase</td>\n",
       "      <td>6.500000e-203</td>\n",
       "      <td>show</td>\n",
       "    </tr>\n",
       "    <tr>\n",
       "      <th>5</th>\n",
       "      <td>2pth</td>\n",
       "      <td>12659</td>\n",
       "      <td>DONE</td>\n",
       "      <td>A0A017IF69_ECOLX</td>\n",
       "      <td>Peptidyl-tRNA hydrolase</td>\n",
       "      <td>1.300000e-127</td>\n",
       "      <td>show</td>\n",
       "    </tr>\n",
       "  </tbody>\n",
       "</table>\n",
       "</div>"
      ],
      "text/plain": [
       "      1      2     3                 4  \\\n",
       "0                                        \n",
       "1  3f85     86  DONE        FMC1_ECOH1   \n",
       "2  4hg0  26734  DONE      I6C1T0_SHIFL   \n",
       "3  4lfu   5824  DONE  A0A1S9JLU1_SHIBO   \n",
       "4  1dd9  11801  DONE      I2RF52_ECOLX   \n",
       "5  2pth  12659  DONE  A0A017IF69_ECOLX   \n",
       "\n",
       "                                          5              6     7  \n",
       "0                                                                 \n",
       "1                  CFA/I fimbrial subunit B   1.900000e-84  show  \n",
       "2  Magnesium and cobalt efflux protein CorC  1.400000e-120  show  \n",
       "3            Transcriptional regulator SdiA  1.000000e-157  show  \n",
       "4                               DNA primase  6.500000e-203  show  \n",
       "5                   Peptidyl-tRNA hydrolase  1.300000e-127  show  "
      ]
     },
     "execution_count": 7,
     "metadata": {},
     "output_type": "execute_result"
    }
   ],
   "source": [
    "hmmer_results_dict = {}\n",
    "hmmer_results_dict['rp75'] =  pd.read_csv('../../Structural_analysis/rp75_phmmer.csv', index_col=0, header=None)\n",
    "hmmer_results_dict['rp55'] =  pd.read_csv('../../Structural_analysis/rp55_phmmer.csv', index_col=0, header=None)\n",
    "hmmer_results_dict['rp35'] =  pd.read_csv('../../Structural_analysis/rp35_phmmer.csv', index_col=0, header=None)\n",
    "hmmer_results_dict['rp15'] =  pd.read_csv('../../Structural_analysis/rp15_phmmer.csv', index_col=0, header=None)\n",
    "\n",
    "\n",
    "hmmer_results_dict['rp75'].head()"
   ]
  },
  {
   "cell_type": "code",
   "execution_count": null,
   "metadata": {
    "collapsed": false,
    "scrolled": true
   },
   "outputs": [],
   "source": [
    "contact_number_modifier = 0.5\n",
    "chain_cutoff = 12\n",
    "metrics = ['CA', 'CB', 'SCcenter'] ###Order here is important, CA has to come first to get distance thresholds for others\n",
    "df_contacts_dict = {}\n",
    "for metric in metrics:\n",
    "    df_contacts_dict[metric] = {}\n",
    "\n",
    "lengths = []\n",
    "sequences = []\n",
    "ppv_dict = {}\n",
    "for metric in metrics:\n",
    "    ppv_dict[metric] = []\n",
    "\n",
    "CA_distance_cutoff = 8\n",
    "CB_distance_cutoffs = {}\n",
    "SC_distance_cutoffs = {}\n",
    "\n",
    "for couplings_file in glob.glob('../../Structural_analysis/ecoli_all_pdbs/couplings/rp75/*.couplings') +\\\n",
    "                        glob.glob('../../Structural_analysis/ecoli_all_pdbs/couplings/rp55/*.couplings') +\\\n",
    "                        glob.glob('../../Structural_analysis/ecoli_all_pdbs/couplings/rp35/*.couplings') +\\\n",
    "                        glob.glob('../../Structural_analysis/ecoli_all_pdbs/couplings/rp15/*.couplings'):\n",
    "    prot_name = couplings_file.split('/')[-1].split('_')[0]\n",
    "    db_name = couplings_file.split('/')[-1].split('_')[2].strip('.couplings')\n",
    "    nseqs = hmmer_results_dict[db_name][hmmer_results_dict[db_name][1]==prot_name].iloc[0][2]\n",
    "    if prot_name in df_contacts_dict[metrics[0]]:\n",
    "        continue\n",
    "    if nseqs < 2000:\n",
    "        continue\n",
    "    print('### {} ({})'.format(prot_name, nseqs))\n",
    "    total_contacts = 0\n",
    "    cutoff=0\n",
    "    for metric in metrics:            \n",
    "        df_couplings = pd.read_csv(couplings_file, sep=' ', header=None)\n",
    "        contact_file_loc = '../Data/Contact_matrices/{}_{}_contacts.csv'.format(prot_name, metric)\n",
    "        try:\n",
    "            df_contacts = pd.read_csv(contact_file_loc, index_col=0)\n",
    "        except FileNotFoundError:\n",
    "            print(couplings_file)\n",
    "            continue\n",
    "        df_contacts, df_contacts_stack = process_contacts_df(df_contacts, 12)\n",
    "        df_couplings, df_couplings_pivot, df_couplings_stack = process_couplings_df(df_couplings, df_contacts, 12)\n",
    "        records = list(SeqIO.parse('../../Structural_analysis/ecoli_all_pdbs/wt_fastas/{}.fasta'.format(prot_name), 'fasta'))\n",
    "        assert len(records)==1\n",
    "        seq = str(records[0].seq)\n",
    "        merged_df = merge_contacts_couplings(df_contacts_stack, df_couplings_stack, seq)\n",
    "\n",
    "\n",
    "        number_to_test = round(len(df_contacts.index)* contact_number_modifier) \n",
    "\n",
    "\n",
    "        if metric == 'CA':\n",
    "            total_contacts = merged_df[merged_df['distance']<CA_distance_cutoff]['distance'].count()\n",
    "            ppv, counts = ppv_from_df(merged_df, number_to_test, length_cutoff=CA_distance_cutoff)\n",
    "            print(metric, ppv, total_contacts)\n",
    "            lengths.append(len(df_contacts.columns))\n",
    "            sequences.append(nseqs)\n",
    "        else:\n",
    "            temp = df_contacts_stack.sort_values('distance')[:total_contacts]\n",
    "            cutoff = temp.iloc[total_contacts-1]['distance']\n",
    "            ppv, counts = ppv_from_df(merged_df, number_to_test, length_cutoff=cutoff)\n",
    "            print(metric, ppv, len(temp.index), cutoff)\n",
    "            if metric == 'CB':\n",
    "                CB_distance_cutoffs[prot_name] = cutoff\n",
    "            elif metric == 'SCcenter':\n",
    "                SC_distance_cutoffs[prot_name] = cutoff\n",
    "                \n",
    "        ppv_dict[metric].append(ppv)\n",
    "        df_contacts_dict[metric][prot_name] = df_contacts_stack"
   ]
  },
  {
   "cell_type": "code",
   "execution_count": null,
   "metadata": {
    "collapsed": false
   },
   "outputs": [],
   "source": []
  },
  {
   "cell_type": "markdown",
   "metadata": {},
   "source": [
    "# Visualizing diffs"
   ]
  },
  {
   "cell_type": "code",
   "execution_count": null,
   "metadata": {
    "collapsed": false
   },
   "outputs": [],
   "source": [
    "fig, ax = plt.subplots(figsize=(4,3))\n",
    "ax.violinplot([ppv_dict[metric] for metric in metrics], showextrema=False);\n",
    "ax.boxplot([ppv_dict[metric] for metric in metrics]);\n",
    "for i in range(len(lengths)):\n",
    "    ax.plot([1,2,3], [ppv_dict['CA'][i], ppv_dict['CB'][i], ppv_dict['SCcenter'][i]], color='gray', alpha=0.2)\n",
    "ax.set_xticklabels([r'C$\\alpha$', r'C$\\beta$', 'Side-chain\\ncenter'])\n",
    "ax.set_ylabel('PPV')\n",
    "plt.savefig('{}/empirical_boxplots.pdf'.format(figs_dir), bbox_inches='tight')"
   ]
  },
  {
   "cell_type": "code",
   "execution_count": null,
   "metadata": {
    "collapsed": false
   },
   "outputs": [],
   "source": [
    "loglog=True\n",
    "\n",
    "fig, ax_arr = plt.subplots(nrows=1, ncols=2, figsize=(8, 2.75))\n",
    "if not loglog:\n",
    "    ax_arr[0].plot(ppv_dict['CA'], ppv_dict['SCcenter'], 'bo')\n",
    "    ax_arr[0].plot([0.1,1], [0.1,1], 'k-')\n",
    "else:\n",
    "    ax_arr[0].loglog(ppv_dict['CA'], ppv_dict['SCcenter'], 'bo')\n",
    "    ax_arr[0].loglog([0.1,1], [0.1,1], 'k-')\n",
    "ax_arr[0].set_xlabel(r'PPV (C$\\alpha$)')\n",
    "ax_arr[0].set_ylabel('PPV (Side-chain center)')\n",
    "deltas = np.array(ppv_dict['SCcenter']) / np.array(ppv_dict['CA'])\n",
    "ax_arr[1].hist(deltas, 15, normed=True)\n",
    "ax_arr[1].axvline(1, color='k')\n",
    "ax_arr[1].set_xlabel(r'PPV ratio''\\n'r'(Side chain center / C$\\alpha$)')\n",
    "print('#################')\n",
    "print('CA vs SC center')\n",
    "print(len(ppv_dict['CA']), np.median(np.array(ppv_dict['SCcenter'])/np.array(ppv_dict['CA'])))\n",
    "print(stats.wilcoxon(ppv_dict['CA'], ppv_dict['SCcenter']))\n",
    "plt.savefig('{}/sc_vs_ca_empirical.pdf'.format(figs_dir), bbox_inches='tight')\n",
    "\n",
    "fig, ax_arr = plt.subplots(nrows=1, ncols=2, figsize=(8,2.75))\n",
    "if not loglog:\n",
    "    ax_arr[0].plot(ppv_dict['CB'], ppv_dict['SCcenter'], 'bo')\n",
    "    ax_arr[0].plot([0.05,0.8], [0.05,0.8], 'k-')\n",
    "else:\n",
    "    ax_arr[0].loglog(ppv_dict['CB'], ppv_dict['SCcenter'], 'bo')\n",
    "    ax_arr[0].loglog([0.05,0.8], [0.05,0.8], 'k-')\n",
    "ax_arr[0].set_xlabel(r'PPV (C$\\beta$)')\n",
    "ax_arr[0].set_ylabel('PPV (Side-chain center)')\n",
    "\n",
    "deltas = np.array(ppv_dict['SCcenter']) / np.array(ppv_dict['CB'])\n",
    "ax_arr[1].hist(deltas, 15, normed=True)\n",
    "ax_arr[1].axvline(1, color='k')\n",
    "ax_arr[1].set_xlabel(r'PPV ratio''\\n'r'(Side chain center / C$\\beta$)')\n",
    "print('#################')\n",
    "print('CB vs SC center')\n",
    "print(len(ppv_dict['CB']), np.median(np.array(ppv_dict['SCcenter'])/np.array(ppv_dict['CB'])))\n",
    "print(stats.wilcoxon(ppv_dict['CB'], ppv_dict['SCcenter']))"
   ]
  },
  {
   "cell_type": "code",
   "execution_count": null,
   "metadata": {
    "collapsed": false
   },
   "outputs": [],
   "source": [
    "metric = 'SCcenter'\n",
    "fig, ax = plt.subplots(figsize=(4,3))\n",
    "ax.plot(sequences, ppv_dict[metric], 'bo')\n",
    "ax.set_xlabel('Sequences in alignemnt')\n",
    "ax.set_ylabel('PPV ({})'.format(metric))\n",
    "print(stats.spearmanr(sequences, ppv_dict[metric]))"
   ]
  },
  {
   "cell_type": "code",
   "execution_count": null,
   "metadata": {
    "collapsed": false
   },
   "outputs": [],
   "source": [
    "fig, ax = plt.subplots(figsize=(4, 2.75))\n",
    "\n",
    "ax.hist(ppv_dict['CA'], 20, color='gray')\n",
    "ax.set_xlabel(r'PPV (C$\\alpha$)')\n",
    "ax.set_ylabel('Counts')\n",
    "plt.savefig('{}/ca_empirical_hist.pdf'.format(figs_dir), bbox_inches='tight')"
   ]
  },
  {
   "cell_type": "code",
   "execution_count": null,
   "metadata": {
    "collapsed": false
   },
   "outputs": [],
   "source": []
  },
  {
   "cell_type": "markdown",
   "metadata": {},
   "source": [
    "# Contact density in structures"
   ]
  },
  {
   "cell_type": "code",
   "execution_count": null,
   "metadata": {
    "collapsed": false,
    "scrolled": true
   },
   "outputs": [],
   "source": [
    "chain_cutoff = 12\n",
    "length_cutoff = 8.\n",
    "\n",
    "lengths = []\n",
    "possible_contacts = []\n",
    "actual_contacts = []\n",
    "all_contact_dists = []\n",
    "for i, contact_file_loc in list(enumerate(glob.glob('../Data/Contact_matrices/*_SCcenter_contacts.csv')))[:]:\n",
    "    df_contacts = pd.read_csv(contact_file_loc, index_col=0)\n",
    "    df_contacts, df_contacts_stack = process_contacts_df(df_contacts, chain_cutoff)\n",
    "    lengths.append(len(df_contacts.index))\n",
    "    all_contact_dists.extend(list(df_contacts_stack['distance']))\n",
    "    actual_contacts.append((df_contacts_stack['distance'] <= length_cutoff).sum())\n",
    "    possible_contacts.append(df_contacts_stack['distance'].count())\n",
    "    if (df_contacts_stack['distance'] <= length_cutoff).sum() < len(df_contacts.index):\n",
    "        print(contact_file_loc, len(df_contacts.index))"
   ]
  },
  {
   "cell_type": "code",
   "execution_count": null,
   "metadata": {
    "collapsed": false
   },
   "outputs": [],
   "source": [
    "fig, ax = plt.subplots()\n",
    "ax.loglog(lengths, possible_contacts, 'bo')\n",
    "ax.set_xlabel('Protein length')\n",
    "ax.set_ylabel('Possible contacts')\n",
    "\n",
    "\n",
    "fig, ax = plt.subplots()\n",
    "ax.loglog(possible_contacts, actual_contacts, 'bo')\n",
    "ax.set_xlabel('Possible contacts')\n",
    "ax.set_ylabel('Actual contacts')\n",
    "\n",
    "fig, ax = plt.subplots()\n",
    "ax.plot(lengths, np.array(actual_contacts)/np.array(possible_contacts), 'bo')\n",
    "ax.set_xlabel('Protein length')\n",
    "ax.set_ylabel('Actual contacts/Possible contacts')\n",
    "\n",
    "fig, ax = plt.subplots()\n",
    "ax.plot(lengths, np.array(actual_contacts)/np.array(lengths), 'bo')\n",
    "ax.set_xlabel('Protein length')\n",
    "ax.set_ylabel('Actual contacts/Protein length')"
   ]
  },
  {
   "cell_type": "code",
   "execution_count": null,
   "metadata": {
    "collapsed": false
   },
   "outputs": [],
   "source": [
    "fig, ax = plt.subplots()\n",
    "ax.axvspan(0, 7, color='k', alpha=0.15)\n",
    "ax.hist(all_contact_dists, 1000);\n",
    "ax.set_xlim(0, 20)\n",
    "# ax.axvline(7, color='k')"
   ]
  },
  {
   "cell_type": "code",
   "execution_count": null,
   "metadata": {
    "collapsed": true
   },
   "outputs": [],
   "source": []
  },
  {
   "cell_type": "code",
   "execution_count": null,
   "metadata": {
    "collapsed": true
   },
   "outputs": [],
   "source": []
  },
  {
   "cell_type": "markdown",
   "metadata": {},
   "source": [
    "# Contact identification differences by metric"
   ]
  },
  {
   "cell_type": "code",
   "execution_count": null,
   "metadata": {
    "collapsed": false
   },
   "outputs": [],
   "source": []
  },
  {
   "cell_type": "markdown",
   "metadata": {},
   "source": [
    "# Amino acid representation in contacts"
   ]
  },
  {
   "cell_type": "code",
   "execution_count": null,
   "metadata": {
    "collapsed": false,
    "scrolled": true
   },
   "outputs": [],
   "source": [
    "contact_number_modifier = 1\n",
    "chain_cutoff = 12\n",
    "cutoff=''\n",
    "\n",
    "# metric='CA'\n",
    "metric='SCcenter'\n",
    "aas = list(IUPACProtein.letters)\n",
    "\n",
    "fp_distances = []\n",
    "all_distances = []\n",
    "\n",
    "successes_aa = {}\n",
    "failures_aa = {}\n",
    "for aa in aas:\n",
    "    successes_aa[aa] = []\n",
    "    failures_aa[aa] = []\n",
    "    \n",
    "prots_analyzed = []    \n",
    "for couplings_file in glob.glob('../Data/Empirical_couplings/rp75/*.couplings') +\\\n",
    "                        glob.glob('../Data/Empirical_couplings/rp55/*.couplings') +\\\n",
    "                        glob.glob('../Data/Empirical_couplings/rp35/*.couplings'):\n",
    "\n",
    "    prot_name = couplings_file.split('/')[-1].split('_')[0]\n",
    "    print(prot_name)\n",
    "    db_name = couplings_file.split('/')[-1].split('_')[2].strip('.couplings')\n",
    "    nseqs = hmmer_results_dict[db_name][hmmer_results_dict[db_name][1]==prot_name].iloc[0][2]\n",
    "    if prot_name in prots_analyzed:\n",
    "        continue\n",
    "    if nseqs < 2000:\n",
    "        continue\n",
    "        \n",
    "    contact_file_loc = '../Data/Contact_matrices/{}_CA_contacts.csv'.format(prot_name, metric)\n",
    "    try:\n",
    "        df_contacts = pd.read_csv(contact_file_loc, index_col=0)\n",
    "    except FileNotFoundError:\n",
    "        continue\n",
    "        \n",
    "    if metric == 'CA':\n",
    "        cutoff = 8\n",
    "    elif metric == 'SCcenter':\n",
    "        cutoff = SC_distance_cutoffs[prot_name]\n",
    "    elif metric == 'CB':\n",
    "        cutoff = CB_distance_cutoffs[prot_name]\n",
    "    \n",
    "    contact_file_loc = '../Data/Contact_matrices/{}_{}_contacts.csv'.format(prot_name, metric)\n",
    "    try:\n",
    "        df_contacts = pd.read_csv(contact_file_loc, index_col=0)\n",
    "    except FileNotFoundError:\n",
    "        continue\n",
    "\n",
    "    df_couplings = pd.read_csv(couplings_file, sep=' ', header=None)    \n",
    "    df_contacts, df_contacts_stack = process_contacts_df(df_contacts, chain_cutoff)\n",
    "    df_couplings, df_couplings_pivot, df_couplings_stack = process_couplings_df(df_couplings, df_contacts, chain_cutoff)\n",
    "    records = list(SeqIO.parse('../../Structural_analysis/ecoli_all_pdbs/wt_fastas/{}.fasta'.format(prot_name), 'fasta'))\n",
    "    assert len(records)==1\n",
    "    seq = str(records[0].seq)\n",
    "    merged_df = merge_contacts_couplings(df_contacts_stack, df_couplings_stack, seq)\n",
    "    \n",
    "    number_to_test = round(len(df_contacts.index)* contact_number_modifier) \n",
    "    tps_df, fps_df, fns_df = errors_from_df(merged_df, number_to_test, cutoff)\n",
    "    \n",
    "    total_contacts += merged_df[merged_df['distance'] <= cutoff]['distance'].count()\n",
    "    \n",
    "    for aa in aas:\n",
    "        tps_aa = tps_df[(tps_df['aa1_aa'] == aa) | (tps_df['aa2_aa'] == aa)]['distance'].count()\n",
    "        tps_total = tps_df['distance'].count()\n",
    "        \n",
    "        temp_df = merged_df[(merged_df['aa1_aa'] == aa) | (merged_df['aa2_aa'] == aa)]\n",
    "        contacts_aa = temp_df[temp_df['distance'] <= cutoff]['distance'].count()        \n",
    "        contacts_total = merged_df[merged_df['distance'] <= cutoff]['distance'].count()\n",
    "        \n",
    "        if contacts_aa > 0:\n",
    "            successes_aa[aa].append((tps_aa/tps_total)/(contacts_aa/contacts_total))\n",
    "            \n",
    "        fps_aa = fps_df[(fps_df['aa1_aa'] == aa) | (fps_df['aa2_aa'] == aa)]['distance'].count()\n",
    "        fps_total = fps_df['distance'].count()\n",
    "        \n",
    "        temp_df = merged_df[(merged_df['aa1_aa'] == aa) | (merged_df['aa2_aa'] == aa)]\n",
    "        contacts_aa = temp_df[temp_df['distance'] > cutoff]['distance'].count()        \n",
    "        contacts_total = merged_df[merged_df['distance'] > cutoff]['distance'].count()\n",
    "        \n",
    "        if contacts_aa > 0:\n",
    "            failures_aa[aa].append((fps_aa/fps_total)/(contacts_aa/contacts_total))\n",
    "    fp_distances.extend(list(fps_df['distance']))\n",
    "    all_distances.extend(list(merged_df['distance']))\n",
    "    prots_analyzed.append(prot_name)"
   ]
  },
  {
   "cell_type": "code",
   "execution_count": null,
   "metadata": {
    "collapsed": false
   },
   "outputs": [],
   "source": [
    "success_labels = []\n",
    "success = []\n",
    "success_stdevs = []\n",
    "success_stderrs = []\n",
    "\n",
    "for aa,vals in successes_aa.items():\n",
    "    success_labels.append(aa)\n",
    "    success.append(np.mean(vals))\n",
    "#     stdevs.append(np.std(vals))\n",
    "#     stderrs.append(np.std(vals)/len(vals))\n",
    "\n",
    "failures_labels = []\n",
    "failures = []\n",
    "failures_stdevs = []\n",
    "failures_stderrs = []\n",
    "for aa,vals in failures_aa.items():\n",
    "    failures_labels.append(aa)\n",
    "    failures.append(np.mean(vals))"
   ]
  },
  {
   "cell_type": "code",
   "execution_count": null,
   "metadata": {
    "collapsed": false
   },
   "outputs": [],
   "source": [
    "fig, all_ax = plt.subplots(nrows=1, ncols=2, figsize=(12,3), sharey=True)\n",
    "ax = all_ax[0]\n",
    "ax.axhline(1, c='k')\n",
    "ax.bar(np.arange(len(success_labels)), success, 0.8)\n",
    "# ax.bar(np.arange(len(rats)), rats, 0.8, yerr=stdevs)\n",
    "ax.set_xticks(np.arange(len(success_labels)))\n",
    "ax.set_xticklabels(success_labels);\n",
    "\n",
    "ax = all_ax[1]\n",
    "ax.axhline(1, c='k')\n",
    "ax.axhline(1, c='k')\n",
    "ax.bar(np.arange(len(failures_labels)), failures, 0.8)\n",
    "# ax.bar(np.arange(len(rats)), rats, 0.8, yerr=stdevs)\n",
    "ax.set_xticks(np.arange(len(failures_labels)))\n",
    "ax.set_xticklabels(failures_labels);\n"
   ]
  },
  {
   "cell_type": "code",
   "execution_count": null,
   "metadata": {
    "collapsed": true
   },
   "outputs": [],
   "source": []
  },
  {
   "cell_type": "code",
   "execution_count": null,
   "metadata": {
    "collapsed": false
   },
   "outputs": [],
   "source": [
    "fig, ax = plt.subplots()\n",
    "ax.hist(fp_distances)\n",
    "print(len([i for i in fp_distances if i < 10]), len(fp_distances))"
   ]
  },
  {
   "cell_type": "code",
   "execution_count": null,
   "metadata": {
    "collapsed": false
   },
   "outputs": [],
   "source": [
    "fig, ax = plt.subplots()\n",
    "ax.hist(all_distances)\n",
    "print(len([i for i in all_distances if i < 10]), len(all_distances))\n"
   ]
  },
  {
   "cell_type": "code",
   "execution_count": null,
   "metadata": {
    "collapsed": true
   },
   "outputs": [],
   "source": []
  },
  {
   "cell_type": "code",
   "execution_count": null,
   "metadata": {
    "collapsed": false
   },
   "outputs": [],
   "source": [
    "fig, ax = plt.subplots()\n",
    "ax.hist(all_distances, 20, normed=True, alpha=0.5)\n",
    "ax.hist(fp_distances, 20, normed=True, alpha=0.5)"
   ]
  },
  {
   "cell_type": "code",
   "execution_count": null,
   "metadata": {
    "collapsed": false
   },
   "outputs": [],
   "source": []
  },
  {
   "cell_type": "code",
   "execution_count": null,
   "metadata": {
    "collapsed": false
   },
   "outputs": [],
   "source": []
  },
  {
   "cell_type": "code",
   "execution_count": null,
   "metadata": {
    "collapsed": true
   },
   "outputs": [],
   "source": []
  },
  {
   "cell_type": "markdown",
   "metadata": {},
   "source": [
    "# Scratch"
   ]
  },
  {
   "cell_type": "code",
   "execution_count": null,
   "metadata": {
    "collapsed": true
   },
   "outputs": [],
   "source": []
  },
  {
   "cell_type": "code",
   "execution_count": null,
   "metadata": {
    "collapsed": true
   },
   "outputs": [],
   "source": []
  },
  {
   "cell_type": "markdown",
   "metadata": {},
   "source": [
    "**comparing angles**"
   ]
  },
  {
   "cell_type": "code",
   "execution_count": 5,
   "metadata": {
    "collapsed": true
   },
   "outputs": [],
   "source": [
    "from collections import defaultdict"
   ]
  },
  {
   "cell_type": "code",
   "execution_count": 36,
   "metadata": {
    "collapsed": false,
    "scrolled": true
   },
   "outputs": [
    {
     "name": "stdout",
     "output_type": "stream",
     "text": [
      "### 3a7r (4807)\n",
      "### 1jl1 (9383)\n",
      "### 1dnl (7932)\n",
      "### 3n37 (6815)\n",
      "### 2ex2 (6594)\n",
      "### 5ghu (3693)\n",
      "### 4d02 (4572)\n",
      "### 1k77 (5990)\n",
      "### 1sur (7766)\n",
      "### 1mug (2475)\n",
      "### 3g7u (8620)\n",
      "### 1qtw (5690)\n",
      "### 1xw8 (6358)\n",
      "### 1m33 (7799)\n"
     ]
    }
   ],
   "source": [
    "contact_number_modifier_list = [2, 1, 0.5]\n",
    "chain_cutoff = 12\n",
    "metrics = ['CA', 'CB', 'SCcenter']\n",
    "\n",
    "angles_ppv_dict = {}\n",
    "for angle in ['both', 'one', 'none']:\n",
    "    angles_ppv_dict[angle] = []\n",
    "\n",
    "CA_distance_cutoff = 8\n",
    "results_dict = defaultdict(list)\n",
    "done = []\n",
    "\n",
    "for couplings_file in glob.glob('../Data/Empirical_couplings/rp75/*.couplings') +\\\n",
    "                        glob.glob('../Data/Empirical_couplings/rp55/*.couplings') +\\\n",
    "                        glob.glob('../Data/Empirical_couplings/rp35/*.couplings') +\\\n",
    "                        glob.glob('../Data/Empirical_couplings/rp15/*.couplings'):\n",
    "    if len(done) > 40:\n",
    "        continue\n",
    "    prot_name = couplings_file.split('/')[-1].split('_')[0]\n",
    "    db_name = couplings_file.split('/')[-1].split('_')[2].strip('.couplings')\n",
    "    nseqs = hmmer_results_dict[db_name][hmmer_results_dict[db_name][1]==prot_name].iloc[0][2]\n",
    "    if prot_name in done:\n",
    "        continue\n",
    "    if nseqs < 2000:\n",
    "        continue\n",
    "    print('### {} ({})'.format(prot_name, nseqs))\n",
    "    total_contacts = 0\n",
    "    cutoff=0\n",
    "    for metric in metrics:\n",
    "        df_couplings = pd.read_csv(couplings_file, sep=' ', header=None)\n",
    "        contact_file_loc = '../Data/Contact_matrices/{}_{}_contacts.csv'.format(prot_name, metric)\n",
    "        try:\n",
    "            df_contacts = pd.read_csv(contact_file_loc, index_col=0)\n",
    "        except FileNotFoundError:\n",
    "            print(\"no contacts file found:\", couplings_file)\n",
    "            continue\n",
    "\n",
    "\n",
    "        df_contacts, df_contacts_stack = process_contacts_df(df_contacts, chain_cutoff)\n",
    "        df_couplings, df_couplings_pivot, df_couplings_stack = process_couplings_df(df_couplings, df_contacts, chain_cutoff)\n",
    "        records = list(SeqIO.parse('../../Structural_analysis/ecoli_all_pdbs/wt_fastas/{}.fasta'.format(prot_name), 'fasta'))\n",
    "        assert len(records)==1\n",
    "        seq = str(records[0].seq)\n",
    "        merged_df = merge_contacts_couplings(df_contacts_stack, df_couplings_stack, seq)\n",
    "\n",
    "\n",
    "        df_angles = pd.read_csv('../Data/Contact_matrices/{}_CA_angles.csv'.format(prot_name), index_col=0)\n",
    "        df_angles.columns = df_angles.columns.astype(int)\n",
    "        df_angles_stack = process_angles_df(df_angles, chain_cutoff)\n",
    "        df_angles_stack['classification'] = 'none'\n",
    "        df_angles_stack['classification'].where(~(df_angles_stack['angles1'] < np.pi/2) & ~(df_angles_stack['angles2'] < np.pi/2), 'one', inplace=True)\n",
    "        df_angles_stack['classification'].where(~(df_angles_stack['angles1'] < np.pi/2) | ~(df_angles_stack['angles2'] < np.pi/2), 'both', inplace=True)\n",
    "        df_angles_stack['classification'].where(~(df_angles_stack['angles1'].isnull()), np.nan, inplace=True)\n",
    "        df_angles_stack['classification'].where(~(df_angles_stack['angles2'].isnull()), np.nan, inplace=True)\n",
    "\n",
    "        merged_df = pd.concat([merged_df, df_angles_stack[['angles1', 'angles2', 'classification']]],\\\n",
    "                              axis=1, join_axes=[merged_df.index])\n",
    "        \n",
    "        for contact_number_modifier in contact_number_modifier_list:\n",
    "            number_to_test = round(len(df_contacts.index)* contact_number_modifier) \n",
    "            temp_df = merged_df[:number_to_test]\n",
    "\n",
    "            temp = temp_df['classification'].value_counts()\n",
    "            results_dict['Couplings_{}'.format(contact_number_modifier)].append(temp['both']/sum(temp))\n",
    "#             results_dict['Couplings_{}'.format(contact_number_modifier)].append((temp['both']+temp['one'])/sum(temp))\n",
    "\n",
    "        if metric == 'CA':\n",
    "            temp = merged_df[merged_df['distance'] < CA_distance_cutoff]['classification'].value_counts()\n",
    "            results_dict[metric].append(temp['both']/sum(temp))\n",
    "#             results_dict[metric].append((temp['both']+temp['one'])/sum(temp))\n",
    "\n",
    "\n",
    "            temp = merged_df['classification'].value_counts()\n",
    "            results_dict['All'].append(temp['both']/sum(temp))\n",
    "#             results_dict['All'].append((temp['both']+temp['one'])/sum(temp))\n",
    "            total_contacts = merged_df[merged_df['distance']<CA_distance_cutoff]['distance'].count()\n",
    "\n",
    "        else:\n",
    "            temp = merged_df.sort_values('distance')[:total_contacts]\n",
    "            temp = temp['classification'].value_counts()\n",
    "            results_dict[metric].append(temp['both']/sum(temp))\n",
    "#             results_dict[metric].append((temp['both']+temp['one'])/sum(temp))\n",
    "        done.append(prot_name)"
   ]
  },
  {
   "cell_type": "code",
   "execution_count": 40,
   "metadata": {
    "collapsed": false
   },
   "outputs": [
    {
     "data": {
      "text/plain": [
       "<matplotlib.text.Text at 0x1199eb198>"
      ]
     },
     "execution_count": 40,
     "metadata": {},
     "output_type": "execute_result"
    },
    {
     "data": {
      "image/png": "[encoded data removed]",
      "text/plain": [
       "<matplotlib.figure.Figure at 0x124e0f0f0>"
      ]
     },
     "metadata": {},
     "output_type": "display_data"
    }
   ],
   "source": [
    "fig, ax = plt.subplots()\n",
    "labels = ['Top 0.5L couplings', 'Top L couplings', 'Top 2L couplings', 'Side-chain center contacts',\\\n",
    "          r'C$\\beta$ contacts', r'C$\\alpha$ contacts', 'All residue-residue pairs']\n",
    "ax.boxplot([results_dict['All'], results_dict['CA'], results_dict['CB'], results_dict['SCcenter'],\\\n",
    "           results_dict['Couplings_2'], results_dict['Couplings_1'], results_dict['Couplings_0.5']][::-1],\\\n",
    "           labels = labels, vert=False);\n",
    "ax.set_xlabel('Fraction of residue-residue pairs with\\nside-chains pointing towards one-another')"
   ]
  },
  {
   "cell_type": "code",
   "execution_count": null,
   "metadata": {
    "collapsed": true
   },
   "outputs": [],
   "source": []
  },
  {
   "cell_type": "code",
   "execution_count": null,
   "metadata": {
    "collapsed": true
   },
   "outputs": [],
   "source": []
  }
 ],
 "metadata": {
  "kernelspec": {
   "display_name": "Python 3",
   "language": "python",
   "name": "python3"
  },
  "language_info": {
   "codemirror_mode": {
    "name": "ipython",
    "version": 3
   },
   "file_extension": ".py",
   "mimetype": "text/x-python",
   "name": "python",
   "nbconvert_exporter": "python",
   "pygments_lexer": "ipython3",
   "version": "3.4.5"
  },
  "toc": {
   "colors": {
    "hover_highlight": "#DAA520",
    "navigate_num": "#000000",
    "navigate_text": "#333333",
    "running_highlight": "#FF0000",
    "selected_highlight": "#FFD700",
    "sidebar_border": "#EEEEEE",
    "wrapper_background": "#FFFFFF"
   },
   "moveMenuLeft": true,
   "nav_menu": {
    "height": "12px",
    "width": "252px"
   },
   "navigate_menu": true,
   "number_sections": true,
   "sideBar": true,
   "threshold": 4,
   "toc_cell": false,
   "toc_section_display": "block",
   "toc_window_display": false,
   "widenNotebook": false
  }
 },
 "nbformat": 4,
 "nbformat_minor": 0
}
