{
 "cells": [
  {
   "cell_type": "code",
   "execution_count": 1,
   "metadata": {
    "collapsed": true
   },
   "outputs": [],
   "source": [
    "%matplotlib inline"
   ]
  },
  {
   "cell_type": "code",
   "execution_count": 2,
   "metadata": {
    "collapsed": true
   },
   "outputs": [],
   "source": [
    "from Bio.PDB import PDBParser\n",
    "from Bio.PDB.Polypeptide import is_aa, three_to_one\n",
    "import scipy.spatial\n",
    "import pandas as pd\n",
    "import numpy as np\n",
    "import glob\n",
    "import shutil"
   ]
  },
  {
   "cell_type": "code",
   "execution_count": 3,
   "metadata": {
    "collapsed": true
   },
   "outputs": [],
   "source": [
    "def process_residue(residue):\n",
    "    '''\n",
    "    Processes a single residue to determine the coordinates of the alpha-carbon\n",
    "    and the sidechain center-of-mass. Also checks for missing atoms in a\n",
    "    residue.\n",
    "    (This is directly from Ben's code with slight modifications for Glycine)--AJH\n",
    "    '''\n",
    "    output_dict = {}\n",
    "    atoms_seen = []\n",
    "    # Convert three letter amino acid to one letter\n",
    "    try:\n",
    "        output_dict['amino_acid'] = three_to_one(residue.resname)\n",
    "    except KeyError:\n",
    "        return 'Error'\n",
    "    \n",
    "    # Grab residue number AND any insertion site labeling (11A, 11B, etc.)\n",
    "    output_dict['residue'] = str(residue.get_id()[1]) + \\\n",
    "                             residue.get_id()[2].strip()\n",
    "    output_dict['chain'] = residue.get_full_id()[2]\n",
    "    try:\n",
    "        int(output_dict['residue'])\n",
    "    except:\n",
    "        return 'Error'\n",
    "    \n",
    "    # Coordinates of all sidechain atoms in this residue\n",
    "    sidechain_coords = []\n",
    "    for atom in residue:\n",
    "        atoms_seen.append(atom.name)\n",
    "        if atom.name == 'CA':\n",
    "            # Save alpha-carbon coordinates\n",
    "            output_dict['CA'] = atom.get_coord()\n",
    "            \n",
    "        ######################################################\n",
    "        #AJH: code to add CB and to make exceptions for Glycine\n",
    "            if residue.resname=='GLY':\n",
    "                output_dict['CB'] = atom.get_coord()\n",
    "                \n",
    "        if atom.name == 'CB':\n",
    "            # Save beta-carbon coordinates\n",
    "            output_dict['CB'] = atom.get_coord()\n",
    "        ######################################################\n",
    "\n",
    "        if atom.name not in ['C', 'CA', 'O', 'N']:\n",
    "            # Must be a sidechain atom...\n",
    "            sidechain_coords.append(atom.get_coord())\n",
    "            \n",
    "    if 'CA' not in output_dict or 'CB' not in output_dict:\n",
    "        return 'Error'\n",
    "    \n",
    "    for mainchain_atom in ['N', 'C', 'O']:\n",
    "        # Warn about any missing mainchain atoms\n",
    "        if mainchain_atom not in atoms_seen:\n",
    "            return 'Error'\n",
    "\n",
    "    if len(sidechain_coords) == 0:\n",
    "        if output_dict['amino_acid'] == 'G':\n",
    "            sidechain_coords.append(output_dict['CA'])\n",
    "        else:\n",
    "            return 'Error'\n",
    "    # Calculate side chain center of mass\n",
    "    output_dict['SCcenter'] = sum(sidechain_coords)/\\\n",
    "                                      len(sidechain_coords)\n",
    "    \n",
    "    return output_dict\n",
    "\n",
    "\n",
    "def process_residue_complete(residue):\n",
    "    '''\n",
    "    Thisis a temporary test function\n",
    "    '''\n",
    "    output_dict = {}\n",
    "    atoms_seen = []\n",
    "    # Convert three letter amino acid to one letter\n",
    "    try:\n",
    "        output_dict['amino_acid'] = three_to_one(residue.resname)\n",
    "    except KeyError:\n",
    "        return 'Error'\n",
    "    \n",
    "    # Grab residue number AND any insertion site labeling (11A, 11B, etc.)\n",
    "    output_dict['residue'] = str(residue.get_id()[1]) + \\\n",
    "                             residue.get_id()[2].strip()\n",
    "    output_dict['chain'] = residue.get_full_id()[2]\n",
    "    try:\n",
    "        int(output_dict['residue'])\n",
    "    except:\n",
    "        return 'Error'\n",
    "    \n",
    "    # Coordinates of all atoms in this residue\n",
    "    all_atom_coords = []\n",
    "    sidechain_coords = []\n",
    "    for atom in residue:\n",
    "        atoms_seen.append(atom.name)\n",
    "        if output_dict['amino_acid'] == 'G':\n",
    "            if atom.name == 'CA':\n",
    "                sidechain_coords.append(atom.get_coord())\n",
    "        \n",
    "        all_atom_coords.append(atom.get_coord())\n",
    "        \n",
    "        if atom.name not in ['C', 'CA', 'O', 'N']:\n",
    "            # Must be a sidechain atom...\n",
    "            sidechain_coords.append(atom.get_coord())\n",
    "\n",
    "    # Calculate side chain center of mass\n",
    "    output_dict['all_atoms'] = all_atom_coords\n",
    "    output_dict['sc_atoms'] = sidechain_coords\n",
    "    \n",
    "    return output_dict\n",
    "\n",
    "\n",
    "def unit_vector(vector):\n",
    "    ''' Returns the unit vector of the vector.'''\n",
    "    return vector / np.linalg.norm(vector)\n",
    "\n",
    "def angle_between(v1, v2):\n",
    "    '''\n",
    "    Returns the angle in radians between vectors 'v1' and 'v2':\n",
    "    \n",
    "            >>> angle_between((1, 0, 0), (0, 1, 0))\n",
    "            1.5707963267948966\n",
    "            >>> angle_between((1, 0, 0), (1, 0, 0))\n",
    "            0.0\n",
    "            >>> angle_between((1, 0, 0), (-1, 0, 0))\n",
    "            3.141592653589793\n",
    "    '''\n",
    "\n",
    "    v1_u = unit_vector(v1)\n",
    "    v2_u = unit_vector(v2)\n",
    "    return np.arccos(np.clip(np.dot(v1_u, v2_u), -1.0, 1.0))"
   ]
  },
  {
   "cell_type": "markdown",
   "metadata": {},
   "source": [
    "# Writing distance matrices identified by different amino acid reference points"
   ]
  },
  {
   "cell_type": "markdown",
   "metadata": {},
   "source": [
    "The initial input should be a \"cleaned\" PDB file of the type that is used directly for simulations, which is to say properly numbered 1...len(amino acid sequence), no random (het) atoms, single chain, etc."
   ]
  },
  {
   "cell_type": "code",
   "execution_count": 4,
   "metadata": {
    "collapsed": false
   },
   "outputs": [
    {
     "name": "stdout",
     "output_type": "stream",
     "text": [
      "###################################################\n",
      "../Data/PDBs/1FCY_A.pdb\n",
      "###################################################\n",
      "1FCY_A.pdb\n",
      "Protein length is 236 amino acids\n",
      "ASPQLEELITKVSKAHQETFPSLCQLGKYTTNSSADHRVQLDLGLWDKFSELATKCIIKIVEFAKRLPGFTGLSIADQITLLKAACLDILMLRICTRYTPEQDTMTFSDGLTLNRTQMHNAGFGPLTDLVFAFAGQLLPLEMDDTETGLLSAICLICGDRMDLEEPEKVDKLQEPLLEALRLYARRRRPSQPYMFPRMLMKITDLRGISTKGAERAITLKMEIPGPMPPLIREMLE\n",
      "CA\n",
      "Working on angles\n",
      "SCcenter\n",
      "CB\n"
     ]
    }
   ],
   "source": [
    "error_pdbs = [] ### Keep track of pdb's where weird things happened to investigate\n",
    "for infile_loc in glob.glob('../Data/PDBs/*.pdb')[:]: #Iterating through a bunch of files\n",
    "    print(\"###################################################\")\n",
    "    print(infile_loc)\n",
    "    print(\"###################################################\")\n",
    "    prot_name = infile_loc.split('/')[-1].replace('.rosetta.pdb', '')\n",
    "    print(prot_name)\n",
    "    structure = PDBParser().get_structure(prot_name, infile_loc)\n",
    "\n",
    "    ###Get residue coordinates\n",
    "    residues = []\n",
    "    for residue in structure.get_residues():\n",
    "        if is_aa(residue):\n",
    "            temp = process_residue(residue)\n",
    "            residues.append(temp)\n",
    "            \n",
    "    if 'Error' in residues:\n",
    "        error_pdbs.append(infile_loc)\n",
    "        continue\n",
    "    residues = sorted(residues, key=lambda x: int(x['residue']))\n",
    "    \n",
    "    ###Get the overall amino acid sequence. Know there are much more efficient ways than this.\n",
    "    aa_seq_from_structure = sorted([(i['amino_acid'], int(i['residue'])) for i in residues], key=lambda x: x[1])\n",
    "    aa_seq_from_structure = ''.join([i[0] for i in aa_seq_from_structure])\n",
    "    print('Protein length is {} amino acids'.format(len(aa_seq_from_structure)))\n",
    "    print(aa_seq_from_structure)\n",
    "    ###Write the amino acid sequence to a fasta\n",
    "    with open(infile_loc.replace('PDBs/', 'fastas/').replace('.pdb', '.fasta'), 'w') as outfile:\n",
    "        outfile.write('>{}\\n'.format(prot_name))\n",
    "        outfile.write('{}'.format(aa_seq_from_structure))\n",
    "    \n",
    "    \n",
    "    ###On to contact matrices\n",
    "    for calculation in ['CA', 'SCcenter', 'CB']: #Writing three different contact matrices\n",
    "        print(calculation)\n",
    "        numbering = list(range(1, len(aa_seq_from_structure)+1))\n",
    "        df_contacts = pd.DataFrame(index=numbering, columns=numbering) ###Set up empty df for contact dists\n",
    "        for i, residue in enumerate(residues):\n",
    "            for j, other_residue in enumerate(residues):\n",
    "                contact_dist = scipy.spatial.distance.euclidean(residue[calculation],other_residue[calculation])\n",
    "                df_contacts.set_value(i+1, j+1, contact_dist)\n",
    "        contact_file = infile_loc.replace('.pdb', '_{}_contacts.csv'.format(calculation))\n",
    "        df_contacts.to_csv(contact_file)\n",
    "        \n",
    "        ###Separate code to get a matrix of side chain angles\n",
    "        if calculation == 'CA':\n",
    "            print('Working on angles')\n",
    "            numbering = list(range(1, len(aa_seq_from_structure)+1))\n",
    "            df_angles = pd.DataFrame(index=numbering, columns=numbering)\n",
    "            for i, residue in enumerate(residues):\n",
    "                for j, other_residue in enumerate(residues):\n",
    "                    if residue['amino_acid'] != 'G' and i != j:\n",
    "                        point1 = np.array(other_residue['CA'])\n",
    "                        point2 = np.array(residue['SCcenter'])\n",
    "                        vertex = np.array(residue['CA'])\n",
    "                        v1 = point1 - vertex\n",
    "                        v2 = point2 - vertex\n",
    "                        angle = angle_between(v1, v2)\n",
    "                    else:\n",
    "                        angle = np.nan\n",
    "                    df_angles.set_value(i+1, j+1, angle)\n",
    "            angles_file = infile_loc.replace('/PDBs/', '/Contact_matrices/').replace('.rosetta', '')\n",
    "            angles_file = angles_file.replace('.pdb', '_{}_angles.csv'.format(calculation))\n",
    "            df_angles.to_csv(angles_file)"
   ]
  },
  {
   "cell_type": "code",
   "execution_count": null,
   "metadata": {
    "collapsed": false
   },
   "outputs": [],
   "source": [
    "print(error_pdbs)"
   ]
  },
  {
   "cell_type": "code",
   "execution_count": null,
   "metadata": {
    "collapsed": true
   },
   "outputs": [],
   "source": [
    "for pdb_file in error_pdbs:\n",
    "    print(pdb_file)\n",
    "    shutil.move(pdb_file, pdb_file.replace('/PDBs/', '/PDBs/unknown_errors/'))"
   ]
  },
  {
   "cell_type": "markdown",
   "metadata": {},
   "source": [
    "# Writing distance matrices identified by minimum atomic distance"
   ]
  },
  {
   "cell_type": "code",
   "execution_count": 5,
   "metadata": {
    "collapsed": false
   },
   "outputs": [
    {
     "name": "stdout",
     "output_type": "stream",
     "text": [
      "###################################################\n",
      "../Data/PDBs/1EK0_A.rosetta.pdb\n",
      "###################################################\n",
      "1EK0_A\n",
      "Protein length is 168 amino acids\n",
      "VTSIKLVLLGEAAVGKSSIVLRFVSNDFAENKEPTIGAAFLTQRVTINEHTVKFEIWDTAGQERFASLAPYYRNAQAALVVYDVTKPQSFIKARHWVKELHEQASKDIIIALVGNKIDLQEGGERKVAREEGEKLAEEKGLLFFETSAKTGENVNDVFLGIGEKIPLK\n",
      "all_atoms\n",
      "sc_atoms\n"
     ]
    }
   ],
   "source": [
    "error_pdbs_v2 = []\n",
    "for infile_loc in glob.glob('../Data/PDBs/*rosetta.pdb')[:]: #Iterating through a bunch of files\n",
    "    print(\"###################################################\")\n",
    "    print(infile_loc)\n",
    "    print(\"###################################################\")\n",
    "    prot_name = infile_loc.split('/')[-1].replace('.rosetta.pdb', '')\n",
    "    print(prot_name)\n",
    "    structure = PDBParser().get_structure(prot_name, infile_loc)\n",
    "\n",
    "    ###Get residue coordinates\n",
    "    residues = []\n",
    "    for residue in structure.get_residues():\n",
    "        if is_aa(residue):\n",
    "            temp = process_residue_complete(residue)\n",
    "            residues.append(temp)\n",
    "            \n",
    "    if 'Error' in residues:\n",
    "        error_pdbs_v2.append(infile_loc)\n",
    "        continue\n",
    "    residues = sorted(residues, key=lambda x: int(x['residue']))\n",
    "    \n",
    "    ###Get the overall amino acid sequence. Know there are much more efficient ways than this.\n",
    "    aa_seq_from_structure = sorted([(i['amino_acid'], int(i['residue'])) for i in residues], key=lambda x: x[1])\n",
    "    aa_seq_from_structure = ''.join([i[0] for i in aa_seq_from_structure])\n",
    "    print('Protein length is {} amino acids'.format(len(aa_seq_from_structure)))\n",
    "    print(aa_seq_from_structure)\n",
    "    \n",
    "    for calculation in ['all_atoms', 'sc_atoms']: #Writing three different contact matrices\n",
    "        print(calculation)\n",
    "        numbering = list(range(1, len(aa_seq_from_structure)+1))\n",
    "        df_contacts = pd.DataFrame(index=numbering, columns=numbering) ###Set up empty df for contact dists\n",
    "        for i, residue in enumerate(residues):\n",
    "            for j, other_residue in enumerate(residues):\n",
    "                contact_dist = np.min(scipy.spatial.distance.cdist(\\\n",
    "                                residue[calculation], other_residue[calculation], 'euclidean'))   \n",
    "                df_contacts.set_value(i+1, j+1, contact_dist)\n",
    "        contact_file = infile_loc.replace('/PDBs/', '/Contact_matrices/').replace('.rosetta', '')\n",
    "        contact_file = contact_file.replace('.pdb', '_{}_contacts.csv'.format(calculation+'_min'))\n",
    "        df_contacts.to_csv(contact_file)"
   ]
  },
  {
   "cell_type": "code",
   "execution_count": null,
   "metadata": {
    "collapsed": true
   },
   "outputs": [],
   "source": []
  },
  {
   "cell_type": "code",
   "execution_count": null,
   "metadata": {
    "collapsed": true
   },
   "outputs": [],
   "source": []
  },
  {
   "cell_type": "code",
   "execution_count": null,
   "metadata": {
    "collapsed": true
   },
   "outputs": [],
   "source": []
  },
  {
   "cell_type": "code",
   "execution_count": null,
   "metadata": {
    "collapsed": true
   },
   "outputs": [],
   "source": []
  }
 ],
 "metadata": {
  "kernelspec": {
   "display_name": "Python 3",
   "language": "python",
   "name": "python3"
  },
  "language_info": {
   "codemirror_mode": {
    "name": "ipython",
    "version": 3
   },
   "file_extension": ".py",
   "mimetype": "text/x-python",
   "name": "python",
   "nbconvert_exporter": "python",
   "pygments_lexer": "ipython3",
   "version": "3.4.5"
  },
  "toc": {
   "colors": {
    "hover_highlight": "#DAA520",
    "navigate_num": "#000000",
    "navigate_text": "#333333",
    "running_highlight": "#FF0000",
    "selected_highlight": "#FFD700",
    "sidebar_border": "#EEEEEE",
    "wrapper_background": "#FFFFFF"
   },
   "moveMenuLeft": true,
   "nav_menu": {
    "height": "49px",
    "width": "252px"
   },
   "navigate_menu": true,
   "number_sections": true,
   "sideBar": true,
   "threshold": 4,
   "toc_cell": false,
   "toc_section_display": "block",
   "toc_window_display": false,
   "widenNotebook": false
  }
 },
 "nbformat": 4,
 "nbformat_minor": 2
}
